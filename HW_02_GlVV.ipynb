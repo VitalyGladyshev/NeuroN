{
 "cells": [
  {
   "cell_type": "markdown",
   "metadata": {},
   "source": [
    "# ДЗ №2"
   ]
  },
  {
   "cell_type": "code",
   "execution_count": 1,
   "metadata": {},
   "outputs": [
    {
     "name": "stderr",
     "output_type": "stream",
     "text": [
      "Using TensorFlow backend.\n"
     ]
    }
   ],
   "source": [
    "import numpy as np\n",
    "\n",
    "import keras\n",
    "from keras.datasets import mnist\n",
    "\n",
    "from keras.models import Sequential\n",
    "from keras.layers import Dense\n",
    "from keras.utils import to_categorical\n",
    "\n",
    "from sklearn.metrics import accuracy_score\n",
    "\n",
    "import matplotlib.pyplot as plt"
   ]
  },
  {
   "cell_type": "code",
   "execution_count": 2,
   "metadata": {},
   "outputs": [],
   "source": [
    "# from silence_tensorflow import silence_tensorflow\n",
    "# silence_tensorflow()"
   ]
  },
  {
   "cell_type": "markdown",
   "metadata": {},
   "source": [
    "## Исходный вариант сети"
   ]
  },
  {
   "cell_type": "markdown",
   "metadata": {},
   "source": [
    "1. Получение данных"
   ]
  },
  {
   "cell_type": "code",
   "execution_count": 3,
   "metadata": {},
   "outputs": [],
   "source": [
    "(train_images, train_labels), (test_images, test_labels) = keras.datasets.fashion_mnist.load_data()"
   ]
  },
  {
   "cell_type": "code",
   "execution_count": 4,
   "metadata": {},
   "outputs": [
    {
     "name": "stdout",
     "output_type": "stream",
     "text": [
      "(60000, 28, 28)\n"
     ]
    },
    {
     "data": {
      "text/plain": [
       "array([[[0, 0, 0, ..., 0, 0, 0],\n",
       "        [0, 0, 0, ..., 0, 0, 0],\n",
       "        [0, 0, 0, ..., 0, 0, 0],\n",
       "        ...,\n",
       "        [0, 0, 0, ..., 0, 0, 0],\n",
       "        [0, 0, 0, ..., 0, 0, 0],\n",
       "        [0, 0, 0, ..., 0, 0, 0]],\n",
       "\n",
       "       [[0, 0, 0, ..., 0, 0, 0],\n",
       "        [0, 0, 0, ..., 0, 0, 0],\n",
       "        [0, 0, 0, ..., 0, 0, 0],\n",
       "        ...,\n",
       "        [0, 0, 0, ..., 0, 0, 0],\n",
       "        [0, 0, 0, ..., 0, 0, 0],\n",
       "        [0, 0, 0, ..., 0, 0, 0]]], dtype=uint8)"
      ]
     },
     "execution_count": 4,
     "metadata": {},
     "output_type": "execute_result"
    }
   ],
   "source": [
    "print(train_images.shape)\n",
    "train_images[:2]"
   ]
  },
  {
   "cell_type": "code",
   "execution_count": 5,
   "metadata": {},
   "outputs": [
    {
     "data": {
      "text/plain": [
       "<matplotlib.image.AxesImage at 0x18353710>"
      ]
     },
     "execution_count": 5,
     "metadata": {},
     "output_type": "execute_result"
    },
    {
     "data": {
      "image/png": "[encoded data removed]",
      "text/plain": [
       "<Figure size 432x288 with 1 Axes>"
      ]
     },
     "metadata": {
      "needs_background": "light"
     },
     "output_type": "display_data"
    }
   ],
   "source": [
    "plt.imshow(train_images[5])"
   ]
  },
  {
   "cell_type": "code",
   "execution_count": 6,
   "metadata": {},
   "outputs": [],
   "source": [
    "class_names = ['T-shirt/top', 'Trouser', 'Pullover', 'Dress', 'Coat',\n",
    "               'Sandal', 'Shirt', 'Sneaker', 'Bag', 'Ankle boot']"
   ]
  },
  {
   "cell_type": "markdown",
   "metadata": {},
   "source": [
    "2. Обработка данных"
   ]
  },
  {
   "cell_type": "code",
   "execution_count": 7,
   "metadata": {},
   "outputs": [
    {
     "name": "stdout",
     "output_type": "stream",
     "text": [
      "(60000, 28, 28)\n"
     ]
    },
    {
     "data": {
      "text/plain": [
       "array([[[-0.5, -0.5, -0.5, ..., -0.5, -0.5, -0.5],\n",
       "        [-0.5, -0.5, -0.5, ..., -0.5, -0.5, -0.5],\n",
       "        [-0.5, -0.5, -0.5, ..., -0.5, -0.5, -0.5],\n",
       "        ...,\n",
       "        [-0.5, -0.5, -0.5, ..., -0.5, -0.5, -0.5],\n",
       "        [-0.5, -0.5, -0.5, ..., -0.5, -0.5, -0.5],\n",
       "        [-0.5, -0.5, -0.5, ..., -0.5, -0.5, -0.5]],\n",
       "\n",
       "       [[-0.5, -0.5, -0.5, ..., -0.5, -0.5, -0.5],\n",
       "        [-0.5, -0.5, -0.5, ..., -0.5, -0.5, -0.5],\n",
       "        [-0.5, -0.5, -0.5, ..., -0.5, -0.5, -0.5],\n",
       "        ...,\n",
       "        [-0.5, -0.5, -0.5, ..., -0.5, -0.5, -0.5],\n",
       "        [-0.5, -0.5, -0.5, ..., -0.5, -0.5, -0.5],\n",
       "        [-0.5, -0.5, -0.5, ..., -0.5, -0.5, -0.5]]])"
      ]
     },
     "execution_count": 7,
     "metadata": {},
     "output_type": "execute_result"
    }
   ],
   "source": [
    "# Normalize the images.\n",
    "train_images = (train_images / 255) - 0.5\n",
    "test_images = (test_images / 255) - 0.5\n",
    "\n",
    "print(train_images.shape)\n",
    "train_images[:2]"
   ]
  },
  {
   "cell_type": "code",
   "execution_count": 8,
   "metadata": {},
   "outputs": [
    {
     "name": "stdout",
     "output_type": "stream",
     "text": [
      "(60000, 28, 28)\n",
      "(10000, 28, 28)\n"
     ]
    },
    {
     "data": {
      "text/plain": [
       "array([[[-0.5, -0.5, -0.5, ..., -0.5, -0.5, -0.5],\n",
       "        [-0.5, -0.5, -0.5, ..., -0.5, -0.5, -0.5],\n",
       "        [-0.5, -0.5, -0.5, ..., -0.5, -0.5, -0.5],\n",
       "        ...,\n",
       "        [-0.5, -0.5, -0.5, ..., -0.5, -0.5, -0.5],\n",
       "        [-0.5, -0.5, -0.5, ..., -0.5, -0.5, -0.5],\n",
       "        [-0.5, -0.5, -0.5, ..., -0.5, -0.5, -0.5]],\n",
       "\n",
       "       [[-0.5, -0.5, -0.5, ..., -0.5, -0.5, -0.5],\n",
       "        [-0.5, -0.5, -0.5, ..., -0.5, -0.5, -0.5],\n",
       "        [-0.5, -0.5, -0.5, ..., -0.5, -0.5, -0.5],\n",
       "        ...,\n",
       "        [-0.5, -0.5, -0.5, ..., -0.5, -0.5, -0.5],\n",
       "        [-0.5, -0.5, -0.5, ..., -0.5, -0.5, -0.5],\n",
       "        [-0.5, -0.5, -0.5, ..., -0.5, -0.5, -0.5]]])"
      ]
     },
     "execution_count": 8,
     "metadata": {},
     "output_type": "execute_result"
    }
   ],
   "source": [
    "# Flatten the images.\n",
    "# train_images = train_images.reshape((-1, 784))\n",
    "# test_images = test_images.reshape((-1, 784))\n",
    "\n",
    "print(train_images.shape) # (60000, 784)\n",
    "print(test_images.shape)  # (10000, 784)\n",
    "train_images[:2]"
   ]
  },
  {
   "cell_type": "code",
   "execution_count": 9,
   "metadata": {},
   "outputs": [
    {
     "data": {
      "text/plain": [
       "numpy.ndarray"
      ]
     },
     "execution_count": 9,
     "metadata": {},
     "output_type": "execute_result"
    }
   ],
   "source": [
    "type(train_images)"
   ]
  },
  {
   "cell_type": "markdown",
   "metadata": {},
   "source": [
    "3. Архитектура сети"
   ]
  },
  {
   "cell_type": "code",
   "execution_count": 10,
   "metadata": {},
   "outputs": [],
   "source": [
    "model = Sequential([\n",
    "  keras.layers.Flatten(input_shape=(28, 28)),\n",
    "  Dense(128, activation='relu'),\n",
    "  Dense(10, activation='softmax')\n",
    "])"
   ]
  },
  {
   "cell_type": "markdown",
   "metadata": {},
   "source": [
    "4. Компиляция модели"
   ]
  },
  {
   "cell_type": "code",
   "execution_count": 11,
   "metadata": {},
   "outputs": [],
   "source": [
    "model.compile(\n",
    "  optimizer='adam',\n",
    "  loss='categorical_crossentropy',\n",
    "  metrics=['accuracy'],\n",
    ")"
   ]
  },
  {
   "cell_type": "markdown",
   "metadata": {},
   "source": [
    "5. Обучение модели"
   ]
  },
  {
   "cell_type": "code",
   "execution_count": 12,
   "metadata": {},
   "outputs": [
    {
     "name": "stdout",
     "output_type": "stream",
     "text": [
      "Epoch 1/10\n",
      "60000/60000 [==============================] - 20s 341us/step - loss: 0.4890 - accuracy: 0.8231\n",
      "Epoch 2/10\n",
      "60000/60000 [==============================] - 18s 307us/step - loss: 0.3740 - accuracy: 0.8648\n",
      "Epoch 3/10\n",
      "60000/60000 [==============================] - 19s 319us/step - loss: 0.3383 - accuracy: 0.8749\n",
      "Epoch 4/10\n",
      "60000/60000 [==============================] - 20s 337us/step - loss: 0.3135 - accuracy: 0.8842\n",
      "Epoch 5/10\n",
      "60000/60000 [==============================] - 20s 328us/step - loss: 0.2972 - accuracy: 0.8899\n",
      "Epoch 6/10\n",
      "60000/60000 [==============================] - 18s 296us/step - loss: 0.2800 - accuracy: 0.8964\n",
      "Epoch 7/10\n",
      "60000/60000 [==============================] - 19s 309us/step - loss: 0.2670 - accuracy: 0.9024\n",
      "Epoch 8/10\n",
      "60000/60000 [==============================] - 19s 312us/step - loss: 0.2554 - accuracy: 0.9057\n",
      "Epoch 9/10\n",
      "60000/60000 [==============================] - 19s 315us/step - loss: 0.2469 - accuracy: 0.9091\n",
      "Epoch 10/10\n",
      "60000/60000 [==============================] - 19s 309us/step - loss: 0.2381 - accuracy: 0.9121\n"
     ]
    },
    {
     "data": {
      "text/plain": [
       "<keras.callbacks.callbacks.History at 0x17bf5f60>"
      ]
     },
     "execution_count": 12,
     "metadata": {},
     "output_type": "execute_result"
    }
   ],
   "source": [
    "model.fit(\n",
    "  train_images,\n",
    "  to_categorical(train_labels),\n",
    "  epochs=10,\n",
    "  batch_size=32,\n",
    ")"
   ]
  },
  {
   "cell_type": "code",
   "execution_count": 13,
   "metadata": {},
   "outputs": [
    {
     "data": {
      "text/plain": [
       "array([[0., 0., 0., ..., 0., 0., 1.],\n",
       "       [1., 0., 0., ..., 0., 0., 0.],\n",
       "       [1., 0., 0., ..., 0., 0., 0.],\n",
       "       ...,\n",
       "       [0., 0., 0., ..., 0., 0., 0.],\n",
       "       [1., 0., 0., ..., 0., 0., 0.],\n",
       "       [0., 0., 0., ..., 0., 0., 0.]], dtype=float32)"
      ]
     },
     "execution_count": 13,
     "metadata": {},
     "output_type": "execute_result"
    }
   ],
   "source": [
    "to_categorical(train_labels)"
   ]
  },
  {
   "cell_type": "markdown",
   "metadata": {},
   "source": [
    "6. Оценка обучения"
   ]
  },
  {
   "cell_type": "code",
   "execution_count": 14,
   "metadata": {},
   "outputs": [
    {
     "name": "stdout",
     "output_type": "stream",
     "text": [
      "10000/10000 [==============================] - 2s 172us/step\n"
     ]
    },
    {
     "data": {
      "text/plain": [
       "[0.3611602590084076, 0.8744000196456909]"
      ]
     },
     "execution_count": 14,
     "metadata": {},
     "output_type": "execute_result"
    }
   ],
   "source": [
    "model.evaluate(\n",
    "  test_images,\n",
    "  to_categorical(test_labels)\n",
    ")"
   ]
  },
  {
   "cell_type": "code",
   "execution_count": 15,
   "metadata": {},
   "outputs": [
    {
     "data": {
      "text/plain": [
       "['loss', 'accuracy']"
      ]
     },
     "execution_count": 15,
     "metadata": {},
     "output_type": "execute_result"
    }
   ],
   "source": [
    "model.metrics_names"
   ]
  },
  {
   "cell_type": "markdown",
   "metadata": {},
   "source": [
    "7. Сохранение обученной модели"
   ]
  },
  {
   "cell_type": "code",
   "execution_count": 16,
   "metadata": {},
   "outputs": [],
   "source": [
    "model.save_weights('model.h5')"
   ]
  },
  {
   "cell_type": "code",
   "execution_count": 17,
   "metadata": {},
   "outputs": [],
   "source": [
    "# Load the model from disk later using:\n",
    "# model.load_weights('model.h5')"
   ]
  },
  {
   "cell_type": "markdown",
   "metadata": {},
   "source": [
    "8. Применение на первых 10 изображениях"
   ]
  },
  {
   "cell_type": "code",
   "execution_count": 18,
   "metadata": {},
   "outputs": [
    {
     "name": "stdout",
     "output_type": "stream",
     "text": [
      "[9 2 1 1 6 1 4 6 5 7]\n"
     ]
    }
   ],
   "source": [
    "predictions_10 = model.predict(test_images[:10])\n",
    "print(np.argmax(predictions_10, axis=1))"
   ]
  },
  {
   "cell_type": "markdown",
   "metadata": {},
   "source": [
    "Сравнение с проверочными метками"
   ]
  },
  {
   "cell_type": "code",
   "execution_count": 19,
   "metadata": {},
   "outputs": [
    {
     "name": "stdout",
     "output_type": "stream",
     "text": [
      "[9 2 1 1 6 1 4 6 5 7]\n"
     ]
    }
   ],
   "source": [
    "print(test_labels[:10])"
   ]
  },
  {
   "cell_type": "code",
   "execution_count": 20,
   "metadata": {},
   "outputs": [
    {
     "name": "stdout",
     "output_type": "stream",
     "text": [
      "accuracy_score test:\t0.874\n",
      "\n",
      "\n"
     ]
    }
   ],
   "source": [
    "predictions = model.predict(test_images)\n",
    "predictions = np.argmax(predictions, axis=1)\n",
    "print(f\"accuracy_score test:\\t{accuracy_score(test_labels, predictions):.3f}\\n\\n\")"
   ]
  },
  {
   "cell_type": "code",
   "execution_count": 21,
   "metadata": {},
   "outputs": [
    {
     "data": {
      "image/png": "[encoded data removed]",
      "text/plain": [
       "<Figure size 360x3600 with 10 Axes>"
      ]
     },
     "metadata": {
      "needs_background": "light"
     },
     "output_type": "display_data"
    }
   ],
   "source": [
    "plt.figure(figsize=(5,50))\n",
    "for i in range(10):\n",
    "    plt.subplot(10, 1,i+1)\n",
    "    plt.imshow(test_images[i])\n",
    "    plt.grid(False)\n",
    "    plt.xlabel(class_names[np.argmax(predictions_10[i])]+\"/\"+class_names[test_labels[i]])\n",
    "    #print(f'Предсказанный класс: {}\\n Действительный класс: {} \\n\\n')"
   ]
  },
  {
   "cell_type": "markdown",
   "metadata": {},
   "source": [
    "## Подбор параметров"
   ]
  },
  {
   "cell_type": "code",
   "execution_count": 22,
   "metadata": {},
   "outputs": [],
   "source": [
    "# нужны глобальные: train_images, train_labels, test_images, test_labels\n",
    "def build_eval_nn(ep_n = 5, b_s = 32, n_num = 64, add_layer = False, vr = 1):\n",
    "    if (add_layer):\n",
    "        model = Sequential([keras.layers.Flatten(input_shape=(28, 28)),\n",
    "                            Dense(n_num, activation='relu'),\n",
    "                            Dense(n_num, activation='relu'),\n",
    "                            Dense(n_num, activation='relu'),\n",
    "                            Dense(10, activation='softmax')])\n",
    "    else:\n",
    "        model = Sequential([keras.layers.Flatten(input_shape=(28, 28)),\n",
    "                            Dense(n_num, activation='relu'),\n",
    "                            Dense(n_num, activation='relu'),\n",
    "                            Dense(10, activation='softmax')])\n",
    "    \n",
    "    model.compile(optimizer='adam',\n",
    "                  loss='categorical_crossentropy',\n",
    "                  metrics=['accuracy'])\n",
    "    \n",
    "    fit_data = model.fit(train_images,\n",
    "                         to_categorical(train_labels),\n",
    "                         epochs = ep_n,\n",
    "                         batch_size = b_s, \n",
    "                         verbose = vr)\n",
    "    \n",
    "    model_loss, model_accuracy = model.evaluate(test_images,\n",
    "                                                to_categorical(test_labels), \n",
    "                                                verbose = 0)\n",
    "    return model_loss, model_accuracy, fit_data"
   ]
  },
  {
   "cell_type": "markdown",
   "metadata": {},
   "source": [
    "### Профиль loss и accuracy на train данных (модель 2 скрытых слоя)"
   ]
  },
  {
   "cell_type": "code",
   "execution_count": 23,
   "metadata": {},
   "outputs": [
    {
     "name": "stdout",
     "output_type": "stream",
     "text": [
      "Epoch 1/25\n",
      "60000/60000 [==============================] - 14s 234us/step - loss: 0.5016 - accuracy: 0.8179\n",
      "Epoch 2/25\n",
      "60000/60000 [==============================] - 14s 230us/step - loss: 0.3830 - accuracy: 0.8605\n",
      "Epoch 3/25\n",
      "60000/60000 [==============================] - 15s 244us/step - loss: 0.3493 - accuracy: 0.8704\n",
      "Epoch 4/25\n",
      "60000/60000 [==============================] - 15s 256us/step - loss: 0.3251 - accuracy: 0.8801\n",
      "Epoch 5/25\n",
      "60000/60000 [==============================] - 15s 242us/step - loss: 0.3079 - accuracy: 0.8864\n",
      "Epoch 6/25\n",
      "60000/60000 [==============================] - 16s 268us/step - loss: 0.2918 - accuracy: 0.8916\n",
      "Epoch 7/25\n",
      "60000/60000 [==============================] - 16s 258us/step - loss: 0.2796 - accuracy: 0.8959\n",
      "Epoch 8/25\n",
      "60000/60000 [==============================] - 15s 256us/step - loss: 0.2700 - accuracy: 0.8992\n",
      "Epoch 9/25\n",
      "60000/60000 [==============================] - 16s 263us/step - loss: 0.2592 - accuracy: 0.9034\n",
      "Epoch 10/25\n",
      "60000/60000 [==============================] - 14s 233us/step - loss: 0.2497 - accuracy: 0.9057\n",
      "Epoch 11/25\n",
      "60000/60000 [==============================] - 14s 235us/step - loss: 0.2436 - accuracy: 0.9084\n",
      "Epoch 12/25\n",
      "60000/60000 [==============================] - 18s 298us/step - loss: 0.2358 - accuracy: 0.9117\n",
      "Epoch 13/25\n",
      "60000/60000 [==============================] - 15s 254us/step - loss: 0.2300 - accuracy: 0.9123\n",
      "Epoch 14/25\n",
      "60000/60000 [==============================] - 14s 240us/step - loss: 0.2228 - accuracy: 0.9158\n",
      "Epoch 15/25\n",
      "60000/60000 [==============================] - 15s 243us/step - loss: 0.2170 - accuracy: 0.9177\n",
      "Epoch 16/25\n",
      "60000/60000 [==============================] - 17s 285us/step - loss: 0.2105 - accuracy: 0.9202\n",
      "Epoch 17/25\n",
      "60000/60000 [==============================] - 16s 272us/step - loss: 0.2059 - accuracy: 0.9220\n",
      "Epoch 18/25\n",
      "60000/60000 [==============================] - 15s 246us/step - loss: 0.2018 - accuracy: 0.9237\n",
      "Epoch 19/25\n",
      "60000/60000 [==============================] - 15s 248us/step - loss: 0.1968 - accuracy: 0.9247\n",
      "Epoch 20/25\n",
      "60000/60000 [==============================] - 16s 265us/step - loss: 0.1923 - accuracy: 0.9272\n",
      "Epoch 21/25\n",
      "60000/60000 [==============================] - 15s 249us/step - loss: 0.1898 - accuracy: 0.9277\n",
      "Epoch 22/25\n",
      "60000/60000 [==============================] - 14s 229us/step - loss: 0.1842 - accuracy: 0.9312\n",
      "Epoch 23/25\n",
      "60000/60000 [==============================] - 14s 233us/step - loss: 0.1804 - accuracy: 0.9328\n",
      "Epoch 24/25\n",
      "60000/60000 [==============================] - 15s 258us/step - loss: 0.1775 - accuracy: 0.9322\n",
      "Epoch 25/25\n",
      "60000/60000 [==============================] - 15s 253us/step - loss: 0.1737 - accuracy: 0.9346\n"
     ]
    },
    {
     "data": {
      "text/plain": [
       "{'loss': [0.5016435791492462,\n",
       "  0.38302335006395977,\n",
       "  0.3493373089591662,\n",
       "  0.325115515478452,\n",
       "  0.3078736140708129,\n",
       "  0.29178937430381774,\n",
       "  0.27958713211218517,\n",
       "  0.26997435348828636,\n",
       "  0.25915056698918343,\n",
       "  0.24969616504510245,\n",
       "  0.2435875939587752,\n",
       "  0.23582956718901793,\n",
       "  0.2300353160937627,\n",
       "  0.22282429635425408,\n",
       "  0.21701137695610523,\n",
       "  0.210515488037467,\n",
       "  0.2058561179657777,\n",
       "  0.2018387544438243,\n",
       "  0.19675277281999587,\n",
       "  0.1923334979434808,\n",
       "  0.189811953471601,\n",
       "  0.18418506503800552,\n",
       "  0.18042387884010871,\n",
       "  0.17753013379722835,\n",
       "  0.17374393970717986],\n",
       " 'accuracy': [0.8179333,\n",
       "  0.86045,\n",
       "  0.8703667,\n",
       "  0.88005,\n",
       "  0.88638335,\n",
       "  0.8915833,\n",
       "  0.8958833,\n",
       "  0.8992,\n",
       "  0.9033833,\n",
       "  0.90571666,\n",
       "  0.9083667,\n",
       "  0.91165,\n",
       "  0.9123333,\n",
       "  0.91575,\n",
       "  0.9177167,\n",
       "  0.9202167,\n",
       "  0.92198336,\n",
       "  0.92371666,\n",
       "  0.92465,\n",
       "  0.92718333,\n",
       "  0.92775,\n",
       "  0.9312,\n",
       "  0.9327833,\n",
       "  0.93215,\n",
       "  0.9346167]}"
      ]
     },
     "execution_count": 23,
     "metadata": {},
     "output_type": "execute_result"
    }
   ],
   "source": [
    "model_loss, model_accuracy, fit_data = build_eval_nn(ep_n = 25)\n",
    "fit_data.history"
   ]
  },
  {
   "cell_type": "code",
   "execution_count": 24,
   "metadata": {},
   "outputs": [
    {
     "data": {
      "image/png": "[encoded data removed]",
      "text/plain": [
       "<Figure size 432x288 with 1 Axes>"
      ]
     },
     "metadata": {
      "needs_background": "light"
     },
     "output_type": "display_data"
    }
   ],
   "source": [
    "plt.plot(np.arange(1, 26), fit_data.history['loss'])\n",
    "plt.title('loss на train данных (2 слоя)', fontsize=15)\n",
    "plt.ylabel('loss')\n",
    "plt.xlabel('эпохи')\n",
    "plt.grid(True)\n",
    "plt.show()"
   ]
  },
  {
   "cell_type": "code",
   "execution_count": 25,
   "metadata": {},
   "outputs": [
    {
     "data": {
      "image/png": "[encoded data removed]",
      "text/plain": [
       "<Figure size 432x288 with 1 Axes>"
      ]
     },
     "metadata": {
      "needs_background": "light"
     },
     "output_type": "display_data"
    }
   ],
   "source": [
    "plt.plot(np.arange(1, 26), fit_data.history['accuracy'])\n",
    "plt.title('accuracy на train данных (2слоя)', fontsize=15)\n",
    "plt.ylabel('accuracy')\n",
    "plt.xlabel('эпохи')\n",
    "plt.grid(True)\n",
    "plt.show()"
   ]
  },
  {
   "cell_type": "markdown",
   "metadata": {},
   "source": [
    "### Профиль accuracy на тестовых данных (модель 2 скрытых слоя)"
   ]
  },
  {
   "cell_type": "code",
   "execution_count": 26,
   "metadata": {},
   "outputs": [],
   "source": [
    "def draw_epoch_test_profile(ep_line, vr_l = 2):\n",
    "    # ep_line = [3, 5, 7, 9, 11, 13, 15] #]\n",
    "    m_acc = []\n",
    "    \n",
    "    for ep in ep_line:\n",
    "        print(f\"Количество эпох при обучении: {ep}\")\n",
    "        m_acc.append(build_eval_nn(ep_n = ep, vr = vr_l)[1])\n",
    "    \n",
    "    plt.plot(ep_line, m_acc, 'ob')\n",
    "    plt.title('accuracy на тестовых данных', fontsize=15)\n",
    "    plt.ylabel('accuracy')\n",
    "    plt.xlabel('Количество эпох при обучении')\n",
    "    plt.grid(True)\n",
    "    plt.show()"
   ]
  },
  {
   "cell_type": "code",
   "execution_count": 27,
   "metadata": {},
   "outputs": [
    {
     "name": "stdout",
     "output_type": "stream",
     "text": [
      "Количество эпох при обучении: 3\n",
      "Epoch 1/3\n",
      " - 12s - loss: 0.5018 - accuracy: 0.8189\n",
      "Epoch 2/3\n",
      " - 12s - loss: 0.3834 - accuracy: 0.8601\n",
      "Epoch 3/3\n",
      " - 11s - loss: 0.3485 - accuracy: 0.8712\n",
      "Количество эпох при обучении: 5\n",
      "Epoch 1/5\n",
      " - 11s - loss: 0.5011 - accuracy: 0.8185\n",
      "Epoch 2/5\n",
      " - 11s - loss: 0.3827 - accuracy: 0.8597\n",
      "Epoch 3/5\n",
      " - 11s - loss: 0.3441 - accuracy: 0.8735\n",
      "Epoch 4/5\n",
      " - 11s - loss: 0.3223 - accuracy: 0.8806\n",
      "Epoch 5/5\n",
      " - 11s - loss: 0.3032 - accuracy: 0.8878\n",
      "Количество эпох при обучении: 7\n",
      "Epoch 1/7\n",
      " - 12s - loss: 0.5026 - accuracy: 0.8190\n",
      "Epoch 2/7\n",
      " - 11s - loss: 0.3814 - accuracy: 0.8610\n",
      "Epoch 3/7\n",
      " - 11s - loss: 0.3466 - accuracy: 0.8720\n",
      "Epoch 4/7\n",
      " - 11s - loss: 0.3224 - accuracy: 0.8811\n",
      "Epoch 5/7\n",
      " - 11s - loss: 0.3056 - accuracy: 0.8855\n",
      "Epoch 6/7\n",
      " - 11s - loss: 0.2905 - accuracy: 0.8918\n",
      "Epoch 7/7\n",
      " - 11s - loss: 0.2789 - accuracy: 0.8971\n",
      "Количество эпох при обучении: 9\n",
      "Epoch 1/9\n",
      " - 11s - loss: 0.4985 - accuracy: 0.8190\n",
      "Epoch 2/9\n",
      " - 11s - loss: 0.3790 - accuracy: 0.8600\n",
      "Epoch 3/9\n",
      " - 12s - loss: 0.3423 - accuracy: 0.8745\n",
      "Epoch 4/9\n",
      " - 15s - loss: 0.3225 - accuracy: 0.8820\n",
      "Epoch 5/9\n",
      " - 13s - loss: 0.3033 - accuracy: 0.8874\n",
      "Epoch 6/9\n",
      " - 13s - loss: 0.2918 - accuracy: 0.8913\n",
      "Epoch 7/9\n",
      " - 11s - loss: 0.2767 - accuracy: 0.8972\n",
      "Epoch 8/9\n",
      " - 11s - loss: 0.2662 - accuracy: 0.9030\n",
      "Epoch 9/9\n",
      " - 12s - loss: 0.2580 - accuracy: 0.9041\n",
      "Количество эпох при обучении: 11\n",
      "Epoch 1/11\n",
      " - 12s - loss: 0.4972 - accuracy: 0.8181\n",
      "Epoch 2/11\n",
      " - 12s - loss: 0.3756 - accuracy: 0.8616\n",
      "Epoch 3/11\n",
      " - 12s - loss: 0.3411 - accuracy: 0.8745\n",
      "Epoch 4/11\n",
      " - 13s - loss: 0.3197 - accuracy: 0.8814\n",
      "Epoch 5/11\n",
      " - 13s - loss: 0.3046 - accuracy: 0.8870\n",
      "Epoch 6/11\n",
      " - 12s - loss: 0.2905 - accuracy: 0.8923\n",
      "Epoch 7/11\n",
      " - 12s - loss: 0.2796 - accuracy: 0.8960\n",
      "Epoch 8/11\n",
      " - 12s - loss: 0.2667 - accuracy: 0.9006\n",
      "Epoch 9/11\n",
      " - 12s - loss: 0.2583 - accuracy: 0.9035\n",
      "Epoch 10/11\n",
      " - 12s - loss: 0.2503 - accuracy: 0.9062\n",
      "Epoch 11/11\n",
      " - 12s - loss: 0.2430 - accuracy: 0.9097\n",
      "Количество эпох при обучении: 13\n",
      "Epoch 1/13\n",
      " - 13s - loss: 0.5019 - accuracy: 0.8180\n",
      "Epoch 2/13\n",
      " - 13s - loss: 0.3826 - accuracy: 0.8612\n",
      "Epoch 3/13\n",
      " - 13s - loss: 0.3458 - accuracy: 0.8724\n",
      "Epoch 4/13\n",
      " - 13s - loss: 0.3244 - accuracy: 0.8807\n",
      "Epoch 5/13\n",
      " - 13s - loss: 0.3058 - accuracy: 0.8867\n",
      "Epoch 6/13\n",
      " - 12s - loss: 0.2926 - accuracy: 0.8913\n",
      "Epoch 7/13\n",
      " - 12s - loss: 0.2800 - accuracy: 0.8952\n",
      "Epoch 8/13\n",
      " - 12s - loss: 0.2716 - accuracy: 0.8981\n",
      "Epoch 9/13\n",
      " - 12s - loss: 0.2615 - accuracy: 0.9010\n",
      "Epoch 10/13\n",
      " - 12s - loss: 0.2523 - accuracy: 0.9053\n",
      "Epoch 11/13\n",
      " - 12s - loss: 0.2451 - accuracy: 0.9082\n",
      "Epoch 12/13\n",
      " - 14s - loss: 0.2383 - accuracy: 0.9095\n",
      "Epoch 13/13\n",
      " - 14s - loss: 0.2305 - accuracy: 0.9137\n",
      "Количество эпох при обучении: 15\n",
      "Epoch 1/15\n",
      " - 14s - loss: 0.5048 - accuracy: 0.8182\n",
      "Epoch 2/15\n",
      " - 13s - loss: 0.3774 - accuracy: 0.8625\n",
      "Epoch 3/15\n",
      " - 12s - loss: 0.3431 - accuracy: 0.8736\n",
      "Epoch 4/15\n",
      " - 13s - loss: 0.3215 - accuracy: 0.8809\n",
      "Epoch 5/15\n",
      " - 13s - loss: 0.3058 - accuracy: 0.8870\n",
      "Epoch 6/15\n",
      " - 14s - loss: 0.2936 - accuracy: 0.8903\n",
      "Epoch 7/15\n",
      " - 14s - loss: 0.2791 - accuracy: 0.8952\n",
      "Epoch 8/15\n",
      " - 14s - loss: 0.2703 - accuracy: 0.8992\n",
      "Epoch 9/15\n",
      " - 13s - loss: 0.2605 - accuracy: 0.9031\n",
      "Epoch 10/15\n",
      " - 13s - loss: 0.2521 - accuracy: 0.9054\n",
      "Epoch 11/15\n",
      " - 12s - loss: 0.2456 - accuracy: 0.9088\n",
      "Epoch 12/15\n",
      " - 13s - loss: 0.2379 - accuracy: 0.9107\n",
      "Epoch 13/15\n",
      " - 13s - loss: 0.2330 - accuracy: 0.9121\n",
      "Epoch 14/15\n",
      " - 13s - loss: 0.2249 - accuracy: 0.9156\n",
      "Epoch 15/15\n",
      " - 14s - loss: 0.2177 - accuracy: 0.9178\n"
     ]
    },
    {
     "data": {
      "image/png": "[encoded data removed]",
      "text/plain": [
       "<Figure size 432x288 with 1 Axes>"
      ]
     },
     "metadata": {
      "needs_background": "light"
     },
     "output_type": "display_data"
    }
   ],
   "source": [
    "draw_epoch_test_profile(np.arange(3, 16, 2))"
   ]
  },
  {
   "cell_type": "markdown",
   "metadata": {},
   "source": [
    "### Профиль loss и accuracy на train данных (модель 3 скрытых слоя)"
   ]
  },
  {
   "cell_type": "code",
   "execution_count": 28,
   "metadata": {},
   "outputs": [
    {
     "name": "stdout",
     "output_type": "stream",
     "text": [
      "Epoch 1/25\n",
      "60000/60000 [==============================] - 17s 279us/step - loss: 0.5086 - accuracy: 0.8151\n",
      "Epoch 2/25\n",
      "60000/60000 [==============================] - 18s 307us/step - loss: 0.3777 - accuracy: 0.8615\n",
      "Epoch 3/25\n",
      "60000/60000 [==============================] - 18s 295us/step - loss: 0.3427 - accuracy: 0.8733\n",
      "Epoch 4/25\n",
      "60000/60000 [==============================] - 16s 269us/step - loss: 0.3188 - accuracy: 0.8813\n",
      "Epoch 5/25\n",
      "60000/60000 [==============================] - 17s 289us/step - loss: 0.3028 - accuracy: 0.8871\n",
      "Epoch 6/25\n",
      "60000/60000 [==============================] - 17s 288us/step - loss: 0.2894 - accuracy: 0.8922\n",
      "Epoch 7/25\n",
      "60000/60000 [==============================] - 18s 304us/step - loss: 0.2783 - accuracy: 0.8961\n",
      "Epoch 8/25\n",
      "60000/60000 [==============================] - 18s 298us/step - loss: 0.2681 - accuracy: 0.9002\n",
      "Epoch 9/25\n",
      "60000/60000 [==============================] - 18s 308us/step - loss: 0.2584 - accuracy: 0.9036\n",
      "Epoch 10/25\n",
      "60000/60000 [==============================] - 17s 291us/step - loss: 0.2495 - accuracy: 0.9064\n",
      "Epoch 11/25\n",
      "60000/60000 [==============================] - 18s 293us/step - loss: 0.2423 - accuracy: 0.9094\n",
      "Epoch 12/25\n",
      "60000/60000 [==============================] - 17s 280us/step - loss: 0.2345 - accuracy: 0.9115\n",
      "Epoch 13/25\n",
      "60000/60000 [==============================] - 18s 299us/step - loss: 0.2296 - accuracy: 0.9130\n",
      "Epoch 14/25\n",
      "60000/60000 [==============================] - 15s 247us/step - loss: 0.2209 - accuracy: 0.9176\n",
      "Epoch 15/25\n",
      "60000/60000 [==============================] - 16s 274us/step - loss: 0.2137 - accuracy: 0.9195\n",
      "Epoch 16/25\n",
      "60000/60000 [==============================] - 18s 305us/step - loss: 0.2099 - accuracy: 0.9215\n",
      "Epoch 17/25\n",
      "60000/60000 [==============================] - 15s 247us/step - loss: 0.2047 - accuracy: 0.9232\n",
      "Epoch 18/25\n",
      "60000/60000 [==============================] - 15s 244us/step - loss: 0.2004 - accuracy: 0.9251\n",
      "Epoch 19/25\n",
      "60000/60000 [==============================] - 15s 248us/step - loss: 0.1948 - accuracy: 0.9260\n",
      "Epoch 20/25\n",
      "60000/60000 [==============================] - 15s 255us/step - loss: 0.1924 - accuracy: 0.9278\n",
      "Epoch 21/25\n",
      "60000/60000 [==============================] - 15s 248us/step - loss: 0.1867 - accuracy: 0.9298\n",
      "Epoch 22/25\n",
      "60000/60000 [==============================] - 15s 254us/step - loss: 0.1819 - accuracy: 0.9307\n",
      "Epoch 23/25\n",
      "60000/60000 [==============================] - 17s 280us/step - loss: 0.1789 - accuracy: 0.9323\n",
      "Epoch 24/25\n",
      "60000/60000 [==============================] - 16s 271us/step - loss: 0.1737 - accuracy: 0.9352\n",
      "Epoch 25/25\n",
      "60000/60000 [==============================] - 16s 272us/step - loss: 0.1721 - accuracy: 0.9353\n"
     ]
    }
   ],
   "source": [
    "model_loss, model_accuracy, fit_data = build_eval_nn(ep_n = 25, add_layer = True)"
   ]
  },
  {
   "cell_type": "code",
   "execution_count": 29,
   "metadata": {},
   "outputs": [
    {
     "data": {
      "image/png": "[encoded data removed]",
      "text/plain": [
       "<Figure size 432x288 with 1 Axes>"
      ]
     },
     "metadata": {
      "needs_background": "light"
     },
     "output_type": "display_data"
    }
   ],
   "source": [
    "plt.plot(np.arange(1, 26), fit_data.history['loss'])\n",
    "plt.title('loss на train данных (3 слоя)', fontsize=15)\n",
    "plt.ylabel('loss')\n",
    "plt.xlabel('эпохи')\n",
    "plt.grid(True)\n",
    "plt.show()"
   ]
  },
  {
   "cell_type": "code",
   "execution_count": 30,
   "metadata": {},
   "outputs": [
    {
     "data": {
      "image/png": "[encoded data removed]",
      "text/plain": [
       "<Figure size 432x288 with 1 Axes>"
      ]
     },
     "metadata": {
      "needs_background": "light"
     },
     "output_type": "display_data"
    }
   ],
   "source": [
    "plt.plot(np.arange(1, 26), fit_data.history['accuracy'])\n",
    "plt.title('accuracy на train данных (3 слоя)', fontsize=15)\n",
    "plt.ylabel('accuracy')\n",
    "plt.xlabel('эпохи')\n",
    "plt.grid(True)\n",
    "plt.show()"
   ]
  },
  {
   "cell_type": "markdown",
   "metadata": {},
   "source": [
    "### grid search"
   ]
  },
  {
   "cell_type": "code",
   "execution_count": 31,
   "metadata": {},
   "outputs": [],
   "source": [
    "def grid_search(batch_size, n_num, add_l = False, ep = 5, vr = 0):\n",
    "    b_acc = b_b_s = b_n_n = 0\n",
    "\n",
    "    for b_s in batch_size:\n",
    "        for n_n in n_num:\n",
    "            print(f\"Модель - эпох: {ep}, batch_size: {b_s}, нейронов в слое: {n_n}\")\n",
    "            model_loss, model_accuracy, fit_data = build_eval_nn(ep_n = ep, \n",
    "                                                                 b_s = b_s, \n",
    "                                                                 n_num = n_n,\n",
    "                                                                 add_layer = add_l,\n",
    "                                                                 vr = 0)\n",
    "            print(f\"\\t model_loss: {model_loss:.4f}, model_accuracy: {model_accuracy:.4f}\")\n",
    "            if b_acc < model_accuracy:\n",
    "                b_acc = model_accuracy\n",
    "                b_b_s = b_s\n",
    "                b_n_n = n_n\n",
    "    \n",
    "    print(f\"\\nЛучший показатель accuracy на тестовых данных: {b_acc}\")\n",
    "    print(f\"\\tПараметры модели - batch_size: {b_b_s}, нейронов в слое: {b_n_n}\")"
   ]
  },
  {
   "cell_type": "code",
   "execution_count": 32,
   "metadata": {},
   "outputs": [
    {
     "name": "stdout",
     "output_type": "stream",
     "text": [
      "Модель - эпох: 5, batch_size: 24, нейронов в слое: 56\n",
      "\t model_loss: 0.3601, model_accuracy: 0.8717\n",
      "Модель - эпох: 5, batch_size: 24, нейронов в слое: 64\n",
      "\t model_loss: 0.3612, model_accuracy: 0.8710\n",
      "Модель - эпох: 5, batch_size: 24, нейронов в слое: 78\n",
      "\t model_loss: 0.3686, model_accuracy: 0.8681\n",
      "Модель - эпох: 5, batch_size: 32, нейронов в слое: 56\n",
      "\t model_loss: 0.3652, model_accuracy: 0.8702\n",
      "Модель - эпох: 5, batch_size: 32, нейронов в слое: 64\n",
      "\t model_loss: 0.3717, model_accuracy: 0.8634\n",
      "Модель - эпох: 5, batch_size: 32, нейронов в слое: 78\n",
      "\t model_loss: 0.3460, model_accuracy: 0.8765\n",
      "Модель - эпох: 5, batch_size: 48, нейронов в слое: 56\n",
      "\t model_loss: 0.3572, model_accuracy: 0.8728\n",
      "Модель - эпох: 5, batch_size: 48, нейронов в слое: 64\n",
      "\t model_loss: 0.3614, model_accuracy: 0.8719\n",
      "Модель - эпох: 5, batch_size: 48, нейронов в слое: 78\n",
      "\t model_loss: 0.3662, model_accuracy: 0.8705\n",
      "\n",
      "Лучший показатель accuracy на тестовых данных: 0.8765000104904175\n",
      "\tПараметры модели - batch_size: 32, нейронов в слое: 78\n"
     ]
    }
   ],
   "source": [
    "batch_size = [24, 32, 48]\n",
    "n_num = [56, 64, 78]\n",
    "#add_layer = [False, True]\n",
    "\n",
    "grid_search(batch_size, n_num)"
   ]
  },
  {
   "cell_type": "code",
   "execution_count": 34,
   "metadata": {},
   "outputs": [
    {
     "name": "stdout",
     "output_type": "stream",
     "text": [
      "Epoch 1/35\n",
      "60000/60000 [==============================] - 18s 306us/step - loss: 0.4837 - accuracy: 0.8251\n",
      "Epoch 2/35\n",
      "60000/60000 [==============================] - 20s 335us/step - loss: 0.3732 - accuracy: 0.8636\n",
      "Epoch 3/35\n",
      "60000/60000 [==============================] - 19s 312us/step - loss: 0.3395 - accuracy: 0.8760\n",
      "Epoch 4/35\n",
      "60000/60000 [==============================] - 18s 300us/step - loss: 0.3145 - accuracy: 0.8836\n",
      "Epoch 5/35\n",
      "60000/60000 [==============================] - 18s 298us/step - loss: 0.2965 - accuracy: 0.8904\n",
      "Epoch 6/35\n",
      "60000/60000 [==============================] - 18s 298us/step - loss: 0.2807 - accuracy: 0.8964\n",
      "Epoch 7/35\n",
      "60000/60000 [==============================] - 18s 302us/step - loss: 0.2687 - accuracy: 0.9012\n",
      "Epoch 8/35\n",
      "60000/60000 [==============================] - 20s 327us/step - loss: 0.2584 - accuracy: 0.9047\n",
      "Epoch 9/35\n",
      "60000/60000 [==============================] - 20s 341us/step - loss: 0.2478 - accuracy: 0.9098\n",
      "Epoch 10/35\n",
      "60000/60000 [==============================] - 18s 297us/step - loss: 0.2376 - accuracy: 0.9122\n",
      "Epoch 11/35\n",
      "60000/60000 [==============================] - 19s 316us/step - loss: 0.2304 - accuracy: 0.9137\n",
      "Epoch 12/35\n",
      "60000/60000 [==============================] - 19s 316us/step - loss: 0.2237 - accuracy: 0.9178\n",
      "Epoch 13/35\n",
      "60000/60000 [==============================] - 19s 311us/step - loss: 0.2171 - accuracy: 0.9193\n",
      "Epoch 14/35\n",
      "60000/60000 [==============================] - 19s 314us/step - loss: 0.2105 - accuracy: 0.9230\n",
      "Epoch 15/35\n",
      "60000/60000 [==============================] - 20s 334us/step - loss: 0.2027 - accuracy: 0.9246\n",
      "Epoch 16/35\n",
      "60000/60000 [==============================] - 20s 327us/step - loss: 0.1972 - accuracy: 0.9263\n",
      "Epoch 17/35\n",
      "60000/60000 [==============================] - 18s 299us/step - loss: 0.1930 - accuracy: 0.9276\n",
      "Epoch 18/35\n",
      "60000/60000 [==============================] - 18s 299us/step - loss: 0.1854 - accuracy: 0.9319\n",
      "Epoch 19/35\n",
      "60000/60000 [==============================] - 18s 298us/step - loss: 0.1811 - accuracy: 0.9326\n",
      "Epoch 20/35\n",
      "60000/60000 [==============================] - 18s 304us/step - loss: 0.1745 - accuracy: 0.9344\n",
      "Epoch 21/35\n",
      "60000/60000 [==============================] - 20s 329us/step - loss: 0.1711 - accuracy: 0.9371\n",
      "Epoch 22/35\n",
      "60000/60000 [==============================] - 20s 331us/step - loss: 0.1652 - accuracy: 0.9388\n",
      "Epoch 23/35\n",
      "60000/60000 [==============================] - 18s 305us/step - loss: 0.1614 - accuracy: 0.9399\n",
      "Epoch 24/35\n",
      "60000/60000 [==============================] - 18s 306us/step - loss: 0.1576 - accuracy: 0.9414\n",
      "Epoch 25/35\n",
      "60000/60000 [==============================] - 18s 305us/step - loss: 0.1529 - accuracy: 0.9429\n",
      "Epoch 26/35\n",
      "60000/60000 [==============================] - 19s 309us/step - loss: 0.1494 - accuracy: 0.9445\n",
      "Epoch 27/35\n",
      "60000/60000 [==============================] - 19s 324us/step - loss: 0.1461 - accuracy: 0.9459\n",
      "Epoch 28/35\n",
      "60000/60000 [==============================] - 21s 345us/step - loss: 0.1434 - accuracy: 0.9459\n",
      "Epoch 29/35\n",
      "60000/60000 [==============================] - 19s 310us/step - loss: 0.1390 - accuracy: 0.9474\n",
      "Epoch 30/35\n",
      "60000/60000 [==============================] - 19s 308us/step - loss: 0.1363 - accuracy: 0.9495\n",
      "Epoch 31/35\n",
      "60000/60000 [==============================] - 18s 308us/step - loss: 0.1318 - accuracy: 0.9513\n",
      "Epoch 32/35\n",
      "60000/60000 [==============================] - 18s 308us/step - loss: 0.1291 - accuracy: 0.9526\n",
      "Epoch 33/35\n",
      "60000/60000 [==============================] - 19s 324us/step - loss: 0.1273 - accuracy: 0.9527\n",
      "Epoch 34/35\n",
      "60000/60000 [==============================] - 21s 345us/step - loss: 0.1247 - accuracy: 0.9541\n",
      "Epoch 35/35\n",
      "60000/60000 [==============================] - 19s 311us/step - loss: 0.1219 - accuracy: 0.9543\n",
      "10000/10000 [==============================] - 1s 143us/step\n"
     ]
    },
    {
     "data": {
      "text/plain": [
       "[0.4398392338603735, 0.8851000070571899]"
      ]
     },
     "execution_count": 34,
     "metadata": {},
     "output_type": "execute_result"
    }
   ],
   "source": [
    "model = Sequential([\n",
    "  keras.layers.Flatten(input_shape=(28, 28)),\n",
    "  Dense(128, activation='relu'),\n",
    "  Dense(10, activation='softmax')\n",
    "])\n",
    "\n",
    "model.compile(\n",
    "  optimizer='adam',\n",
    "  loss='categorical_crossentropy',\n",
    "  metrics=['accuracy'],\n",
    ")\n",
    "\n",
    "model.fit(\n",
    "  train_images,\n",
    "  to_categorical(train_labels),\n",
    "  epochs=35,\n",
    "  batch_size=32,\n",
    ")\n",
    "\n",
    "model.evaluate(\n",
    "  test_images,\n",
    "  to_categorical(test_labels)\n",
    ")"
   ]
  },
  {
   "cell_type": "markdown",
   "metadata": {},
   "source": [
    "__Оптимальные найденные параметры: один скрытый слой 128 нейронов, функция активации relu, метрика на train продолжает улучшаться при 35 эпохах. Усложнение модели не даёт улучение метрики. Сильный эффект оказывает использование модели без избыточной сложности и увеличение числа эпох__"
   ]
  },
  {
   "cell_type": "code",
   "execution_count": null,
   "metadata": {},
   "outputs": [],
   "source": []
  }
 ],
 "metadata": {
  "kernelspec": {
   "display_name": "Python 3",
   "language": "python",
   "name": "python3"
  },
  "language_info": {
   "codemirror_mode": {
    "name": "ipython",
    "version": 3
   },
   "file_extension": ".py",
   "mimetype": "text/x-python",
   "name": "python",
   "nbconvert_exporter": "python",
   "pygments_lexer": "ipython3",
   "version": "3.7.1"
  }
 },
 "nbformat": 4,
 "nbformat_minor": 2
}
