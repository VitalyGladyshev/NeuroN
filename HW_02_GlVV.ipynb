{
 "cells": [
  {
   "cell_type": "markdown",
   "metadata": {},
   "source": [
    "# ДЗ №2"
   ]
  },
  {
   "cell_type": "code",
   "execution_count": 1,
   "metadata": {},
   "outputs": [
    {
     "name": "stderr",
     "output_type": "stream",
     "text": [
      "Using TensorFlow backend.\n"
     ]
    }
   ],
   "source": [
    "import numpy as np\n",
    "\n",
    "import keras\n",
    "from keras.datasets import mnist\n",
    "\n",
    "from keras.models import Sequential\n",
    "from keras.layers import Dense\n",
    "from keras.utils import to_categorical\n",
    "\n",
    "from sklearn.metrics import accuracy_score\n",
    "\n",
    "import matplotlib.pyplot as plt"
   ]
  },
  {
   "cell_type": "code",
   "execution_count": 2,
   "metadata": {},
   "outputs": [],
   "source": [
    "# from silence_tensorflow import silence_tensorflow\n",
    "# silence_tensorflow()"
   ]
  },
  {
   "cell_type": "markdown",
   "metadata": {},
   "source": [
    "## Исходный вариант сети"
   ]
  },
  {
   "cell_type": "markdown",
   "metadata": {},
   "source": [
    "1. Получение данных"
   ]
  },
  {
   "cell_type": "code",
   "execution_count": 3,
   "metadata": {},
   "outputs": [],
   "source": [
    "(train_images, train_labels), (test_images, test_labels) = mnist.load_data()"
   ]
  },
  {
   "cell_type": "code",
   "execution_count": 4,
   "metadata": {},
   "outputs": [
    {
     "name": "stdout",
     "output_type": "stream",
     "text": [
      "(60000, 28, 28)\n"
     ]
    },
    {
     "data": {
      "text/plain": [
       "array([[[0, 0, 0, ..., 0, 0, 0],\n",
       "        [0, 0, 0, ..., 0, 0, 0],\n",
       "        [0, 0, 0, ..., 0, 0, 0],\n",
       "        ...,\n",
       "        [0, 0, 0, ..., 0, 0, 0],\n",
       "        [0, 0, 0, ..., 0, 0, 0],\n",
       "        [0, 0, 0, ..., 0, 0, 0]],\n",
       "\n",
       "       [[0, 0, 0, ..., 0, 0, 0],\n",
       "        [0, 0, 0, ..., 0, 0, 0],\n",
       "        [0, 0, 0, ..., 0, 0, 0],\n",
       "        ...,\n",
       "        [0, 0, 0, ..., 0, 0, 0],\n",
       "        [0, 0, 0, ..., 0, 0, 0],\n",
       "        [0, 0, 0, ..., 0, 0, 0]]], dtype=uint8)"
      ]
     },
     "execution_count": 4,
     "metadata": {},
     "output_type": "execute_result"
    }
   ],
   "source": [
    "print(train_images.shape)\n",
    "train_images[:2]"
   ]
  },
  {
   "cell_type": "markdown",
   "metadata": {},
   "source": [
    "2. Обработка данных"
   ]
  },
  {
   "cell_type": "code",
   "execution_count": 5,
   "metadata": {},
   "outputs": [
    {
     "name": "stdout",
     "output_type": "stream",
     "text": [
      "(60000, 28, 28)\n"
     ]
    },
    {
     "data": {
      "text/plain": [
       "array([[[-0.5, -0.5, -0.5, ..., -0.5, -0.5, -0.5],\n",
       "        [-0.5, -0.5, -0.5, ..., -0.5, -0.5, -0.5],\n",
       "        [-0.5, -0.5, -0.5, ..., -0.5, -0.5, -0.5],\n",
       "        ...,\n",
       "        [-0.5, -0.5, -0.5, ..., -0.5, -0.5, -0.5],\n",
       "        [-0.5, -0.5, -0.5, ..., -0.5, -0.5, -0.5],\n",
       "        [-0.5, -0.5, -0.5, ..., -0.5, -0.5, -0.5]],\n",
       "\n",
       "       [[-0.5, -0.5, -0.5, ..., -0.5, -0.5, -0.5],\n",
       "        [-0.5, -0.5, -0.5, ..., -0.5, -0.5, -0.5],\n",
       "        [-0.5, -0.5, -0.5, ..., -0.5, -0.5, -0.5],\n",
       "        ...,\n",
       "        [-0.5, -0.5, -0.5, ..., -0.5, -0.5, -0.5],\n",
       "        [-0.5, -0.5, -0.5, ..., -0.5, -0.5, -0.5],\n",
       "        [-0.5, -0.5, -0.5, ..., -0.5, -0.5, -0.5]]])"
      ]
     },
     "execution_count": 5,
     "metadata": {},
     "output_type": "execute_result"
    }
   ],
   "source": [
    "# Normalize the images.\n",
    "train_images = (train_images / 255) - 0.5\n",
    "test_images = (test_images / 255) - 0.5\n",
    "\n",
    "print(train_images.shape)\n",
    "train_images[:2]"
   ]
  },
  {
   "cell_type": "code",
   "execution_count": 6,
   "metadata": {},
   "outputs": [
    {
     "name": "stdout",
     "output_type": "stream",
     "text": [
      "(60000, 784)\n",
      "(10000, 784)\n"
     ]
    },
    {
     "data": {
      "text/plain": [
       "array([[-0.5, -0.5, -0.5, ..., -0.5, -0.5, -0.5],\n",
       "       [-0.5, -0.5, -0.5, ..., -0.5, -0.5, -0.5]])"
      ]
     },
     "execution_count": 6,
     "metadata": {},
     "output_type": "execute_result"
    }
   ],
   "source": [
    "# Flatten the images.\n",
    "train_images = train_images.reshape((-1, 784))\n",
    "test_images = test_images.reshape((-1, 784))\n",
    "\n",
    "print(train_images.shape) # (60000, 784)\n",
    "print(test_images.shape)  # (10000, 784)\n",
    "train_images[:2]"
   ]
  },
  {
   "cell_type": "markdown",
   "metadata": {},
   "source": [
    "3. Архитектура сети"
   ]
  },
  {
   "cell_type": "code",
   "execution_count": 7,
   "metadata": {},
   "outputs": [],
   "source": [
    "model = Sequential([\n",
    "  Dense(64, activation='relu', input_shape=(784,)),\n",
    "  Dense(64, activation='relu'),\n",
    "  Dense(10, activation='softmax'),\n",
    "])"
   ]
  },
  {
   "cell_type": "markdown",
   "metadata": {},
   "source": [
    "4. Компиляция модели"
   ]
  },
  {
   "cell_type": "code",
   "execution_count": 8,
   "metadata": {},
   "outputs": [],
   "source": [
    "model.compile(\n",
    "  optimizer='adam',\n",
    "  loss='categorical_crossentropy',\n",
    "  metrics=['accuracy'],\n",
    ")"
   ]
  },
  {
   "cell_type": "markdown",
   "metadata": {},
   "source": [
    "5. Обучение модели"
   ]
  },
  {
   "cell_type": "code",
   "execution_count": 9,
   "metadata": {},
   "outputs": [
    {
     "name": "stdout",
     "output_type": "stream",
     "text": [
      "Epoch 1/5\n",
      "60000/60000 [==============================] - 12s 201us/step - loss: 0.3684 - accuracy: 0.8897\n",
      "Epoch 2/5\n",
      "60000/60000 [==============================] - 13s 222us/step - loss: 0.1930 - accuracy: 0.9409\n",
      "Epoch 3/5\n",
      "60000/60000 [==============================] - 12s 192us/step - loss: 0.1485 - accuracy: 0.9549\n",
      "Epoch 4/5\n",
      "60000/60000 [==============================] - 11s 188us/step - loss: 0.1254 - accuracy: 0.9614\n",
      "Epoch 5/5\n",
      "60000/60000 [==============================] - 11s 182us/step - loss: 0.1085 - accuracy: 0.9659\n"
     ]
    },
    {
     "data": {
      "text/plain": [
       "<keras.callbacks.callbacks.History at 0x15b77240>"
      ]
     },
     "execution_count": 9,
     "metadata": {},
     "output_type": "execute_result"
    }
   ],
   "source": [
    "model.fit(\n",
    "  train_images,\n",
    "  to_categorical(train_labels),\n",
    "  epochs=5,\n",
    "  batch_size=32,\n",
    ")"
   ]
  },
  {
   "cell_type": "code",
   "execution_count": 10,
   "metadata": {},
   "outputs": [
    {
     "data": {
      "text/plain": [
       "array([[0., 0., 0., ..., 0., 0., 0.],\n",
       "       [1., 0., 0., ..., 0., 0., 0.],\n",
       "       [0., 0., 0., ..., 0., 0., 0.],\n",
       "       ...,\n",
       "       [0., 0., 0., ..., 0., 0., 0.],\n",
       "       [0., 0., 0., ..., 0., 0., 0.],\n",
       "       [0., 0., 0., ..., 0., 1., 0.]], dtype=float32)"
      ]
     },
     "execution_count": 10,
     "metadata": {},
     "output_type": "execute_result"
    }
   ],
   "source": [
    "to_categorical(train_labels)"
   ]
  },
  {
   "cell_type": "markdown",
   "metadata": {},
   "source": [
    "6. Оценка обучения"
   ]
  },
  {
   "cell_type": "code",
   "execution_count": 11,
   "metadata": {},
   "outputs": [
    {
     "name": "stdout",
     "output_type": "stream",
     "text": [
      "10000/10000 [==============================] - 1s 82us/step\n"
     ]
    },
    {
     "data": {
      "text/plain": [
       "[0.11076618862506002, 0.9639000296592712]"
      ]
     },
     "execution_count": 11,
     "metadata": {},
     "output_type": "execute_result"
    }
   ],
   "source": [
    "model.evaluate(\n",
    "  test_images,\n",
    "  to_categorical(test_labels)\n",
    ")"
   ]
  },
  {
   "cell_type": "code",
   "execution_count": 12,
   "metadata": {},
   "outputs": [
    {
     "data": {
      "text/plain": [
       "['loss', 'accuracy']"
      ]
     },
     "execution_count": 12,
     "metadata": {},
     "output_type": "execute_result"
    }
   ],
   "source": [
    "model.metrics_names"
   ]
  },
  {
   "cell_type": "markdown",
   "metadata": {},
   "source": [
    "7. Сохранение обученной модели"
   ]
  },
  {
   "cell_type": "code",
   "execution_count": 13,
   "metadata": {},
   "outputs": [],
   "source": [
    "model.save_weights('model.h5')"
   ]
  },
  {
   "cell_type": "code",
   "execution_count": 14,
   "metadata": {},
   "outputs": [],
   "source": [
    "# Load the model from disk later using:\n",
    "# model.load_weights('model.h5')"
   ]
  },
  {
   "cell_type": "markdown",
   "metadata": {},
   "source": [
    "8. Применение на первых 10 изображениях"
   ]
  },
  {
   "cell_type": "code",
   "execution_count": 15,
   "metadata": {},
   "outputs": [
    {
     "name": "stdout",
     "output_type": "stream",
     "text": [
      "[7 2 1 0 4 1 4 9 5 9]\n"
     ]
    }
   ],
   "source": [
    "predictions_10 = model.predict(test_images[:10])\n",
    "print(np.argmax(predictions_10, axis=1))"
   ]
  },
  {
   "cell_type": "markdown",
   "metadata": {},
   "source": [
    "Сравнение с проверочными метками"
   ]
  },
  {
   "cell_type": "code",
   "execution_count": 16,
   "metadata": {},
   "outputs": [
    {
     "name": "stdout",
     "output_type": "stream",
     "text": [
      "[7 2 1 0 4 1 4 9 5 9]\n"
     ]
    }
   ],
   "source": [
    "print(test_labels[:10])"
   ]
  },
  {
   "cell_type": "code",
   "execution_count": 17,
   "metadata": {},
   "outputs": [
    {
     "name": "stdout",
     "output_type": "stream",
     "text": [
      "accuracy_score test:\t0.964\n",
      "\n",
      "\n"
     ]
    }
   ],
   "source": [
    "predictions = model.predict(test_images)\n",
    "predictions = np.argmax(predictions, axis=1)\n",
    "print(f\"accuracy_score test:\\t{accuracy_score(test_labels, predictions):.3f}\\n\\n\")"
   ]
  },
  {
   "cell_type": "markdown",
   "metadata": {},
   "source": [
    "## Подбор параметров"
   ]
  },
  {
   "cell_type": "code",
   "execution_count": 18,
   "metadata": {},
   "outputs": [],
   "source": [
    "# нужны глобальные: train_images, train_labels, test_images, test_labels\n",
    "def build_eval_nn(ep_n = 5, b_s = 32, n_num = 64, add_layer = False, vr = 1):\n",
    "    if (add_layer):\n",
    "        model = Sequential([Dense(n_num, activation='relu', input_shape=(784,)),\n",
    "                            Dense(n_num, activation='relu'),\n",
    "                            Dense(n_num, activation='relu'),\n",
    "                            Dense(10, activation='softmax')])\n",
    "    else:\n",
    "        model = Sequential([Dense(n_num, activation='relu', input_shape=(784,)),\n",
    "                            Dense(n_num, activation='relu'),\n",
    "                            Dense(10, activation='softmax')])\n",
    "    \n",
    "    model.compile(optimizer='adam',\n",
    "                  loss='categorical_crossentropy',\n",
    "                  metrics=['accuracy'])\n",
    "    \n",
    "    fit_data = model.fit(train_images,\n",
    "                         to_categorical(train_labels),\n",
    "                         epochs = ep_n,\n",
    "                         batch_size = b_s, \n",
    "                         verbose = vr)\n",
    "    \n",
    "    model_loss, model_accuracy = model.evaluate(test_images,\n",
    "                                                to_categorical(test_labels), \n",
    "                                                verbose = 0)\n",
    "    return model_loss, model_accuracy, fit_data"
   ]
  },
  {
   "cell_type": "markdown",
   "metadata": {},
   "source": [
    "### Профиль loss и accuracy на train данных (модель 2 скрытых слоя)"
   ]
  },
  {
   "cell_type": "code",
   "execution_count": 19,
   "metadata": {},
   "outputs": [
    {
     "name": "stdout",
     "output_type": "stream",
     "text": [
      "Epoch 1/25\n",
      "60000/60000 [==============================] - 11s 188us/step - loss: 0.3494 - accuracy: 0.8945\n",
      "Epoch 2/25\n",
      "60000/60000 [==============================] - 14s 240us/step - loss: 0.1791 - accuracy: 0.9455\n",
      "Epoch 3/25\n",
      "60000/60000 [==============================] - 11s 190us/step - loss: 0.1372 - accuracy: 0.9574\n",
      "Epoch 4/25\n",
      "60000/60000 [==============================] - 11s 189us/step - loss: 0.1171 - accuracy: 0.9639\n",
      "Epoch 5/25\n",
      "60000/60000 [==============================] - 11s 181us/step - loss: 0.1008 - accuracy: 0.9692\n",
      "Epoch 6/25\n",
      "60000/60000 [==============================] - 12s 195us/step - loss: 0.0884 - accuracy: 0.9725\n",
      "Epoch 7/25\n",
      "60000/60000 [==============================] - 14s 241us/step - loss: 0.0815 - accuracy: 0.9739\n",
      "Epoch 8/25\n",
      "60000/60000 [==============================] - 11s 181us/step - loss: 0.0733 - accuracy: 0.9769\n",
      "Epoch 9/25\n",
      "60000/60000 [==============================] - 11s 184us/step - loss: 0.0672 - accuracy: 0.9783\n",
      "Epoch 10/25\n",
      "60000/60000 [==============================] - 11s 180us/step - loss: 0.0603 - accuracy: 0.9806\n",
      "Epoch 11/25\n",
      "60000/60000 [==============================] - 12s 195us/step - loss: 0.0584 - accuracy: 0.9805\n",
      "Epoch 12/25\n",
      "60000/60000 [==============================] - 11s 187us/step - loss: 0.0534 - accuracy: 0.9830\n",
      "Epoch 13/25\n",
      "60000/60000 [==============================] - 11s 185us/step - loss: 0.0500 - accuracy: 0.9832\n",
      "Epoch 14/25\n",
      "60000/60000 [==============================] - 11s 184us/step - loss: 0.0463 - accuracy: 0.9844\n",
      "Epoch 15/25\n",
      "60000/60000 [==============================] - 11s 185us/step - loss: 0.0430 - accuracy: 0.9856\n",
      "Epoch 16/25\n",
      "60000/60000 [==============================] - 11s 190us/step - loss: 0.0410 - accuracy: 0.9860\n",
      "Epoch 17/25\n",
      "60000/60000 [==============================] - 14s 226us/step - loss: 0.0388 - accuracy: 0.9871\n",
      "Epoch 18/25\n",
      "60000/60000 [==============================] - 12s 194us/step - loss: 0.0380 - accuracy: 0.9877\n",
      "Epoch 19/25\n",
      "60000/60000 [==============================] - 11s 189us/step - loss: 0.0362 - accuracy: 0.9877\n",
      "Epoch 20/25\n",
      "60000/60000 [==============================] - 11s 185us/step - loss: 0.0344 - accuracy: 0.9880\n",
      "Epoch 21/25\n",
      "60000/60000 [==============================] - 11s 186us/step - loss: 0.0330 - accuracy: 0.9891\n",
      "Epoch 22/25\n",
      "60000/60000 [==============================] - 11s 189us/step - loss: 0.0315 - accuracy: 0.9893\n",
      "Epoch 23/25\n",
      "60000/60000 [==============================] - 11s 189us/step - loss: 0.0307 - accuracy: 0.9893\n",
      "Epoch 24/25\n",
      "60000/60000 [==============================] - 11s 189us/step - loss: 0.0312 - accuracy: 0.9894\n",
      "Epoch 25/25\n",
      "60000/60000 [==============================] - 11s 191us/step - loss: 0.0267 - accuracy: 0.9909\n"
     ]
    },
    {
     "data": {
      "text/plain": [
       "{'loss': [0.34942892563839756,\n",
       "  0.17907779497603576,\n",
       "  0.13723921462967992,\n",
       "  0.11705728246110181,\n",
       "  0.10076716980505734,\n",
       "  0.08838944189772009,\n",
       "  0.08145734127853066,\n",
       "  0.07330886687804014,\n",
       "  0.06723528762647572,\n",
       "  0.06029914705085879,\n",
       "  0.05843973120677595,\n",
       "  0.05337106564866068,\n",
       "  0.04999089468833991,\n",
       "  0.046263020481254594,\n",
       "  0.04301913702932652,\n",
       "  0.04100989620284236,\n",
       "  0.038766521203397616,\n",
       "  0.03804585529564259,\n",
       "  0.036240051328006666,\n",
       "  0.03440092723728449,\n",
       "  0.03303292919107189,\n",
       "  0.031523290334957224,\n",
       "  0.030664103623188565,\n",
       "  0.03117710357484951,\n",
       "  0.026654738363420378],\n",
       " 'accuracy': [0.8945,\n",
       "  0.94551665,\n",
       "  0.95743334,\n",
       "  0.96395,\n",
       "  0.96915,\n",
       "  0.97245,\n",
       "  0.97391665,\n",
       "  0.97695,\n",
       "  0.97826666,\n",
       "  0.9806333,\n",
       "  0.98046666,\n",
       "  0.98296666,\n",
       "  0.98315,\n",
       "  0.98438334,\n",
       "  0.9855833,\n",
       "  0.986,\n",
       "  0.9871,\n",
       "  0.98768336,\n",
       "  0.9877,\n",
       "  0.98803335,\n",
       "  0.98911667,\n",
       "  0.9892833,\n",
       "  0.9893,\n",
       "  0.98945,\n",
       "  0.99093336]}"
      ]
     },
     "execution_count": 19,
     "metadata": {},
     "output_type": "execute_result"
    }
   ],
   "source": [
    "model_loss, model_accuracy, fit_data = build_eval_nn(ep_n = 25)\n",
    "fit_data.history"
   ]
  },
  {
   "cell_type": "code",
   "execution_count": 20,
   "metadata": {},
   "outputs": [
    {
     "data": {
      "image/png": "[encoded data removed]",
      "text/plain": [
       "<Figure size 432x288 with 1 Axes>"
      ]
     },
     "metadata": {
      "needs_background": "light"
     },
     "output_type": "display_data"
    }
   ],
   "source": [
    "plt.plot(np.arange(1, 26), fit_data.history['loss'])\n",
    "plt.title('loss на train данных (2 слоя)', fontsize=15)\n",
    "plt.ylabel('loss')\n",
    "plt.xlabel('эпохи')\n",
    "plt.grid(True)\n",
    "plt.show()"
   ]
  },
  {
   "cell_type": "code",
   "execution_count": 21,
   "metadata": {},
   "outputs": [
    {
     "data": {
      "image/png": "[encoded data removed]",
      "text/plain": [
       "<Figure size 432x288 with 1 Axes>"
      ]
     },
     "metadata": {
      "needs_background": "light"
     },
     "output_type": "display_data"
    }
   ],
   "source": [
    "plt.plot(np.arange(1, 26), fit_data.history['accuracy'])\n",
    "plt.title('accuracy на train данных (2слоя)', fontsize=15)\n",
    "plt.ylabel('accuracy')\n",
    "plt.xlabel('эпохи')\n",
    "plt.grid(True)\n",
    "plt.show()"
   ]
  },
  {
   "cell_type": "markdown",
   "metadata": {},
   "source": [
    "### Профиль accuracy на тестовых данных (модель 2 скрытых слоя)"
   ]
  },
  {
   "cell_type": "code",
   "execution_count": 22,
   "metadata": {},
   "outputs": [],
   "source": [
    "def draw_epoch_test_profile(ep_line, vr_l = 2):\n",
    "    # ep_line = [3, 5, 7, 9, 11, 13, 15] #]\n",
    "    m_acc = []\n",
    "    \n",
    "    for ep in ep_line:\n",
    "        print(f\"Количество эпох при обучении: {ep}\")\n",
    "        m_acc.append(build_eval_nn(ep_n = ep, vr = vr_l)[1])\n",
    "    \n",
    "    plt.plot(ep_line, m_acc, 'ob')\n",
    "    plt.title('accuracy на тестовых данных', fontsize=15)\n",
    "    plt.ylabel('accuracy')\n",
    "    plt.xlabel('Количество эпох при обучении')\n",
    "    plt.grid(True)\n",
    "    plt.show()"
   ]
  },
  {
   "cell_type": "code",
   "execution_count": 23,
   "metadata": {},
   "outputs": [
    {
     "name": "stdout",
     "output_type": "stream",
     "text": [
      "Количество эпох при обучении: 3\n",
      "Epoch 1/3\n",
      " - 10s - loss: 0.3608 - accuracy: 0.8911\n",
      "Epoch 2/3\n",
      " - 10s - loss: 0.1798 - accuracy: 0.9459\n",
      "Epoch 3/3\n",
      " - 12s - loss: 0.1425 - accuracy: 0.9560\n",
      "Количество эпох при обучении: 5\n",
      "Epoch 1/5\n",
      " - 11s - loss: 0.3630 - accuracy: 0.8916\n",
      "Epoch 2/5\n",
      " - 10s - loss: 0.1925 - accuracy: 0.9420\n",
      "Epoch 3/5\n",
      " - 9s - loss: 0.1474 - accuracy: 0.9546\n",
      "Epoch 4/5\n",
      " - 9s - loss: 0.1233 - accuracy: 0.9615\n",
      "Epoch 5/5\n",
      " - 9s - loss: 0.1068 - accuracy: 0.9671\n",
      "Количество эпох при обучении: 7\n",
      "Epoch 1/7\n",
      " - 10s - loss: 0.3744 - accuracy: 0.8899\n",
      "Epoch 2/7\n",
      " - 10s - loss: 0.1966 - accuracy: 0.9413\n",
      "Epoch 3/7\n",
      " - 10s - loss: 0.1554 - accuracy: 0.9528\n",
      "Epoch 4/7\n",
      " - 9s - loss: 0.1300 - accuracy: 0.9603\n",
      "Epoch 5/7\n",
      " - 10s - loss: 0.1114 - accuracy: 0.9661\n",
      "Epoch 6/7\n",
      " - 10s - loss: 0.1012 - accuracy: 0.9689\n",
      "Epoch 7/7\n",
      " - 12s - loss: 0.0904 - accuracy: 0.9714\n",
      "Количество эпох при обучении: 9\n",
      "Epoch 1/9\n",
      " - 10s - loss: 0.3639 - accuracy: 0.8894\n",
      "Epoch 2/9\n",
      " - 9s - loss: 0.1860 - accuracy: 0.9427\n",
      "Epoch 3/9\n",
      " - 9s - loss: 0.1432 - accuracy: 0.9563\n",
      "Epoch 4/9\n",
      " - 9s - loss: 0.1211 - accuracy: 0.9621\n",
      "Epoch 5/9\n",
      " - 9s - loss: 0.1093 - accuracy: 0.9661\n",
      "Epoch 6/9\n",
      " - 10s - loss: 0.0952 - accuracy: 0.9699\n",
      "Epoch 7/9\n",
      " - 11s - loss: 0.0871 - accuracy: 0.9722\n",
      "Epoch 8/9\n",
      " - 11s - loss: 0.0818 - accuracy: 0.9740\n",
      "Epoch 9/9\n",
      " - 11s - loss: 0.0750 - accuracy: 0.9762\n",
      "Количество эпох при обучении: 11\n",
      "Epoch 1/11\n",
      " - 11s - loss: 0.3470 - accuracy: 0.8952\n",
      "Epoch 2/11\n",
      " - 10s - loss: 0.1730 - accuracy: 0.9480\n",
      "Epoch 3/11\n",
      " - 12s - loss: 0.1361 - accuracy: 0.9581\n",
      "Epoch 4/11\n",
      " - 10s - loss: 0.1135 - accuracy: 0.9639\n",
      "Epoch 5/11\n",
      " - 9s - loss: 0.1002 - accuracy: 0.9680\n",
      "Epoch 6/11\n",
      " - 9s - loss: 0.0903 - accuracy: 0.9723\n",
      "Epoch 7/11\n",
      " - 9s - loss: 0.0810 - accuracy: 0.9737\n",
      "Epoch 8/11\n",
      " - 11s - loss: 0.0736 - accuracy: 0.9759\n",
      "Epoch 9/11\n",
      " - 11s - loss: 0.0688 - accuracy: 0.9773\n",
      "Epoch 10/11\n",
      " - 11s - loss: 0.0628 - accuracy: 0.9791\n",
      "Epoch 11/11\n",
      " - 10s - loss: 0.0592 - accuracy: 0.9809\n",
      "Количество эпох при обучении: 13\n",
      "Epoch 1/13\n",
      " - 10s - loss: 0.3420 - accuracy: 0.8974\n",
      "Epoch 2/13\n",
      " - 11s - loss: 0.1748 - accuracy: 0.9463\n",
      "Epoch 3/13\n",
      " - 11s - loss: 0.1346 - accuracy: 0.9578\n",
      "Epoch 4/13\n",
      " - 10s - loss: 0.1116 - accuracy: 0.9647\n",
      "Epoch 5/13\n",
      " - 10s - loss: 0.0986 - accuracy: 0.9689\n",
      "Epoch 6/13\n",
      " - 10s - loss: 0.0862 - accuracy: 0.9735\n",
      "Epoch 7/13\n",
      " - 10s - loss: 0.0818 - accuracy: 0.9740\n",
      "Epoch 8/13\n",
      " - 9s - loss: 0.0716 - accuracy: 0.9773\n",
      "Epoch 9/13\n",
      " - 9s - loss: 0.0663 - accuracy: 0.9784\n",
      "Epoch 10/13\n",
      " - 10s - loss: 0.0606 - accuracy: 0.9803\n",
      "Epoch 11/13\n",
      " - 9s - loss: 0.0586 - accuracy: 0.9805\n",
      "Epoch 12/13\n",
      " - 9s - loss: 0.0543 - accuracy: 0.9821\n",
      "Epoch 13/13\n",
      " - 10s - loss: 0.0501 - accuracy: 0.9837\n",
      "Количество эпох при обучении: 15\n",
      "Epoch 1/15\n",
      " - 10s - loss: 0.3642 - accuracy: 0.8913\n",
      "Epoch 2/15\n",
      " - 12s - loss: 0.1887 - accuracy: 0.9433\n",
      "Epoch 3/15\n",
      " - 10s - loss: 0.1462 - accuracy: 0.9553\n",
      "Epoch 4/15\n",
      " - 10s - loss: 0.1241 - accuracy: 0.9610\n",
      "Epoch 5/15\n",
      " - 9s - loss: 0.1084 - accuracy: 0.9667\n",
      "Epoch 6/15\n",
      " - 9s - loss: 0.0949 - accuracy: 0.9703\n",
      "Epoch 7/15\n",
      " - 9s - loss: 0.0878 - accuracy: 0.9722\n",
      "Epoch 8/15\n",
      " - 9s - loss: 0.0796 - accuracy: 0.9745\n",
      "Epoch 9/15\n",
      " - 9s - loss: 0.0744 - accuracy: 0.9760\n",
      "Epoch 10/15\n",
      " - 9s - loss: 0.0691 - accuracy: 0.9777\n",
      "Epoch 11/15\n",
      " - 9s - loss: 0.0647 - accuracy: 0.9795\n",
      "Epoch 12/15\n",
      " - 10s - loss: 0.0610 - accuracy: 0.9804\n",
      "Epoch 13/15\n",
      " - 10s - loss: 0.0576 - accuracy: 0.9814\n",
      "Epoch 14/15\n",
      " - 11s - loss: 0.0532 - accuracy: 0.9819\n",
      "Epoch 15/15\n",
      " - 11s - loss: 0.0511 - accuracy: 0.9827\n"
     ]
    },
    {
     "data": {
      "image/png": "[encoded data removed]",
      "text/plain": [
       "<Figure size 432x288 with 1 Axes>"
      ]
     },
     "metadata": {
      "needs_background": "light"
     },
     "output_type": "display_data"
    }
   ],
   "source": [
    "draw_epoch_test_profile(np.arange(3, 16, 2))"
   ]
  },
  {
   "cell_type": "markdown",
   "metadata": {},
   "source": [
    "### Профиль loss и accuracy на train данных (модель 3 скрытых слоя)"
   ]
  },
  {
   "cell_type": "code",
   "execution_count": 24,
   "metadata": {},
   "outputs": [
    {
     "name": "stdout",
     "output_type": "stream",
     "text": [
      "Epoch 1/25\n",
      "60000/60000 [==============================] - 13s 212us/step - loss: 0.3522 - accuracy: 0.8913\n",
      "Epoch 2/25\n",
      "60000/60000 [==============================] - 13s 220us/step - loss: 0.1757 - accuracy: 0.9465\n",
      "Epoch 3/25\n",
      "60000/60000 [==============================] - 12s 202us/step - loss: 0.1381 - accuracy: 0.9580\n",
      "Epoch 4/25\n",
      "60000/60000 [==============================] - 13s 210us/step - loss: 0.1152 - accuracy: 0.9643\n",
      "Epoch 5/25\n",
      "60000/60000 [==============================] - 12s 206us/step - loss: 0.1000 - accuracy: 0.9695\n",
      "Epoch 6/25\n",
      "60000/60000 [==============================] - 12s 199us/step - loss: 0.0907 - accuracy: 0.9715\n",
      "Epoch 7/25\n",
      "60000/60000 [==============================] - 12s 201us/step - loss: 0.0810 - accuracy: 0.9736\n",
      "Epoch 8/25\n",
      "60000/60000 [==============================] - 13s 215us/step - loss: 0.0761 - accuracy: 0.9753\n",
      "Epoch 9/25\n",
      "60000/60000 [==============================] - 16s 260us/step - loss: 0.0699 - accuracy: 0.9772\n",
      "Epoch 10/25\n",
      "60000/60000 [==============================] - 12s 205us/step - loss: 0.0672 - accuracy: 0.9779\n",
      "Epoch 11/25\n",
      "60000/60000 [==============================] - 13s 210us/step - loss: 0.0613 - accuracy: 0.9798\n",
      "Epoch 12/25\n",
      "60000/60000 [==============================] - 12s 202us/step - loss: 0.0556 - accuracy: 0.9825\n",
      "Epoch 13/25\n",
      "60000/60000 [==============================] - 12s 202us/step - loss: 0.0552 - accuracy: 0.9820\n",
      "Epoch 14/25\n",
      "60000/60000 [==============================] - 12s 204us/step - loss: 0.0510 - accuracy: 0.9830\n",
      "Epoch 15/25\n",
      "60000/60000 [==============================] - 12s 204us/step - loss: 0.0447 - accuracy: 0.9853\n",
      "Epoch 16/25\n",
      "60000/60000 [==============================] - 12s 204us/step - loss: 0.0475 - accuracy: 0.9845\n",
      "Epoch 17/25\n",
      "60000/60000 [==============================] - 12s 207us/step - loss: 0.0446 - accuracy: 0.9851\n",
      "Epoch 18/25\n",
      "60000/60000 [==============================] - 15s 251us/step - loss: 0.0429 - accuracy: 0.9856\n",
      "Epoch 19/25\n",
      "60000/60000 [==============================] - 12s 207us/step - loss: 0.0386 - accuracy: 0.9872\n",
      "Epoch 20/25\n",
      "60000/60000 [==============================] - 12s 204us/step - loss: 0.0382 - accuracy: 0.9873\n",
      "Epoch 21/25\n",
      "60000/60000 [==============================] - 13s 209us/step - loss: 0.0394 - accuracy: 0.9867\n",
      "Epoch 22/25\n",
      "60000/60000 [==============================] - 13s 220us/step - loss: 0.0351 - accuracy: 0.9878\n",
      "Epoch 23/25\n",
      "60000/60000 [==============================] - 13s 223us/step - loss: 0.0352 - accuracy: 0.9884\n",
      "Epoch 24/25\n",
      "60000/60000 [==============================] - 14s 226us/step - loss: 0.0345 - accuracy: 0.9885\n",
      "Epoch 25/25\n",
      "60000/60000 [==============================] - 13s 219us/step - loss: 0.0322 - accuracy: 0.9893\n"
     ]
    }
   ],
   "source": [
    "model_loss, model_accuracy, fit_data = build_eval_nn(ep_n = 25, add_layer = True)"
   ]
  },
  {
   "cell_type": "code",
   "execution_count": 25,
   "metadata": {},
   "outputs": [
    {
     "data": {
      "image/png": "[encoded data removed]",
      "text/plain": [
       "<Figure size 432x288 with 1 Axes>"
      ]
     },
     "metadata": {
      "needs_background": "light"
     },
     "output_type": "display_data"
    }
   ],
   "source": [
    "plt.plot(np.arange(1, 26), fit_data.history['loss'])\n",
    "plt.title('loss на train данных (3 слоя)', fontsize=15)\n",
    "plt.ylabel('loss')\n",
    "plt.xlabel('эпохи')\n",
    "plt.grid(True)\n",
    "plt.show()"
   ]
  },
  {
   "cell_type": "code",
   "execution_count": 26,
   "metadata": {},
   "outputs": [
    {
     "data": {
      "image/png": "[encoded data removed]",
      "text/plain": [
       "<Figure size 432x288 with 1 Axes>"
      ]
     },
     "metadata": {
      "needs_background": "light"
     },
     "output_type": "display_data"
    }
   ],
   "source": [
    "plt.plot(np.arange(1, 26), fit_data.history['accuracy'])\n",
    "plt.title('accuracy на train данных (3 слоя)', fontsize=15)\n",
    "plt.ylabel('accuracy')\n",
    "plt.xlabel('эпохи')\n",
    "plt.grid(True)\n",
    "plt.show()"
   ]
  },
  {
   "cell_type": "markdown",
   "metadata": {},
   "source": [
    "### grid search"
   ]
  },
  {
   "cell_type": "code",
   "execution_count": 27,
   "metadata": {},
   "outputs": [],
   "source": [
    "def grid_search(batch_size, n_num, add_l = False, ep = 5, vr = 0):\n",
    "    b_acc = b_b_s = b_n_n = 0\n",
    "\n",
    "    for b_s in batch_size:\n",
    "        for n_n in n_num:\n",
    "            print(f\"Модель - эпох: {ep}, batch_size: {b_s}, нейронов в слое: {n_n}\")\n",
    "            model_loss, model_accuracy, fit_data = build_eval_nn(ep_n = ep, \n",
    "                                                                 b_s = b_s, \n",
    "                                                                 n_num = n_n,\n",
    "                                                                 add_layer = add_l,\n",
    "                                                                 vr = 0)\n",
    "            print(f\"\\t model_loss: {model_loss:.4f}, model_accuracy: {model_accuracy:.4f}\")\n",
    "            if b_acc < model_accuracy:\n",
    "                b_acc = model_accuracy\n",
    "                b_b_s = b_s\n",
    "                b_n_n = n_n\n",
    "    \n",
    "    print(f\"\\nЛучший показатель accuracy на тестовых данных: {b_acc}\")\n",
    "    print(f\"\\tПараметры модели - batch_size: {b_b_s}, нейронов в слое: {b_n_n}\")"
   ]
  },
  {
   "cell_type": "code",
   "execution_count": 28,
   "metadata": {},
   "outputs": [
    {
     "name": "stdout",
     "output_type": "stream",
     "text": [
      "Модель - эпох: 5, batch_size: 24, нейронов в слое: 56\n",
      "\t model_loss: 0.1331, model_accuracy: 0.9568\n",
      "Модель - эпох: 5, batch_size: 24, нейронов в слое: 64\n",
      "\t model_loss: 0.1191, model_accuracy: 0.9616\n",
      "Модель - эпох: 5, batch_size: 24, нейронов в слое: 78\n",
      "\t model_loss: 0.1137, model_accuracy: 0.9649\n",
      "Модель - эпох: 5, batch_size: 32, нейронов в слое: 56\n",
      "\t model_loss: 0.1217, model_accuracy: 0.9628\n",
      "Модель - эпох: 5, batch_size: 32, нейронов в слое: 64\n",
      "\t model_loss: 0.1099, model_accuracy: 0.9654\n",
      "Модель - эпох: 5, batch_size: 32, нейронов в слое: 78\n",
      "\t model_loss: 0.1099, model_accuracy: 0.9666\n",
      "Модель - эпох: 5, batch_size: 48, нейронов в слое: 56\n",
      "\t model_loss: 0.1310, model_accuracy: 0.9585\n",
      "Модель - эпох: 5, batch_size: 48, нейронов в слое: 64\n",
      "\t model_loss: 0.1163, model_accuracy: 0.9622\n",
      "Модель - эпох: 5, batch_size: 48, нейронов в слое: 78\n",
      "\t model_loss: 0.1072, model_accuracy: 0.9656\n",
      "\n",
      "Лучший показатель accuracy на тестовых данных: 0.9666000008583069\n",
      "\tПараметры модели - batch_size: 32, нейронов в слое: 78\n"
     ]
    }
   ],
   "source": [
    "batch_size = [24, 32, 48]\n",
    "n_num = [56, 64, 78]\n",
    "#add_layer = [False, True]\n",
    "\n",
    "grid_search(batch_size, n_num)"
   ]
  },
  {
   "cell_type": "markdown",
   "metadata": {},
   "source": [
    "__Драматического влияния изменения архитектуры на оценку не выявлено. Оставляем исходную архитектуру и увеличиваем (до 25) количество эпох__"
   ]
  },
  {
   "cell_type": "code",
   "execution_count": null,
   "metadata": {},
   "outputs": [],
   "source": []
  }
 ],
 "metadata": {
  "kernelspec": {
   "display_name": "Python 3",
   "language": "python",
   "name": "python3"
  },
  "language_info": {
   "codemirror_mode": {
    "name": "ipython",
    "version": 3
   },
   "file_extension": ".py",
   "mimetype": "text/x-python",
   "name": "python",
   "nbconvert_exporter": "python",
   "pygments_lexer": "ipython3",
   "version": "3.7.1"
  }
 },
 "nbformat": 4,
 "nbformat_minor": 2
}
