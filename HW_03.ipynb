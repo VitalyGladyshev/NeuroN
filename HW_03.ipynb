{
  "nbformat": 4,
  "nbformat_minor": 0,
  "metadata": {
    "colab": {
      "name": "HW_03.ipynb",
      "provenance": [],
      "collapsed_sections": [],
      "authorship_tag": "ABX9TyNM9RfQkaHWBqcfUuuRB/Hc",
      "include_colab_link": true
    },
    "kernelspec": {
      "name": "python3",
      "display_name": "Python 3"
    },
    "accelerator": "GPU",
    "widgets": {
      "application/vnd.jupyter.widget-state+json": {
        "99e835defc704c8585a94f08ca824163": {
          "model_module": "@jupyter-widgets/controls",
          "model_name": "HBoxModel",
          "state": {
            "_view_name": "HBoxView",
            "_dom_classes": [],
            "_model_name": "HBoxModel",
            "_view_module": "@jupyter-widgets/controls",
            "_model_module_version": "1.5.0",
            "_view_count": null,
            "_view_module_version": "1.5.0",
            "box_style": "",
            "layout": "IPY_MODEL_db8d53ca0e424fb49c39c0b010eba72e",
            "_model_module": "@jupyter-widgets/controls",
            "children": [
              "IPY_MODEL_b6595de24e9b4f938513252d66d285b7",
              "IPY_MODEL_2882c5bc2bc34be7ad6f5b21a8bf24f7"
            ]
          }
        },
        "db8d53ca0e424fb49c39c0b010eba72e": {
          "model_module": "@jupyter-widgets/base",
          "model_name": "LayoutModel",
          "state": {
            "_view_name": "LayoutView",
            "grid_template_rows": null,
            "right": null,
            "justify_content": null,
            "_view_module": "@jupyter-widgets/base",
            "overflow": null,
            "_model_module_version": "1.2.0",
            "_view_count": null,
            "flex_flow": null,
            "width": null,
            "min_width": null,
            "border": null,
            "align_items": null,
            "bottom": null,
            "_model_module": "@jupyter-widgets/base",
            "top": null,
            "grid_column": null,
            "overflow_y": null,
            "overflow_x": null,
            "grid_auto_flow": null,
            "grid_area": null,
            "grid_template_columns": null,
            "flex": null,
            "_model_name": "LayoutModel",
            "justify_items": null,
            "grid_row": null,
            "max_height": null,
            "align_content": null,
            "visibility": null,
            "align_self": null,
            "height": null,
            "min_height": null,
            "padding": null,
            "grid_auto_rows": null,
            "grid_gap": null,
            "max_width": null,
            "order": null,
            "_view_module_version": "1.2.0",
            "grid_template_areas": null,
            "object_position": null,
            "object_fit": null,
            "grid_auto_columns": null,
            "margin": null,
            "display": null,
            "left": null
          }
        },
        "b6595de24e9b4f938513252d66d285b7": {
          "model_module": "@jupyter-widgets/controls",
          "model_name": "FloatProgressModel",
          "state": {
            "_view_name": "ProgressView",
            "style": "IPY_MODEL_aa646787170e4da3bc84fbb68f3557ce",
            "_dom_classes": [],
            "description": "Dl Completed...: 100%",
            "_model_name": "FloatProgressModel",
            "bar_style": "success",
            "max": 1,
            "_view_module": "@jupyter-widgets/controls",
            "_model_module_version": "1.5.0",
            "value": 1,
            "_view_count": null,
            "_view_module_version": "1.5.0",
            "orientation": "horizontal",
            "min": 0,
            "description_tooltip": null,
            "_model_module": "@jupyter-widgets/controls",
            "layout": "IPY_MODEL_42d69e77b52f45719700ad431f7ad225"
          }
        },
        "2882c5bc2bc34be7ad6f5b21a8bf24f7": {
          "model_module": "@jupyter-widgets/controls",
          "model_name": "HTMLModel",
          "state": {
            "_view_name": "HTMLView",
            "style": "IPY_MODEL_1c9dd56e6820441e9d08fa3694d32c64",
            "_dom_classes": [],
            "description": "",
            "_model_name": "HTMLModel",
            "placeholder": "​",
            "_view_module": "@jupyter-widgets/controls",
            "_model_module_version": "1.5.0",
            "value": " 1/1 [00:01&lt;00:00,  1.87s/ url]",
            "_view_count": null,
            "_view_module_version": "1.5.0",
            "description_tooltip": null,
            "_model_module": "@jupyter-widgets/controls",
            "layout": "IPY_MODEL_2d820c0ca30a426294bac2f9ae0b0cc3"
          }
        },
        "aa646787170e4da3bc84fbb68f3557ce": {
          "model_module": "@jupyter-widgets/controls",
          "model_name": "ProgressStyleModel",
          "state": {
            "_view_name": "StyleView",
            "_model_name": "ProgressStyleModel",
            "description_width": "initial",
            "_view_module": "@jupyter-widgets/base",
            "_model_module_version": "1.5.0",
            "_view_count": null,
            "_view_module_version": "1.2.0",
            "bar_color": null,
            "_model_module": "@jupyter-widgets/controls"
          }
        },
        "42d69e77b52f45719700ad431f7ad225": {
          "model_module": "@jupyter-widgets/base",
          "model_name": "LayoutModel",
          "state": {
            "_view_name": "LayoutView",
            "grid_template_rows": null,
            "right": null,
            "justify_content": null,
            "_view_module": "@jupyter-widgets/base",
            "overflow": null,
            "_model_module_version": "1.2.0",
            "_view_count": null,
            "flex_flow": null,
            "width": null,
            "min_width": null,
            "border": null,
            "align_items": null,
            "bottom": null,
            "_model_module": "@jupyter-widgets/base",
            "top": null,
            "grid_column": null,
            "overflow_y": null,
            "overflow_x": null,
            "grid_auto_flow": null,
            "grid_area": null,
            "grid_template_columns": null,
            "flex": null,
            "_model_name": "LayoutModel",
            "justify_items": null,
            "grid_row": null,
            "max_height": null,
            "align_content": null,
            "visibility": null,
            "align_self": null,
            "height": null,
            "min_height": null,
            "padding": null,
            "grid_auto_rows": null,
            "grid_gap": null,
            "max_width": null,
            "order": null,
            "_view_module_version": "1.2.0",
            "grid_template_areas": null,
            "object_position": null,
            "object_fit": null,
            "grid_auto_columns": null,
            "margin": null,
            "display": null,
            "left": null
          }
        },
        "1c9dd56e6820441e9d08fa3694d32c64": {
          "model_module": "@jupyter-widgets/controls",
          "model_name": "DescriptionStyleModel",
          "state": {
            "_view_name": "StyleView",
            "_model_name": "DescriptionStyleModel",
            "description_width": "",
            "_view_module": "@jupyter-widgets/base",
            "_model_module_version": "1.5.0",
            "_view_count": null,
            "_view_module_version": "1.2.0",
            "_model_module": "@jupyter-widgets/controls"
          }
        },
        "2d820c0ca30a426294bac2f9ae0b0cc3": {
          "model_module": "@jupyter-widgets/base",
          "model_name": "LayoutModel",
          "state": {
            "_view_name": "LayoutView",
            "grid_template_rows": null,
            "right": null,
            "justify_content": null,
            "_view_module": "@jupyter-widgets/base",
            "overflow": null,
            "_model_module_version": "1.2.0",
            "_view_count": null,
            "flex_flow": null,
            "width": null,
            "min_width": null,
            "border": null,
            "align_items": null,
            "bottom": null,
            "_model_module": "@jupyter-widgets/base",
            "top": null,
            "grid_column": null,
            "overflow_y": null,
            "overflow_x": null,
            "grid_auto_flow": null,
            "grid_area": null,
            "grid_template_columns": null,
            "flex": null,
            "_model_name": "LayoutModel",
            "justify_items": null,
            "grid_row": null,
            "max_height": null,
            "align_content": null,
            "visibility": null,
            "align_self": null,
            "height": null,
            "min_height": null,
            "padding": null,
            "grid_auto_rows": null,
            "grid_gap": null,
            "max_width": null,
            "order": null,
            "_view_module_version": "1.2.0",
            "grid_template_areas": null,
            "object_position": null,
            "object_fit": null,
            "grid_auto_columns": null,
            "margin": null,
            "display": null,
            "left": null
          }
        },
        "58553169ce7949ea961ecf78809f6190": {
          "model_module": "@jupyter-widgets/controls",
          "model_name": "HBoxModel",
          "state": {
            "_view_name": "HBoxView",
            "_dom_classes": [],
            "_model_name": "HBoxModel",
            "_view_module": "@jupyter-widgets/controls",
            "_model_module_version": "1.5.0",
            "_view_count": null,
            "_view_module_version": "1.5.0",
            "box_style": "",
            "layout": "IPY_MODEL_9d82fc7586b043cab0b2cf19e03ec3f5",
            "_model_module": "@jupyter-widgets/controls",
            "children": [
              "IPY_MODEL_8a5b7949f6b745f3918303c134675166",
              "IPY_MODEL_b5f9da67858e46acb40a52ad3fd7e8c3"
            ]
          }
        },
        "9d82fc7586b043cab0b2cf19e03ec3f5": {
          "model_module": "@jupyter-widgets/base",
          "model_name": "LayoutModel",
          "state": {
            "_view_name": "LayoutView",
            "grid_template_rows": null,
            "right": null,
            "justify_content": null,
            "_view_module": "@jupyter-widgets/base",
            "overflow": null,
            "_model_module_version": "1.2.0",
            "_view_count": null,
            "flex_flow": null,
            "width": null,
            "min_width": null,
            "border": null,
            "align_items": null,
            "bottom": null,
            "_model_module": "@jupyter-widgets/base",
            "top": null,
            "grid_column": null,
            "overflow_y": null,
            "overflow_x": null,
            "grid_auto_flow": null,
            "grid_area": null,
            "grid_template_columns": null,
            "flex": null,
            "_model_name": "LayoutModel",
            "justify_items": null,
            "grid_row": null,
            "max_height": null,
            "align_content": null,
            "visibility": null,
            "align_self": null,
            "height": null,
            "min_height": null,
            "padding": null,
            "grid_auto_rows": null,
            "grid_gap": null,
            "max_width": null,
            "order": null,
            "_view_module_version": "1.2.0",
            "grid_template_areas": null,
            "object_position": null,
            "object_fit": null,
            "grid_auto_columns": null,
            "margin": null,
            "display": null,
            "left": null
          }
        },
        "8a5b7949f6b745f3918303c134675166": {
          "model_module": "@jupyter-widgets/controls",
          "model_name": "FloatProgressModel",
          "state": {
            "_view_name": "ProgressView",
            "style": "IPY_MODEL_8ad2acd60e4b4b63ab28a1f3992db7f1",
            "_dom_classes": [],
            "description": "Dl Size...: 100%",
            "_model_name": "FloatProgressModel",
            "bar_style": "success",
            "max": 1,
            "_view_module": "@jupyter-widgets/controls",
            "_model_module_version": "1.5.0",
            "value": 1,
            "_view_count": null,
            "_view_module_version": "1.5.0",
            "orientation": "horizontal",
            "min": 0,
            "description_tooltip": null,
            "_model_module": "@jupyter-widgets/controls",
            "layout": "IPY_MODEL_6c713334a81348c28a9d838e15cc15ec"
          }
        },
        "b5f9da67858e46acb40a52ad3fd7e8c3": {
          "model_module": "@jupyter-widgets/controls",
          "model_name": "HTMLModel",
          "state": {
            "_view_name": "HTMLView",
            "style": "IPY_MODEL_27349f24dbe0432fa1d99e0f05e25ed3",
            "_dom_classes": [],
            "description": "",
            "_model_name": "HTMLModel",
            "placeholder": "​",
            "_view_module": "@jupyter-widgets/controls",
            "_model_module_version": "1.5.0",
            "value": " 80/80 [00:01&lt;00:00, 43.49 MiB/s]",
            "_view_count": null,
            "_view_module_version": "1.5.0",
            "description_tooltip": null,
            "_model_module": "@jupyter-widgets/controls",
            "layout": "IPY_MODEL_1fb8b32b415247c2a96cc2750ea3309c"
          }
        },
        "8ad2acd60e4b4b63ab28a1f3992db7f1": {
          "model_module": "@jupyter-widgets/controls",
          "model_name": "ProgressStyleModel",
          "state": {
            "_view_name": "StyleView",
            "_model_name": "ProgressStyleModel",
            "description_width": "initial",
            "_view_module": "@jupyter-widgets/base",
            "_model_module_version": "1.5.0",
            "_view_count": null,
            "_view_module_version": "1.2.0",
            "bar_color": null,
            "_model_module": "@jupyter-widgets/controls"
          }
        },
        "6c713334a81348c28a9d838e15cc15ec": {
          "model_module": "@jupyter-widgets/base",
          "model_name": "LayoutModel",
          "state": {
            "_view_name": "LayoutView",
            "grid_template_rows": null,
            "right": null,
            "justify_content": null,
            "_view_module": "@jupyter-widgets/base",
            "overflow": null,
            "_model_module_version": "1.2.0",
            "_view_count": null,
            "flex_flow": null,
            "width": null,
            "min_width": null,
            "border": null,
            "align_items": null,
            "bottom": null,
            "_model_module": "@jupyter-widgets/base",
            "top": null,
            "grid_column": null,
            "overflow_y": null,
            "overflow_x": null,
            "grid_auto_flow": null,
            "grid_area": null,
            "grid_template_columns": null,
            "flex": null,
            "_model_name": "LayoutModel",
            "justify_items": null,
            "grid_row": null,
            "max_height": null,
            "align_content": null,
            "visibility": null,
            "align_self": null,
            "height": null,
            "min_height": null,
            "padding": null,
            "grid_auto_rows": null,
            "grid_gap": null,
            "max_width": null,
            "order": null,
            "_view_module_version": "1.2.0",
            "grid_template_areas": null,
            "object_position": null,
            "object_fit": null,
            "grid_auto_columns": null,
            "margin": null,
            "display": null,
            "left": null
          }
        },
        "27349f24dbe0432fa1d99e0f05e25ed3": {
          "model_module": "@jupyter-widgets/controls",
          "model_name": "DescriptionStyleModel",
          "state": {
            "_view_name": "StyleView",
            "_model_name": "DescriptionStyleModel",
            "description_width": "",
            "_view_module": "@jupyter-widgets/base",
            "_model_module_version": "1.5.0",
            "_view_count": null,
            "_view_module_version": "1.2.0",
            "_model_module": "@jupyter-widgets/controls"
          }
        },
        "1fb8b32b415247c2a96cc2750ea3309c": {
          "model_module": "@jupyter-widgets/base",
          "model_name": "LayoutModel",
          "state": {
            "_view_name": "LayoutView",
            "grid_template_rows": null,
            "right": null,
            "justify_content": null,
            "_view_module": "@jupyter-widgets/base",
            "overflow": null,
            "_model_module_version": "1.2.0",
            "_view_count": null,
            "flex_flow": null,
            "width": null,
            "min_width": null,
            "border": null,
            "align_items": null,
            "bottom": null,
            "_model_module": "@jupyter-widgets/base",
            "top": null,
            "grid_column": null,
            "overflow_y": null,
            "overflow_x": null,
            "grid_auto_flow": null,
            "grid_area": null,
            "grid_template_columns": null,
            "flex": null,
            "_model_name": "LayoutModel",
            "justify_items": null,
            "grid_row": null,
            "max_height": null,
            "align_content": null,
            "visibility": null,
            "align_self": null,
            "height": null,
            "min_height": null,
            "padding": null,
            "grid_auto_rows": null,
            "grid_gap": null,
            "max_width": null,
            "order": null,
            "_view_module_version": "1.2.0",
            "grid_template_areas": null,
            "object_position": null,
            "object_fit": null,
            "grid_auto_columns": null,
            "margin": null,
            "display": null,
            "left": null
          }
        },
        "76ba51fbc8894d19a9f153573dcc2e3f": {
          "model_module": "@jupyter-widgets/controls",
          "model_name": "HBoxModel",
          "state": {
            "_view_name": "HBoxView",
            "_dom_classes": [],
            "_model_name": "HBoxModel",
            "_view_module": "@jupyter-widgets/controls",
            "_model_module_version": "1.5.0",
            "_view_count": null,
            "_view_module_version": "1.5.0",
            "box_style": "",
            "layout": "IPY_MODEL_625ee8dac6b24bf1a8063d2ed356be49",
            "_model_module": "@jupyter-widgets/controls",
            "children": [
              "IPY_MODEL_a506271d948d49d2876e58113e464f84",
              "IPY_MODEL_2b10d44d651347968a76a993d85d042e"
            ]
          }
        },
        "625ee8dac6b24bf1a8063d2ed356be49": {
          "model_module": "@jupyter-widgets/base",
          "model_name": "LayoutModel",
          "state": {
            "_view_name": "LayoutView",
            "grid_template_rows": null,
            "right": null,
            "justify_content": null,
            "_view_module": "@jupyter-widgets/base",
            "overflow": null,
            "_model_module_version": "1.2.0",
            "_view_count": null,
            "flex_flow": null,
            "width": null,
            "min_width": null,
            "border": null,
            "align_items": null,
            "bottom": null,
            "_model_module": "@jupyter-widgets/base",
            "top": null,
            "grid_column": null,
            "overflow_y": null,
            "overflow_x": null,
            "grid_auto_flow": null,
            "grid_area": null,
            "grid_template_columns": null,
            "flex": null,
            "_model_name": "LayoutModel",
            "justify_items": null,
            "grid_row": null,
            "max_height": null,
            "align_content": null,
            "visibility": null,
            "align_self": null,
            "height": null,
            "min_height": null,
            "padding": null,
            "grid_auto_rows": null,
            "grid_gap": null,
            "max_width": null,
            "order": null,
            "_view_module_version": "1.2.0",
            "grid_template_areas": null,
            "object_position": null,
            "object_fit": null,
            "grid_auto_columns": null,
            "margin": null,
            "display": null,
            "left": null
          }
        },
        "a506271d948d49d2876e58113e464f84": {
          "model_module": "@jupyter-widgets/controls",
          "model_name": "FloatProgressModel",
          "state": {
            "_view_name": "ProgressView",
            "style": "IPY_MODEL_1d56d223b6264a1a8fcb5a02a27f2b1c",
            "_dom_classes": [],
            "description": "",
            "_model_name": "FloatProgressModel",
            "bar_style": "info",
            "max": 1,
            "_view_module": "@jupyter-widgets/controls",
            "_model_module_version": "1.5.0",
            "value": 1,
            "_view_count": null,
            "_view_module_version": "1.5.0",
            "orientation": "horizontal",
            "min": 0,
            "description_tooltip": null,
            "_model_module": "@jupyter-widgets/controls",
            "layout": "IPY_MODEL_66e4670120a94e718a397a66d39ff350"
          }
        },
        "2b10d44d651347968a76a993d85d042e": {
          "model_module": "@jupyter-widgets/controls",
          "model_name": "HTMLModel",
          "state": {
            "_view_name": "HTMLView",
            "style": "IPY_MODEL_aa5008a65d3f4cc5acfb1e5a8cb48a0e",
            "_dom_classes": [],
            "description": "",
            "_model_name": "HTMLModel",
            "placeholder": "​",
            "_view_module": "@jupyter-widgets/controls",
            "_model_module_version": "1.5.0",
            "value": " 25000/0 [00:13&lt;00:00, 3312.06 examples/s]",
            "_view_count": null,
            "_view_module_version": "1.5.0",
            "description_tooltip": null,
            "_model_module": "@jupyter-widgets/controls",
            "layout": "IPY_MODEL_13d2db6ac29e4a9cb528b73f008fcdac"
          }
        },
        "1d56d223b6264a1a8fcb5a02a27f2b1c": {
          "model_module": "@jupyter-widgets/controls",
          "model_name": "ProgressStyleModel",
          "state": {
            "_view_name": "StyleView",
            "_model_name": "ProgressStyleModel",
            "description_width": "initial",
            "_view_module": "@jupyter-widgets/base",
            "_model_module_version": "1.5.0",
            "_view_count": null,
            "_view_module_version": "1.2.0",
            "bar_color": null,
            "_model_module": "@jupyter-widgets/controls"
          }
        },
        "66e4670120a94e718a397a66d39ff350": {
          "model_module": "@jupyter-widgets/base",
          "model_name": "LayoutModel",
          "state": {
            "_view_name": "LayoutView",
            "grid_template_rows": null,
            "right": null,
            "justify_content": null,
            "_view_module": "@jupyter-widgets/base",
            "overflow": null,
            "_model_module_version": "1.2.0",
            "_view_count": null,
            "flex_flow": null,
            "width": null,
            "min_width": null,
            "border": null,
            "align_items": null,
            "bottom": null,
            "_model_module": "@jupyter-widgets/base",
            "top": null,
            "grid_column": null,
            "overflow_y": null,
            "overflow_x": null,
            "grid_auto_flow": null,
            "grid_area": null,
            "grid_template_columns": null,
            "flex": null,
            "_model_name": "LayoutModel",
            "justify_items": null,
            "grid_row": null,
            "max_height": null,
            "align_content": null,
            "visibility": null,
            "align_self": null,
            "height": null,
            "min_height": null,
            "padding": null,
            "grid_auto_rows": null,
            "grid_gap": null,
            "max_width": null,
            "order": null,
            "_view_module_version": "1.2.0",
            "grid_template_areas": null,
            "object_position": null,
            "object_fit": null,
            "grid_auto_columns": null,
            "margin": null,
            "display": null,
            "left": null
          }
        },
        "aa5008a65d3f4cc5acfb1e5a8cb48a0e": {
          "model_module": "@jupyter-widgets/controls",
          "model_name": "DescriptionStyleModel",
          "state": {
            "_view_name": "StyleView",
            "_model_name": "DescriptionStyleModel",
            "description_width": "",
            "_view_module": "@jupyter-widgets/base",
            "_model_module_version": "1.5.0",
            "_view_count": null,
            "_view_module_version": "1.2.0",
            "_model_module": "@jupyter-widgets/controls"
          }
        },
        "13d2db6ac29e4a9cb528b73f008fcdac": {
          "model_module": "@jupyter-widgets/base",
          "model_name": "LayoutModel",
          "state": {
            "_view_name": "LayoutView",
            "grid_template_rows": null,
            "right": null,
            "justify_content": null,
            "_view_module": "@jupyter-widgets/base",
            "overflow": null,
            "_model_module_version": "1.2.0",
            "_view_count": null,
            "flex_flow": null,
            "width": null,
            "min_width": null,
            "border": null,
            "align_items": null,
            "bottom": null,
            "_model_module": "@jupyter-widgets/base",
            "top": null,
            "grid_column": null,
            "overflow_y": null,
            "overflow_x": null,
            "grid_auto_flow": null,
            "grid_area": null,
            "grid_template_columns": null,
            "flex": null,
            "_model_name": "LayoutModel",
            "justify_items": null,
            "grid_row": null,
            "max_height": null,
            "align_content": null,
            "visibility": null,
            "align_self": null,
            "height": null,
            "min_height": null,
            "padding": null,
            "grid_auto_rows": null,
            "grid_gap": null,
            "max_width": null,
            "order": null,
            "_view_module_version": "1.2.0",
            "grid_template_areas": null,
            "object_position": null,
            "object_fit": null,
            "grid_auto_columns": null,
            "margin": null,
            "display": null,
            "left": null
          }
        },
        "f26a562a47984625b8fb553a1b37d09e": {
          "model_module": "@jupyter-widgets/controls",
          "model_name": "HBoxModel",
          "state": {
            "_view_name": "HBoxView",
            "_dom_classes": [],
            "_model_name": "HBoxModel",
            "_view_module": "@jupyter-widgets/controls",
            "_model_module_version": "1.5.0",
            "_view_count": null,
            "_view_module_version": "1.5.0",
            "box_style": "",
            "layout": "IPY_MODEL_4fbc235ce40d440091264d599082c01e",
            "_model_module": "@jupyter-widgets/controls",
            "children": [
              "IPY_MODEL_ff0ad71aa5f148ccbb3bba98fd3eb390",
              "IPY_MODEL_85b48b56219645858fd747d16c791d68"
            ]
          }
        },
        "4fbc235ce40d440091264d599082c01e": {
          "model_module": "@jupyter-widgets/base",
          "model_name": "LayoutModel",
          "state": {
            "_view_name": "LayoutView",
            "grid_template_rows": null,
            "right": null,
            "justify_content": null,
            "_view_module": "@jupyter-widgets/base",
            "overflow": null,
            "_model_module_version": "1.2.0",
            "_view_count": null,
            "flex_flow": null,
            "width": null,
            "min_width": null,
            "border": null,
            "align_items": null,
            "bottom": null,
            "_model_module": "@jupyter-widgets/base",
            "top": null,
            "grid_column": null,
            "overflow_y": null,
            "overflow_x": null,
            "grid_auto_flow": null,
            "grid_area": null,
            "grid_template_columns": null,
            "flex": null,
            "_model_name": "LayoutModel",
            "justify_items": null,
            "grid_row": null,
            "max_height": null,
            "align_content": null,
            "visibility": null,
            "align_self": null,
            "height": null,
            "min_height": null,
            "padding": null,
            "grid_auto_rows": null,
            "grid_gap": null,
            "max_width": null,
            "order": null,
            "_view_module_version": "1.2.0",
            "grid_template_areas": null,
            "object_position": null,
            "object_fit": null,
            "grid_auto_columns": null,
            "margin": null,
            "display": null,
            "left": null
          }
        },
        "ff0ad71aa5f148ccbb3bba98fd3eb390": {
          "model_module": "@jupyter-widgets/controls",
          "model_name": "FloatProgressModel",
          "state": {
            "_view_name": "ProgressView",
            "style": "IPY_MODEL_320726ada62f4342b7052cc21c71ad5a",
            "_dom_classes": [],
            "description": " 52%",
            "_model_name": "FloatProgressModel",
            "bar_style": "danger",
            "max": 25000,
            "_view_module": "@jupyter-widgets/controls",
            "_model_module_version": "1.5.0",
            "value": 13062,
            "_view_count": null,
            "_view_module_version": "1.5.0",
            "orientation": "horizontal",
            "min": 0,
            "description_tooltip": null,
            "_model_module": "@jupyter-widgets/controls",
            "layout": "IPY_MODEL_c61876ee5c724c11b463afaba95bb562"
          }
        },
        "85b48b56219645858fd747d16c791d68": {
          "model_module": "@jupyter-widgets/controls",
          "model_name": "HTMLModel",
          "state": {
            "_view_name": "HTMLView",
            "style": "IPY_MODEL_6a1c2654e2a142c186ef0075952385b8",
            "_dom_classes": [],
            "description": "",
            "_model_name": "HTMLModel",
            "placeholder": "​",
            "_view_module": "@jupyter-widgets/controls",
            "_model_module_version": "1.5.0",
            "value": " 13062/25000 [00:00&lt;00:00, 130617.63 examples/s]",
            "_view_count": null,
            "_view_module_version": "1.5.0",
            "description_tooltip": null,
            "_model_module": "@jupyter-widgets/controls",
            "layout": "IPY_MODEL_16a703015e1247468d7d7f1e31fc4881"
          }
        },
        "320726ada62f4342b7052cc21c71ad5a": {
          "model_module": "@jupyter-widgets/controls",
          "model_name": "ProgressStyleModel",
          "state": {
            "_view_name": "StyleView",
            "_model_name": "ProgressStyleModel",
            "description_width": "initial",
            "_view_module": "@jupyter-widgets/base",
            "_model_module_version": "1.5.0",
            "_view_count": null,
            "_view_module_version": "1.2.0",
            "bar_color": null,
            "_model_module": "@jupyter-widgets/controls"
          }
        },
        "c61876ee5c724c11b463afaba95bb562": {
          "model_module": "@jupyter-widgets/base",
          "model_name": "LayoutModel",
          "state": {
            "_view_name": "LayoutView",
            "grid_template_rows": null,
            "right": null,
            "justify_content": null,
            "_view_module": "@jupyter-widgets/base",
            "overflow": null,
            "_model_module_version": "1.2.0",
            "_view_count": null,
            "flex_flow": null,
            "width": null,
            "min_width": null,
            "border": null,
            "align_items": null,
            "bottom": null,
            "_model_module": "@jupyter-widgets/base",
            "top": null,
            "grid_column": null,
            "overflow_y": null,
            "overflow_x": null,
            "grid_auto_flow": null,
            "grid_area": null,
            "grid_template_columns": null,
            "flex": null,
            "_model_name": "LayoutModel",
            "justify_items": null,
            "grid_row": null,
            "max_height": null,
            "align_content": null,
            "visibility": null,
            "align_self": null,
            "height": null,
            "min_height": null,
            "padding": null,
            "grid_auto_rows": null,
            "grid_gap": null,
            "max_width": null,
            "order": null,
            "_view_module_version": "1.2.0",
            "grid_template_areas": null,
            "object_position": null,
            "object_fit": null,
            "grid_auto_columns": null,
            "margin": null,
            "display": null,
            "left": null
          }
        },
        "6a1c2654e2a142c186ef0075952385b8": {
          "model_module": "@jupyter-widgets/controls",
          "model_name": "DescriptionStyleModel",
          "state": {
            "_view_name": "StyleView",
            "_model_name": "DescriptionStyleModel",
            "description_width": "",
            "_view_module": "@jupyter-widgets/base",
            "_model_module_version": "1.5.0",
            "_view_count": null,
            "_view_module_version": "1.2.0",
            "_model_module": "@jupyter-widgets/controls"
          }
        },
        "16a703015e1247468d7d7f1e31fc4881": {
          "model_module": "@jupyter-widgets/base",
          "model_name": "LayoutModel",
          "state": {
            "_view_name": "LayoutView",
            "grid_template_rows": null,
            "right": null,
            "justify_content": null,
            "_view_module": "@jupyter-widgets/base",
            "overflow": null,
            "_model_module_version": "1.2.0",
            "_view_count": null,
            "flex_flow": null,
            "width": null,
            "min_width": null,
            "border": null,
            "align_items": null,
            "bottom": null,
            "_model_module": "@jupyter-widgets/base",
            "top": null,
            "grid_column": null,
            "overflow_y": null,
            "overflow_x": null,
            "grid_auto_flow": null,
            "grid_area": null,
            "grid_template_columns": null,
            "flex": null,
            "_model_name": "LayoutModel",
            "justify_items": null,
            "grid_row": null,
            "max_height": null,
            "align_content": null,
            "visibility": null,
            "align_self": null,
            "height": null,
            "min_height": null,
            "padding": null,
            "grid_auto_rows": null,
            "grid_gap": null,
            "max_width": null,
            "order": null,
            "_view_module_version": "1.2.0",
            "grid_template_areas": null,
            "object_position": null,
            "object_fit": null,
            "grid_auto_columns": null,
            "margin": null,
            "display": null,
            "left": null
          }
        },
        "6f711f584ed340718cc755ce8c88f60c": {
          "model_module": "@jupyter-widgets/controls",
          "model_name": "HBoxModel",
          "state": {
            "_view_name": "HBoxView",
            "_dom_classes": [],
            "_model_name": "HBoxModel",
            "_view_module": "@jupyter-widgets/controls",
            "_model_module_version": "1.5.0",
            "_view_count": null,
            "_view_module_version": "1.5.0",
            "box_style": "",
            "layout": "IPY_MODEL_965d58fcbbde4d1cb48d7cec93acc0e1",
            "_model_module": "@jupyter-widgets/controls",
            "children": [
              "IPY_MODEL_b19ea0b3722b4636a845e689f287efbb",
              "IPY_MODEL_09a154d478d549adb25759d37dcddcff"
            ]
          }
        },
        "965d58fcbbde4d1cb48d7cec93acc0e1": {
          "model_module": "@jupyter-widgets/base",
          "model_name": "LayoutModel",
          "state": {
            "_view_name": "LayoutView",
            "grid_template_rows": null,
            "right": null,
            "justify_content": null,
            "_view_module": "@jupyter-widgets/base",
            "overflow": null,
            "_model_module_version": "1.2.0",
            "_view_count": null,
            "flex_flow": null,
            "width": null,
            "min_width": null,
            "border": null,
            "align_items": null,
            "bottom": null,
            "_model_module": "@jupyter-widgets/base",
            "top": null,
            "grid_column": null,
            "overflow_y": null,
            "overflow_x": null,
            "grid_auto_flow": null,
            "grid_area": null,
            "grid_template_columns": null,
            "flex": null,
            "_model_name": "LayoutModel",
            "justify_items": null,
            "grid_row": null,
            "max_height": null,
            "align_content": null,
            "visibility": null,
            "align_self": null,
            "height": null,
            "min_height": null,
            "padding": null,
            "grid_auto_rows": null,
            "grid_gap": null,
            "max_width": null,
            "order": null,
            "_view_module_version": "1.2.0",
            "grid_template_areas": null,
            "object_position": null,
            "object_fit": null,
            "grid_auto_columns": null,
            "margin": null,
            "display": null,
            "left": null
          }
        },
        "b19ea0b3722b4636a845e689f287efbb": {
          "model_module": "@jupyter-widgets/controls",
          "model_name": "FloatProgressModel",
          "state": {
            "_view_name": "ProgressView",
            "style": "IPY_MODEL_8bd71d024dae477bb98c71d0310bcf04",
            "_dom_classes": [],
            "description": "",
            "_model_name": "FloatProgressModel",
            "bar_style": "info",
            "max": 1,
            "_view_module": "@jupyter-widgets/controls",
            "_model_module_version": "1.5.0",
            "value": 1,
            "_view_count": null,
            "_view_module_version": "1.5.0",
            "orientation": "horizontal",
            "min": 0,
            "description_tooltip": null,
            "_model_module": "@jupyter-widgets/controls",
            "layout": "IPY_MODEL_21b42f10d15b41ed98a7ac063e98e112"
          }
        },
        "09a154d478d549adb25759d37dcddcff": {
          "model_module": "@jupyter-widgets/controls",
          "model_name": "HTMLModel",
          "state": {
            "_view_name": "HTMLView",
            "style": "IPY_MODEL_c0b19ff21ac6433084b88126b386305d",
            "_dom_classes": [],
            "description": "",
            "_model_name": "HTMLModel",
            "placeholder": "​",
            "_view_module": "@jupyter-widgets/controls",
            "_model_module_version": "1.5.0",
            "value": " 25000/0 [00:13&lt;00:00, 3123.39 examples/s]",
            "_view_count": null,
            "_view_module_version": "1.5.0",
            "description_tooltip": null,
            "_model_module": "@jupyter-widgets/controls",
            "layout": "IPY_MODEL_c63434d94cf947719fc00a87d0b17042"
          }
        },
        "8bd71d024dae477bb98c71d0310bcf04": {
          "model_module": "@jupyter-widgets/controls",
          "model_name": "ProgressStyleModel",
          "state": {
            "_view_name": "StyleView",
            "_model_name": "ProgressStyleModel",
            "description_width": "initial",
            "_view_module": "@jupyter-widgets/base",
            "_model_module_version": "1.5.0",
            "_view_count": null,
            "_view_module_version": "1.2.0",
            "bar_color": null,
            "_model_module": "@jupyter-widgets/controls"
          }
        },
        "21b42f10d15b41ed98a7ac063e98e112": {
          "model_module": "@jupyter-widgets/base",
          "model_name": "LayoutModel",
          "state": {
            "_view_name": "LayoutView",
            "grid_template_rows": null,
            "right": null,
            "justify_content": null,
            "_view_module": "@jupyter-widgets/base",
            "overflow": null,
            "_model_module_version": "1.2.0",
            "_view_count": null,
            "flex_flow": null,
            "width": null,
            "min_width": null,
            "border": null,
            "align_items": null,
            "bottom": null,
            "_model_module": "@jupyter-widgets/base",
            "top": null,
            "grid_column": null,
            "overflow_y": null,
            "overflow_x": null,
            "grid_auto_flow": null,
            "grid_area": null,
            "grid_template_columns": null,
            "flex": null,
            "_model_name": "LayoutModel",
            "justify_items": null,
            "grid_row": null,
            "max_height": null,
            "align_content": null,
            "visibility": null,
            "align_self": null,
            "height": null,
            "min_height": null,
            "padding": null,
            "grid_auto_rows": null,
            "grid_gap": null,
            "max_width": null,
            "order": null,
            "_view_module_version": "1.2.0",
            "grid_template_areas": null,
            "object_position": null,
            "object_fit": null,
            "grid_auto_columns": null,
            "margin": null,
            "display": null,
            "left": null
          }
        },
        "c0b19ff21ac6433084b88126b386305d": {
          "model_module": "@jupyter-widgets/controls",
          "model_name": "DescriptionStyleModel",
          "state": {
            "_view_name": "StyleView",
            "_model_name": "DescriptionStyleModel",
            "description_width": "",
            "_view_module": "@jupyter-widgets/base",
            "_model_module_version": "1.5.0",
            "_view_count": null,
            "_view_module_version": "1.2.0",
            "_model_module": "@jupyter-widgets/controls"
          }
        },
        "c63434d94cf947719fc00a87d0b17042": {
          "model_module": "@jupyter-widgets/base",
          "model_name": "LayoutModel",
          "state": {
            "_view_name": "LayoutView",
            "grid_template_rows": null,
            "right": null,
            "justify_content": null,
            "_view_module": "@jupyter-widgets/base",
            "overflow": null,
            "_model_module_version": "1.2.0",
            "_view_count": null,
            "flex_flow": null,
            "width": null,
            "min_width": null,
            "border": null,
            "align_items": null,
            "bottom": null,
            "_model_module": "@jupyter-widgets/base",
            "top": null,
            "grid_column": null,
            "overflow_y": null,
            "overflow_x": null,
            "grid_auto_flow": null,
            "grid_area": null,
            "grid_template_columns": null,
            "flex": null,
            "_model_name": "LayoutModel",
            "justify_items": null,
            "grid_row": null,
            "max_height": null,
            "align_content": null,
            "visibility": null,
            "align_self": null,
            "height": null,
            "min_height": null,
            "padding": null,
            "grid_auto_rows": null,
            "grid_gap": null,
            "max_width": null,
            "order": null,
            "_view_module_version": "1.2.0",
            "grid_template_areas": null,
            "object_position": null,
            "object_fit": null,
            "grid_auto_columns": null,
            "margin": null,
            "display": null,
            "left": null
          }
        },
        "a14031e3ac9a40e3b9b62054082ec91e": {
          "model_module": "@jupyter-widgets/controls",
          "model_name": "HBoxModel",
          "state": {
            "_view_name": "HBoxView",
            "_dom_classes": [],
            "_model_name": "HBoxModel",
            "_view_module": "@jupyter-widgets/controls",
            "_model_module_version": "1.5.0",
            "_view_count": null,
            "_view_module_version": "1.5.0",
            "box_style": "",
            "layout": "IPY_MODEL_15e9088f8e964195aaa8888bb55f93c9",
            "_model_module": "@jupyter-widgets/controls",
            "children": [
              "IPY_MODEL_18866de68d54431a9d380886c9b601fc",
              "IPY_MODEL_743e294d63bb4ef39d2a762a623e5914"
            ]
          }
        },
        "15e9088f8e964195aaa8888bb55f93c9": {
          "model_module": "@jupyter-widgets/base",
          "model_name": "LayoutModel",
          "state": {
            "_view_name": "LayoutView",
            "grid_template_rows": null,
            "right": null,
            "justify_content": null,
            "_view_module": "@jupyter-widgets/base",
            "overflow": null,
            "_model_module_version": "1.2.0",
            "_view_count": null,
            "flex_flow": null,
            "width": null,
            "min_width": null,
            "border": null,
            "align_items": null,
            "bottom": null,
            "_model_module": "@jupyter-widgets/base",
            "top": null,
            "grid_column": null,
            "overflow_y": null,
            "overflow_x": null,
            "grid_auto_flow": null,
            "grid_area": null,
            "grid_template_columns": null,
            "flex": null,
            "_model_name": "LayoutModel",
            "justify_items": null,
            "grid_row": null,
            "max_height": null,
            "align_content": null,
            "visibility": null,
            "align_self": null,
            "height": null,
            "min_height": null,
            "padding": null,
            "grid_auto_rows": null,
            "grid_gap": null,
            "max_width": null,
            "order": null,
            "_view_module_version": "1.2.0",
            "grid_template_areas": null,
            "object_position": null,
            "object_fit": null,
            "grid_auto_columns": null,
            "margin": null,
            "display": null,
            "left": null
          }
        },
        "18866de68d54431a9d380886c9b601fc": {
          "model_module": "@jupyter-widgets/controls",
          "model_name": "FloatProgressModel",
          "state": {
            "_view_name": "ProgressView",
            "style": "IPY_MODEL_a45e8b89101e4205879fdf2629dd0ceb",
            "_dom_classes": [],
            "description": " 52%",
            "_model_name": "FloatProgressModel",
            "bar_style": "danger",
            "max": 25000,
            "_view_module": "@jupyter-widgets/controls",
            "_model_module_version": "1.5.0",
            "value": 12886,
            "_view_count": null,
            "_view_module_version": "1.5.0",
            "orientation": "horizontal",
            "min": 0,
            "description_tooltip": null,
            "_model_module": "@jupyter-widgets/controls",
            "layout": "IPY_MODEL_82f3c28c890a4adea878099c0c29873f"
          }
        },
        "743e294d63bb4ef39d2a762a623e5914": {
          "model_module": "@jupyter-widgets/controls",
          "model_name": "HTMLModel",
          "state": {
            "_view_name": "HTMLView",
            "style": "IPY_MODEL_ba8be2fdfdb94a079056198ca2e62352",
            "_dom_classes": [],
            "description": "",
            "_model_name": "HTMLModel",
            "placeholder": "​",
            "_view_module": "@jupyter-widgets/controls",
            "_model_module_version": "1.5.0",
            "value": " 12886/25000 [00:00&lt;00:00, 128853.67 examples/s]",
            "_view_count": null,
            "_view_module_version": "1.5.0",
            "description_tooltip": null,
            "_model_module": "@jupyter-widgets/controls",
            "layout": "IPY_MODEL_ab9ccc4620774292b40f9604420b6d43"
          }
        },
        "a45e8b89101e4205879fdf2629dd0ceb": {
          "model_module": "@jupyter-widgets/controls",
          "model_name": "ProgressStyleModel",
          "state": {
            "_view_name": "StyleView",
            "_model_name": "ProgressStyleModel",
            "description_width": "initial",
            "_view_module": "@jupyter-widgets/base",
            "_model_module_version": "1.5.0",
            "_view_count": null,
            "_view_module_version": "1.2.0",
            "bar_color": null,
            "_model_module": "@jupyter-widgets/controls"
          }
        },
        "82f3c28c890a4adea878099c0c29873f": {
          "model_module": "@jupyter-widgets/base",
          "model_name": "LayoutModel",
          "state": {
            "_view_name": "LayoutView",
            "grid_template_rows": null,
            "right": null,
            "justify_content": null,
            "_view_module": "@jupyter-widgets/base",
            "overflow": null,
            "_model_module_version": "1.2.0",
            "_view_count": null,
            "flex_flow": null,
            "width": null,
            "min_width": null,
            "border": null,
            "align_items": null,
            "bottom": null,
            "_model_module": "@jupyter-widgets/base",
            "top": null,
            "grid_column": null,
            "overflow_y": null,
            "overflow_x": null,
            "grid_auto_flow": null,
            "grid_area": null,
            "grid_template_columns": null,
            "flex": null,
            "_model_name": "LayoutModel",
            "justify_items": null,
            "grid_row": null,
            "max_height": null,
            "align_content": null,
            "visibility": null,
            "align_self": null,
            "height": null,
            "min_height": null,
            "padding": null,
            "grid_auto_rows": null,
            "grid_gap": null,
            "max_width": null,
            "order": null,
            "_view_module_version": "1.2.0",
            "grid_template_areas": null,
            "object_position": null,
            "object_fit": null,
            "grid_auto_columns": null,
            "margin": null,
            "display": null,
            "left": null
          }
        },
        "ba8be2fdfdb94a079056198ca2e62352": {
          "model_module": "@jupyter-widgets/controls",
          "model_name": "DescriptionStyleModel",
          "state": {
            "_view_name": "StyleView",
            "_model_name": "DescriptionStyleModel",
            "description_width": "",
            "_view_module": "@jupyter-widgets/base",
            "_model_module_version": "1.5.0",
            "_view_count": null,
            "_view_module_version": "1.2.0",
            "_model_module": "@jupyter-widgets/controls"
          }
        },
        "ab9ccc4620774292b40f9604420b6d43": {
          "model_module": "@jupyter-widgets/base",
          "model_name": "LayoutModel",
          "state": {
            "_view_name": "LayoutView",
            "grid_template_rows": null,
            "right": null,
            "justify_content": null,
            "_view_module": "@jupyter-widgets/base",
            "overflow": null,
            "_model_module_version": "1.2.0",
            "_view_count": null,
            "flex_flow": null,
            "width": null,
            "min_width": null,
            "border": null,
            "align_items": null,
            "bottom": null,
            "_model_module": "@jupyter-widgets/base",
            "top": null,
            "grid_column": null,
            "overflow_y": null,
            "overflow_x": null,
            "grid_auto_flow": null,
            "grid_area": null,
            "grid_template_columns": null,
            "flex": null,
            "_model_name": "LayoutModel",
            "justify_items": null,
            "grid_row": null,
            "max_height": null,
            "align_content": null,
            "visibility": null,
            "align_self": null,
            "height": null,
            "min_height": null,
            "padding": null,
            "grid_auto_rows": null,
            "grid_gap": null,
            "max_width": null,
            "order": null,
            "_view_module_version": "1.2.0",
            "grid_template_areas": null,
            "object_position": null,
            "object_fit": null,
            "grid_auto_columns": null,
            "margin": null,
            "display": null,
            "left": null
          }
        },
        "fd204ab0747641b7aeb71ea90955814e": {
          "model_module": "@jupyter-widgets/controls",
          "model_name": "HBoxModel",
          "state": {
            "_view_name": "HBoxView",
            "_dom_classes": [],
            "_model_name": "HBoxModel",
            "_view_module": "@jupyter-widgets/controls",
            "_model_module_version": "1.5.0",
            "_view_count": null,
            "_view_module_version": "1.5.0",
            "box_style": "",
            "layout": "IPY_MODEL_6b4b7171a430401b8e1bb07b488b1b3c",
            "_model_module": "@jupyter-widgets/controls",
            "children": [
              "IPY_MODEL_feeab8a196ec483eb050148cc14fbe9c",
              "IPY_MODEL_4999ccc2572a47849dd440ea9c352d82"
            ]
          }
        },
        "6b4b7171a430401b8e1bb07b488b1b3c": {
          "model_module": "@jupyter-widgets/base",
          "model_name": "LayoutModel",
          "state": {
            "_view_name": "LayoutView",
            "grid_template_rows": null,
            "right": null,
            "justify_content": null,
            "_view_module": "@jupyter-widgets/base",
            "overflow": null,
            "_model_module_version": "1.2.0",
            "_view_count": null,
            "flex_flow": null,
            "width": null,
            "min_width": null,
            "border": null,
            "align_items": null,
            "bottom": null,
            "_model_module": "@jupyter-widgets/base",
            "top": null,
            "grid_column": null,
            "overflow_y": null,
            "overflow_x": null,
            "grid_auto_flow": null,
            "grid_area": null,
            "grid_template_columns": null,
            "flex": null,
            "_model_name": "LayoutModel",
            "justify_items": null,
            "grid_row": null,
            "max_height": null,
            "align_content": null,
            "visibility": null,
            "align_self": null,
            "height": null,
            "min_height": null,
            "padding": null,
            "grid_auto_rows": null,
            "grid_gap": null,
            "max_width": null,
            "order": null,
            "_view_module_version": "1.2.0",
            "grid_template_areas": null,
            "object_position": null,
            "object_fit": null,
            "grid_auto_columns": null,
            "margin": null,
            "display": null,
            "left": null
          }
        },
        "feeab8a196ec483eb050148cc14fbe9c": {
          "model_module": "@jupyter-widgets/controls",
          "model_name": "FloatProgressModel",
          "state": {
            "_view_name": "ProgressView",
            "style": "IPY_MODEL_6c28f6fe531548e99e307e22d784a8b7",
            "_dom_classes": [],
            "description": "",
            "_model_name": "FloatProgressModel",
            "bar_style": "info",
            "max": 1,
            "_view_module": "@jupyter-widgets/controls",
            "_model_module_version": "1.5.0",
            "value": 1,
            "_view_count": null,
            "_view_module_version": "1.5.0",
            "orientation": "horizontal",
            "min": 0,
            "description_tooltip": null,
            "_model_module": "@jupyter-widgets/controls",
            "layout": "IPY_MODEL_9575a411bbc0438a9662cf7e88b8befd"
          }
        },
        "4999ccc2572a47849dd440ea9c352d82": {
          "model_module": "@jupyter-widgets/controls",
          "model_name": "HTMLModel",
          "state": {
            "_view_name": "HTMLView",
            "style": "IPY_MODEL_124aaf17973d4ac4aea045a51a6aa471",
            "_dom_classes": [],
            "description": "",
            "_model_name": "HTMLModel",
            "placeholder": "​",
            "_view_module": "@jupyter-widgets/controls",
            "_model_module_version": "1.5.0",
            "value": " 50000/0 [00:19&lt;00:00, 3220.51 examples/s]",
            "_view_count": null,
            "_view_module_version": "1.5.0",
            "description_tooltip": null,
            "_model_module": "@jupyter-widgets/controls",
            "layout": "IPY_MODEL_1a0149455d284cb990783446462ad336"
          }
        },
        "6c28f6fe531548e99e307e22d784a8b7": {
          "model_module": "@jupyter-widgets/controls",
          "model_name": "ProgressStyleModel",
          "state": {
            "_view_name": "StyleView",
            "_model_name": "ProgressStyleModel",
            "description_width": "initial",
            "_view_module": "@jupyter-widgets/base",
            "_model_module_version": "1.5.0",
            "_view_count": null,
            "_view_module_version": "1.2.0",
            "bar_color": null,
            "_model_module": "@jupyter-widgets/controls"
          }
        },
        "9575a411bbc0438a9662cf7e88b8befd": {
          "model_module": "@jupyter-widgets/base",
          "model_name": "LayoutModel",
          "state": {
            "_view_name": "LayoutView",
            "grid_template_rows": null,
            "right": null,
            "justify_content": null,
            "_view_module": "@jupyter-widgets/base",
            "overflow": null,
            "_model_module_version": "1.2.0",
            "_view_count": null,
            "flex_flow": null,
            "width": null,
            "min_width": null,
            "border": null,
            "align_items": null,
            "bottom": null,
            "_model_module": "@jupyter-widgets/base",
            "top": null,
            "grid_column": null,
            "overflow_y": null,
            "overflow_x": null,
            "grid_auto_flow": null,
            "grid_area": null,
            "grid_template_columns": null,
            "flex": null,
            "_model_name": "LayoutModel",
            "justify_items": null,
            "grid_row": null,
            "max_height": null,
            "align_content": null,
            "visibility": null,
            "align_self": null,
            "height": null,
            "min_height": null,
            "padding": null,
            "grid_auto_rows": null,
            "grid_gap": null,
            "max_width": null,
            "order": null,
            "_view_module_version": "1.2.0",
            "grid_template_areas": null,
            "object_position": null,
            "object_fit": null,
            "grid_auto_columns": null,
            "margin": null,
            "display": null,
            "left": null
          }
        },
        "124aaf17973d4ac4aea045a51a6aa471": {
          "model_module": "@jupyter-widgets/controls",
          "model_name": "DescriptionStyleModel",
          "state": {
            "_view_name": "StyleView",
            "_model_name": "DescriptionStyleModel",
            "description_width": "",
            "_view_module": "@jupyter-widgets/base",
            "_model_module_version": "1.5.0",
            "_view_count": null,
            "_view_module_version": "1.2.0",
            "_model_module": "@jupyter-widgets/controls"
          }
        },
        "1a0149455d284cb990783446462ad336": {
          "model_module": "@jupyter-widgets/base",
          "model_name": "LayoutModel",
          "state": {
            "_view_name": "LayoutView",
            "grid_template_rows": null,
            "right": null,
            "justify_content": null,
            "_view_module": "@jupyter-widgets/base",
            "overflow": null,
            "_model_module_version": "1.2.0",
            "_view_count": null,
            "flex_flow": null,
            "width": null,
            "min_width": null,
            "border": null,
            "align_items": null,
            "bottom": null,
            "_model_module": "@jupyter-widgets/base",
            "top": null,
            "grid_column": null,
            "overflow_y": null,
            "overflow_x": null,
            "grid_auto_flow": null,
            "grid_area": null,
            "grid_template_columns": null,
            "flex": null,
            "_model_name": "LayoutModel",
            "justify_items": null,
            "grid_row": null,
            "max_height": null,
            "align_content": null,
            "visibility": null,
            "align_self": null,
            "height": null,
            "min_height": null,
            "padding": null,
            "grid_auto_rows": null,
            "grid_gap": null,
            "max_width": null,
            "order": null,
            "_view_module_version": "1.2.0",
            "grid_template_areas": null,
            "object_position": null,
            "object_fit": null,
            "grid_auto_columns": null,
            "margin": null,
            "display": null,
            "left": null
          }
        },
        "fb45aa2b5343479a8852cfa2c83a541a": {
          "model_module": "@jupyter-widgets/controls",
          "model_name": "HBoxModel",
          "state": {
            "_view_name": "HBoxView",
            "_dom_classes": [],
            "_model_name": "HBoxModel",
            "_view_module": "@jupyter-widgets/controls",
            "_model_module_version": "1.5.0",
            "_view_count": null,
            "_view_module_version": "1.5.0",
            "box_style": "",
            "layout": "IPY_MODEL_0450fe6f3ac543d3b603b078bfa35b76",
            "_model_module": "@jupyter-widgets/controls",
            "children": [
              "IPY_MODEL_d4903acd2cdf462ea28e85b9a8ca9c0e",
              "IPY_MODEL_15ac82492d544630bf659e65af372c33"
            ]
          }
        },
        "0450fe6f3ac543d3b603b078bfa35b76": {
          "model_module": "@jupyter-widgets/base",
          "model_name": "LayoutModel",
          "state": {
            "_view_name": "LayoutView",
            "grid_template_rows": null,
            "right": null,
            "justify_content": null,
            "_view_module": "@jupyter-widgets/base",
            "overflow": null,
            "_model_module_version": "1.2.0",
            "_view_count": null,
            "flex_flow": null,
            "width": null,
            "min_width": null,
            "border": null,
            "align_items": null,
            "bottom": null,
            "_model_module": "@jupyter-widgets/base",
            "top": null,
            "grid_column": null,
            "overflow_y": null,
            "overflow_x": null,
            "grid_auto_flow": null,
            "grid_area": null,
            "grid_template_columns": null,
            "flex": null,
            "_model_name": "LayoutModel",
            "justify_items": null,
            "grid_row": null,
            "max_height": null,
            "align_content": null,
            "visibility": null,
            "align_self": null,
            "height": null,
            "min_height": null,
            "padding": null,
            "grid_auto_rows": null,
            "grid_gap": null,
            "max_width": null,
            "order": null,
            "_view_module_version": "1.2.0",
            "grid_template_areas": null,
            "object_position": null,
            "object_fit": null,
            "grid_auto_columns": null,
            "margin": null,
            "display": null,
            "left": null
          }
        },
        "d4903acd2cdf462ea28e85b9a8ca9c0e": {
          "model_module": "@jupyter-widgets/controls",
          "model_name": "FloatProgressModel",
          "state": {
            "_view_name": "ProgressView",
            "style": "IPY_MODEL_9ae2f61f309342358c42ac1b68bb9290",
            "_dom_classes": [],
            "description": " 65%",
            "_model_name": "FloatProgressModel",
            "bar_style": "danger",
            "max": 50000,
            "_view_module": "@jupyter-widgets/controls",
            "_model_module_version": "1.5.0",
            "value": 32493,
            "_view_count": null,
            "_view_module_version": "1.5.0",
            "orientation": "horizontal",
            "min": 0,
            "description_tooltip": null,
            "_model_module": "@jupyter-widgets/controls",
            "layout": "IPY_MODEL_2aff05beef2d4164846f812de8b1d030"
          }
        },
        "15ac82492d544630bf659e65af372c33": {
          "model_module": "@jupyter-widgets/controls",
          "model_name": "HTMLModel",
          "state": {
            "_view_name": "HTMLView",
            "style": "IPY_MODEL_309b6e311c064c6693d9406f32e42845",
            "_dom_classes": [],
            "description": "",
            "_model_name": "HTMLModel",
            "placeholder": "​",
            "_view_module": "@jupyter-widgets/controls",
            "_model_module_version": "1.5.0",
            "value": " 32493/50000 [00:00&lt;00:00, 73940.92 examples/s]",
            "_view_count": null,
            "_view_module_version": "1.5.0",
            "description_tooltip": null,
            "_model_module": "@jupyter-widgets/controls",
            "layout": "IPY_MODEL_ca89b4d6074240e3ad0fc44f0fec81a1"
          }
        },
        "9ae2f61f309342358c42ac1b68bb9290": {
          "model_module": "@jupyter-widgets/controls",
          "model_name": "ProgressStyleModel",
          "state": {
            "_view_name": "StyleView",
            "_model_name": "ProgressStyleModel",
            "description_width": "initial",
            "_view_module": "@jupyter-widgets/base",
            "_model_module_version": "1.5.0",
            "_view_count": null,
            "_view_module_version": "1.2.0",
            "bar_color": null,
            "_model_module": "@jupyter-widgets/controls"
          }
        },
        "2aff05beef2d4164846f812de8b1d030": {
          "model_module": "@jupyter-widgets/base",
          "model_name": "LayoutModel",
          "state": {
            "_view_name": "LayoutView",
            "grid_template_rows": null,
            "right": null,
            "justify_content": null,
            "_view_module": "@jupyter-widgets/base",
            "overflow": null,
            "_model_module_version": "1.2.0",
            "_view_count": null,
            "flex_flow": null,
            "width": null,
            "min_width": null,
            "border": null,
            "align_items": null,
            "bottom": null,
            "_model_module": "@jupyter-widgets/base",
            "top": null,
            "grid_column": null,
            "overflow_y": null,
            "overflow_x": null,
            "grid_auto_flow": null,
            "grid_area": null,
            "grid_template_columns": null,
            "flex": null,
            "_model_name": "LayoutModel",
            "justify_items": null,
            "grid_row": null,
            "max_height": null,
            "align_content": null,
            "visibility": null,
            "align_self": null,
            "height": null,
            "min_height": null,
            "padding": null,
            "grid_auto_rows": null,
            "grid_gap": null,
            "max_width": null,
            "order": null,
            "_view_module_version": "1.2.0",
            "grid_template_areas": null,
            "object_position": null,
            "object_fit": null,
            "grid_auto_columns": null,
            "margin": null,
            "display": null,
            "left": null
          }
        },
        "309b6e311c064c6693d9406f32e42845": {
          "model_module": "@jupyter-widgets/controls",
          "model_name": "DescriptionStyleModel",
          "state": {
            "_view_name": "StyleView",
            "_model_name": "DescriptionStyleModel",
            "description_width": "",
            "_view_module": "@jupyter-widgets/base",
            "_model_module_version": "1.5.0",
            "_view_count": null,
            "_view_module_version": "1.2.0",
            "_model_module": "@jupyter-widgets/controls"
          }
        },
        "ca89b4d6074240e3ad0fc44f0fec81a1": {
          "model_module": "@jupyter-widgets/base",
          "model_name": "LayoutModel",
          "state": {
            "_view_name": "LayoutView",
            "grid_template_rows": null,
            "right": null,
            "justify_content": null,
            "_view_module": "@jupyter-widgets/base",
            "overflow": null,
            "_model_module_version": "1.2.0",
            "_view_count": null,
            "flex_flow": null,
            "width": null,
            "min_width": null,
            "border": null,
            "align_items": null,
            "bottom": null,
            "_model_module": "@jupyter-widgets/base",
            "top": null,
            "grid_column": null,
            "overflow_y": null,
            "overflow_x": null,
            "grid_auto_flow": null,
            "grid_area": null,
            "grid_template_columns": null,
            "flex": null,
            "_model_name": "LayoutModel",
            "justify_items": null,
            "grid_row": null,
            "max_height": null,
            "align_content": null,
            "visibility": null,
            "align_self": null,
            "height": null,
            "min_height": null,
            "padding": null,
            "grid_auto_rows": null,
            "grid_gap": null,
            "max_width": null,
            "order": null,
            "_view_module_version": "1.2.0",
            "grid_template_areas": null,
            "object_position": null,
            "object_fit": null,
            "grid_auto_columns": null,
            "margin": null,
            "display": null,
            "left": null
          }
        }
      }
    }
  },
  "cells": [
    {
      "cell_type": "markdown",
      "metadata": {
        "id": "view-in-github",
        "colab_type": "text"
      },
      "source": [
        "<a href=\"https://colab.research.google.com/github/VitalyGladyshev/NeuroN/blob/master/HW_03.ipynb\" target=\"_parent\"><img src=\"https://colab.research.google.com/assets/colab-badge.svg\" alt=\"Open In Colab\"/></a>"
      ]
    },
    {
      "cell_type": "markdown",
      "metadata": {
        "id": "_V8jQ0wXPC9s",
        "colab_type": "text"
      },
      "source": [
        "# ДЗ_03"
      ]
    },
    {
      "cell_type": "code",
      "metadata": {
        "id": "W9Z8TRSROcOQ",
        "colab_type": "code",
        "colab": {}
      },
      "source": [
        "import numpy as np\n",
        "import pandas as pd\n",
        "\n",
        "import tensorflow as tf\n",
        "\n",
        "!pip install -q tensorflow-hub\n",
        "!pip install -q tensorflow-datasets\n",
        "import tensorflow_hub as hub\n",
        "import tensorflow_datasets as tfds"
      ],
      "execution_count": 1,
      "outputs": []
    },
    {
      "cell_type": "code",
      "metadata": {
        "id": "ARTACgBWlcA8",
        "colab_type": "code",
        "colab": {}
      },
      "source": [
        "from typing import List, Tuple"
      ],
      "execution_count": 2,
      "outputs": []
    },
    {
      "cell_type": "code",
      "metadata": {
        "id": "GtQIs6wAlmrR",
        "colab_type": "code",
        "colab": {}
      },
      "source": [
        "def calculate_confidence_interval(scores: list, conf_interval: float = 0.95) -> Tuple[float]:\n",
        "    \"\"\"\n",
        "    Вычисление доверительного интервала.\n",
        "\n",
        "    Parameters\n",
        "    ----------\n",
        "    scores: List[float / int]\n",
        "        Список с оценками изучаемой величины.\n",
        "\n",
        "    conf_interval: float, optional, default = 0.95\n",
        "        Уровень доверия для построения интервала.\n",
        "        Опциональный параметр, по умолчанию, равен 0.95.\n",
        "\n",
        "    Returns\n",
        "    -------\n",
        "    conf_interval: Tuple[float]\n",
        "        Кортеж с границами доверительного интервала.\n",
        "\n",
        "    \"\"\"\n",
        "    left_bound = np.percentile(\n",
        "        scores, ((1 - conf_interval) / 2) * 100\n",
        "    )\n",
        "    right_bound = np.percentile(\n",
        "        scores, (conf_interval + ((1 - conf_interval) / 2)) * 100\n",
        "    )\n",
        "\n",
        "    return left_bound, right_bound"
      ],
      "execution_count": 3,
      "outputs": []
    },
    {
      "cell_type": "markdown",
      "metadata": {
        "id": "UvHBDOEi1UNw",
        "colab_type": "text"
      },
      "source": [
        "# Задание 1\n",
        "Поработайте с документацией TensorFlow 2. Найти 2-3 полезные команды TensorFlow, не разобранные на уроке (полезные для Вас)."
      ]
    },
    {
      "cell_type": "markdown",
      "metadata": {
        "colab_type": "text",
        "id": "5ofErDR74Wyu"
      },
      "source": [
        "## Типы тензоров"
      ]
    },
    {
      "cell_type": "markdown",
      "metadata": {
        "colab_type": "text",
        "id": "V2zbqj_l4Wyv"
      },
      "source": [
        "tf.Tensor обладает следующими параметрами:\n",
        "- тип данных (float32, int32, или string, например)\n",
        "- размеры (shape)\n",
        "\n",
        "Основные виды тензоров следующие:\n",
        "- tf.Variable\n",
        "- tf.constant\n",
        "- tf.placeholder\n",
        "- tf.SparseTensor\n",
        "\n",
        "Ранг объекта tf.Tensor это количество его измерений. Синонимами ранга являются порядок, степень, размерность. Ранг в TensorFlow это не то же самое, что и ранг матрицы в математике. Как показывает следующая таблица, каждый ранг в Tensorflow соответствует некоторой математической сущности:\n",
        "\n",
        "- 0\tСкаляр (только величина)\n",
        "- 1\tВектор (величина и направление)\n",
        "- 2\tМатрица (таблица чисел)\n",
        "- 3\t3-Тензор (куб чисел)\n",
        "- n\tn-Тензор\n",
        "### Ранг 0"
      ]
    },
    {
      "cell_type": "code",
      "metadata": {
        "colab_type": "code",
        "id": "cMvj1VwG4Wyw",
        "colab": {
          "base_uri": "https://localhost:8080/",
          "height": 34
        },
        "outputId": "c619774a-5be2-4f4a-c5ca-ad58757ac4aa"
      },
      "source": [
        "mammal = tf.Variable(\"Elephant\", tf.string)\n",
        "mammal"
      ],
      "execution_count": 4,
      "outputs": [
        {
          "output_type": "execute_result",
          "data": {
            "text/plain": [
              "<tf.Variable 'Variable:0' shape=() dtype=string, numpy=b'Elephant'>"
            ]
          },
          "metadata": {
            "tags": []
          },
          "execution_count": 4
        }
      ]
    },
    {
      "cell_type": "code",
      "metadata": {
        "colab_type": "code",
        "id": "EJTCf2_r4Wy1",
        "colab": {
          "base_uri": "https://localhost:8080/",
          "height": 34
        },
        "outputId": "cc16feb4-518b-4f82-dac8-abf5258fffd6"
      },
      "source": [
        "ignition = tf.Variable(451, tf.int16)\n",
        "ignition"
      ],
      "execution_count": 5,
      "outputs": [
        {
          "output_type": "execute_result",
          "data": {
            "text/plain": [
              "<tf.Variable 'Variable:0' shape=() dtype=int32, numpy=451>"
            ]
          },
          "metadata": {
            "tags": []
          },
          "execution_count": 5
        }
      ]
    },
    {
      "cell_type": "code",
      "metadata": {
        "colab_type": "code",
        "id": "7C3T14cv4Wy8",
        "colab": {
          "base_uri": "https://localhost:8080/",
          "height": 34
        },
        "outputId": "e46d30df-5dce-4cb7-c8b5-9a64b9a6ab40"
      },
      "source": [
        "floating = tf.Variable(3.14159265359, tf.float64)\n",
        "floating"
      ],
      "execution_count": 6,
      "outputs": [
        {
          "output_type": "execute_result",
          "data": {
            "text/plain": [
              "<tf.Variable 'Variable:0' shape=() dtype=float32, numpy=3.1415927>"
            ]
          },
          "metadata": {
            "tags": []
          },
          "execution_count": 6
        }
      ]
    },
    {
      "cell_type": "code",
      "metadata": {
        "colab_type": "code",
        "id": "T_zz6by64WzF",
        "colab": {
          "base_uri": "https://localhost:8080/",
          "height": 34
        },
        "outputId": "f9313565-5aa1-44be-ba6c-5b3a95be0ccd"
      },
      "source": [
        "its_complicated = tf.Variable(12.3 - 4.85j, tf.complex64)\n",
        "its_complicated"
      ],
      "execution_count": 7,
      "outputs": [
        {
          "output_type": "execute_result",
          "data": {
            "text/plain": [
              "<tf.Variable 'Variable:0' shape=() dtype=complex128, numpy=(12.3-4.85j)>"
            ]
          },
          "metadata": {
            "tags": []
          },
          "execution_count": 7
        }
      ]
    },
    {
      "cell_type": "markdown",
      "metadata": {
        "colab_type": "text",
        "id": "1foHV_Rv4WzL"
      },
      "source": [
        "### Ранг 1"
      ]
    },
    {
      "cell_type": "code",
      "metadata": {
        "colab_type": "code",
        "id": "bpzUOQeV4WzM",
        "colab": {
          "base_uri": "https://localhost:8080/",
          "height": 34
        },
        "outputId": "34a22ba4-2f1e-43ee-c104-0e4163a49ff8"
      },
      "source": [
        "mystr = tf.Variable([\"Hello\"], tf.string)\n",
        "cool_numbers  = tf.Variable([3.14159, 2.71828], tf.float32)\n",
        "first_primes = tf.Variable([2, 3, 5, 7, 11], tf.int32)\n",
        "its_very_complicated = tf.Variable([12.3 - 4.85j, 7.5 - 6.23j], tf.complex64)\n",
        "its_very_complicated"
      ],
      "execution_count": 8,
      "outputs": [
        {
          "output_type": "execute_result",
          "data": {
            "text/plain": [
              "<tf.Variable 'Variable:0' shape=(2,) dtype=complex128, numpy=array([12.3-4.85j,  7.5-6.23j])>"
            ]
          },
          "metadata": {
            "tags": []
          },
          "execution_count": 8
        }
      ]
    },
    {
      "cell_type": "markdown",
      "metadata": {
        "colab_type": "text",
        "id": "AkfMgibU4WzS"
      },
      "source": [
        "### Ранг 2"
      ]
    },
    {
      "cell_type": "code",
      "metadata": {
        "colab_type": "code",
        "id": "vFHJDOO54WzT",
        "colab": {
          "base_uri": "https://localhost:8080/",
          "height": 68
        },
        "outputId": "b80ccc17-15f0-47b6-f6a8-acf4e7918ffe"
      },
      "source": [
        "mymat = tf.Variable([[7],[11]], tf.int16)\n",
        "mymat"
      ],
      "execution_count": 9,
      "outputs": [
        {
          "output_type": "execute_result",
          "data": {
            "text/plain": [
              "<tf.Variable 'Variable:0' shape=(2, 1) dtype=int32, numpy=\n",
              "array([[ 7],\n",
              "       [11]], dtype=int32)>"
            ]
          },
          "metadata": {
            "tags": []
          },
          "execution_count": 9
        }
      ]
    },
    {
      "cell_type": "code",
      "metadata": {
        "colab_type": "code",
        "id": "uup1UwhG4Wzp",
        "colab": {
          "base_uri": "https://localhost:8080/",
          "height": 68
        },
        "outputId": "330794cc-8826-4183-ea20-142b5c104c84"
      },
      "source": [
        "myxor = tf.Variable([[False, True],[True, False]], tf.bool)\n",
        "myxor"
      ],
      "execution_count": 10,
      "outputs": [
        {
          "output_type": "execute_result",
          "data": {
            "text/plain": [
              "<tf.Variable 'Variable:0' shape=(2, 2) dtype=bool, numpy=\n",
              "array([[False,  True],\n",
              "       [ True, False]])>"
            ]
          },
          "metadata": {
            "tags": []
          },
          "execution_count": 10
        }
      ]
    },
    {
      "cell_type": "code",
      "metadata": {
        "colab_type": "code",
        "id": "VTyZpuGI4Wzv",
        "colab": {
          "base_uri": "https://localhost:8080/",
          "height": 102
        },
        "outputId": "c9d626ab-4e13-4940-89ed-6fbb0d3c8649"
      },
      "source": [
        "linear_squares = tf.Variable([[4], [9], [16], [25]], tf.int32)\n",
        "linear_squares"
      ],
      "execution_count": 11,
      "outputs": [
        {
          "output_type": "execute_result",
          "data": {
            "text/plain": [
              "<tf.Variable 'Variable:0' shape=(4, 1) dtype=int32, numpy=\n",
              "array([[ 4],\n",
              "       [ 9],\n",
              "       [16],\n",
              "       [25]], dtype=int32)>"
            ]
          },
          "metadata": {
            "tags": []
          },
          "execution_count": 11
        }
      ]
    },
    {
      "cell_type": "code",
      "metadata": {
        "colab_type": "code",
        "id": "Ga-D_SZ74Wz4",
        "colab": {
          "base_uri": "https://localhost:8080/",
          "height": 68
        },
        "outputId": "ea9890ee-4054-472b-aa13-408b0a3f0c08"
      },
      "source": [
        "squarish_squares = tf.Variable([[4, 9], [16, 25]], tf.int32)\n",
        "squarish_squares"
      ],
      "execution_count": 12,
      "outputs": [
        {
          "output_type": "execute_result",
          "data": {
            "text/plain": [
              "<tf.Variable 'Variable:0' shape=(2, 2) dtype=int32, numpy=\n",
              "array([[ 4,  9],\n",
              "       [16, 25]], dtype=int32)>"
            ]
          },
          "metadata": {
            "tags": []
          },
          "execution_count": 12
        }
      ]
    },
    {
      "cell_type": "code",
      "metadata": {
        "colab_type": "code",
        "id": "P_vNH3xk4W0C",
        "colab": {
          "base_uri": "https://localhost:8080/",
          "height": 34
        },
        "outputId": "5b238733-96f3-40e0-b8bf-3ad11a6397d4"
      },
      "source": [
        "rank_of_squares = tf.rank(squarish_squares)\n",
        "rank_of_squares"
      ],
      "execution_count": 13,
      "outputs": [
        {
          "output_type": "execute_result",
          "data": {
            "text/plain": [
              "<tf.Tensor: shape=(), dtype=int32, numpy=2>"
            ]
          },
          "metadata": {
            "tags": []
          },
          "execution_count": 13
        }
      ]
    },
    {
      "cell_type": "code",
      "metadata": {
        "colab_type": "code",
        "id": "Zr07Zn754W0I",
        "colab": {
          "base_uri": "https://localhost:8080/",
          "height": 68
        },
        "outputId": "46f2bed4-0f85-47d5-a746-449f8dac776d"
      },
      "source": [
        "mymatC = tf.Variable([[7],[11]], tf.int32)\n",
        "mymatC"
      ],
      "execution_count": 14,
      "outputs": [
        {
          "output_type": "execute_result",
          "data": {
            "text/plain": [
              "<tf.Variable 'Variable:0' shape=(2, 1) dtype=int32, numpy=\n",
              "array([[ 7],\n",
              "       [11]], dtype=int32)>"
            ]
          },
          "metadata": {
            "tags": []
          },
          "execution_count": 14
        }
      ]
    },
    {
      "cell_type": "markdown",
      "metadata": {
        "colab_type": "text",
        "id": "kFQsRxNh4W0Q"
      },
      "source": [
        "### Ранги более высокого порядка\n",
        "\n",
        "Тензоры более высокого ранга, аналогично, состоят из n-мерных массивов."
      ]
    },
    {
      "cell_type": "code",
      "metadata": {
        "colab_type": "code",
        "id": "CUNZ6hGU4W0S",
        "colab": {
          "base_uri": "https://localhost:8080/",
          "height": 544
        },
        "outputId": "c21c1ae6-c58d-45d1-871f-f8248b78f9ea"
      },
      "source": [
        "my_image = tf.zeros([2, 3, 4, 5])  # размер пакета x высота x ширина x количество цветовых каналов\n",
        "my_image"
      ],
      "execution_count": 15,
      "outputs": [
        {
          "output_type": "execute_result",
          "data": {
            "text/plain": [
              "<tf.Tensor: shape=(2, 3, 4, 5), dtype=float32, numpy=\n",
              "array([[[[0., 0., 0., 0., 0.],\n",
              "         [0., 0., 0., 0., 0.],\n",
              "         [0., 0., 0., 0., 0.],\n",
              "         [0., 0., 0., 0., 0.]],\n",
              "\n",
              "        [[0., 0., 0., 0., 0.],\n",
              "         [0., 0., 0., 0., 0.],\n",
              "         [0., 0., 0., 0., 0.],\n",
              "         [0., 0., 0., 0., 0.]],\n",
              "\n",
              "        [[0., 0., 0., 0., 0.],\n",
              "         [0., 0., 0., 0., 0.],\n",
              "         [0., 0., 0., 0., 0.],\n",
              "         [0., 0., 0., 0., 0.]]],\n",
              "\n",
              "\n",
              "       [[[0., 0., 0., 0., 0.],\n",
              "         [0., 0., 0., 0., 0.],\n",
              "         [0., 0., 0., 0., 0.],\n",
              "         [0., 0., 0., 0., 0.]],\n",
              "\n",
              "        [[0., 0., 0., 0., 0.],\n",
              "         [0., 0., 0., 0., 0.],\n",
              "         [0., 0., 0., 0., 0.],\n",
              "         [0., 0., 0., 0., 0.]],\n",
              "\n",
              "        [[0., 0., 0., 0., 0.],\n",
              "         [0., 0., 0., 0., 0.],\n",
              "         [0., 0., 0., 0., 0.],\n",
              "         [0., 0., 0., 0., 0.]]]], dtype=float32)>"
            ]
          },
          "metadata": {
            "tags": []
          },
          "execution_count": 15
        }
      ]
    },
    {
      "cell_type": "markdown",
      "metadata": {
        "colab_type": "text",
        "id": "XSqbIO-V4W0Y"
      },
      "source": [
        "Получение ранга объекта tf.Tensor"
      ]
    },
    {
      "cell_type": "code",
      "metadata": {
        "colab_type": "code",
        "id": "dU6MNNy_4W0Z",
        "colab": {
          "base_uri": "https://localhost:8080/",
          "height": 34
        },
        "outputId": "180622e3-4d2b-4ff1-8f6e-86ed43345e92"
      },
      "source": [
        "r = tf.rank(my_image)\n",
        "r"
      ],
      "execution_count": 16,
      "outputs": [
        {
          "output_type": "execute_result",
          "data": {
            "text/plain": [
              "<tf.Tensor: shape=(), dtype=int32, numpy=4>"
            ]
          },
          "metadata": {
            "tags": []
          },
          "execution_count": 16
        }
      ]
    },
    {
      "cell_type": "markdown",
      "metadata": {
        "colab_type": "text",
        "id": "n_OiXemA4W0l"
      },
      "source": [
        "### Индексация и срезы"
      ]
    },
    {
      "cell_type": "code",
      "metadata": {
        "colab_type": "code",
        "id": "WimmDD0K4W0m",
        "colab": {
          "base_uri": "https://localhost:8080/",
          "height": 34
        },
        "outputId": "ece4c549-f23b-43ac-c0a2-485cbc101c76"
      },
      "source": [
        "first_primes"
      ],
      "execution_count": 17,
      "outputs": [
        {
          "output_type": "execute_result",
          "data": {
            "text/plain": [
              "<tf.Variable 'Variable:0' shape=(5,) dtype=int32, numpy=array([ 2,  3,  5,  7, 11], dtype=int32)>"
            ]
          },
          "metadata": {
            "tags": []
          },
          "execution_count": 17
        }
      ]
    },
    {
      "cell_type": "code",
      "metadata": {
        "colab_type": "code",
        "id": "58ruvNpm4W0s",
        "colab": {
          "base_uri": "https://localhost:8080/",
          "height": 34
        },
        "outputId": "b690cfd9-e195-4fbd-9a5a-d660fc7174b3"
      },
      "source": [
        "my_scalar = first_primes[2]\n",
        "my_scalar"
      ],
      "execution_count": 18,
      "outputs": [
        {
          "output_type": "execute_result",
          "data": {
            "text/plain": [
              "<tf.Tensor: shape=(), dtype=int32, numpy=5>"
            ]
          },
          "metadata": {
            "tags": []
          },
          "execution_count": 18
        }
      ]
    },
    {
      "cell_type": "code",
      "metadata": {
        "colab_type": "code",
        "id": "2HH4nXsv4W0y",
        "colab": {
          "base_uri": "https://localhost:8080/",
          "height": 68
        },
        "outputId": "900d2ee5-558c-442d-de87-941e5b064088"
      },
      "source": [
        "squarish_squares"
      ],
      "execution_count": 19,
      "outputs": [
        {
          "output_type": "execute_result",
          "data": {
            "text/plain": [
              "<tf.Variable 'Variable:0' shape=(2, 2) dtype=int32, numpy=\n",
              "array([[ 4,  9],\n",
              "       [16, 25]], dtype=int32)>"
            ]
          },
          "metadata": {
            "tags": []
          },
          "execution_count": 19
        }
      ]
    },
    {
      "cell_type": "code",
      "metadata": {
        "colab_type": "code",
        "id": "iXFdw7Ug4W1O",
        "colab": {
          "base_uri": "https://localhost:8080/",
          "height": 34
        },
        "outputId": "d026aebd-03c5-4ca2-8100-ff768346425f"
      },
      "source": [
        "my_scalar = squarish_squares[1, 1]\n",
        "my_scalar"
      ],
      "execution_count": 20,
      "outputs": [
        {
          "output_type": "execute_result",
          "data": {
            "text/plain": [
              "<tf.Tensor: shape=(), dtype=int32, numpy=25>"
            ]
          },
          "metadata": {
            "tags": []
          },
          "execution_count": 20
        }
      ]
    },
    {
      "cell_type": "code",
      "metadata": {
        "colab_type": "code",
        "id": "qrv1gnQY4W1V",
        "colab": {
          "base_uri": "https://localhost:8080/",
          "height": 34
        },
        "outputId": "02019af0-7b3f-441f-dd4e-5956a67a68bf"
      },
      "source": [
        "my_row_vector = squarish_squares[1]\n",
        "my_row_vector"
      ],
      "execution_count": 21,
      "outputs": [
        {
          "output_type": "execute_result",
          "data": {
            "text/plain": [
              "<tf.Tensor: shape=(2,), dtype=int32, numpy=array([16, 25], dtype=int32)>"
            ]
          },
          "metadata": {
            "tags": []
          },
          "execution_count": 21
        }
      ]
    },
    {
      "cell_type": "code",
      "metadata": {
        "colab_type": "code",
        "id": "RCTZZDq14W1c",
        "colab": {
          "base_uri": "https://localhost:8080/",
          "height": 34
        },
        "outputId": "d958089d-9858-457c-f1f0-1e8e89bd71f5"
      },
      "source": [
        "my_column_vector = squarish_squares[:, 1]\n",
        "my_column_vector"
      ],
      "execution_count": 22,
      "outputs": [
        {
          "output_type": "execute_result",
          "data": {
            "text/plain": [
              "<tf.Tensor: shape=(2,), dtype=int32, numpy=array([ 9, 25], dtype=int32)>"
            ]
          },
          "metadata": {
            "tags": []
          },
          "execution_count": 22
        }
      ]
    },
    {
      "cell_type": "markdown",
      "metadata": {
        "colab_type": "text",
        "id": "zQvEUgAw4W1i"
      },
      "source": [
        "## Размеры\n",
        "\n",
        "Размеры тензора это количество элементов в каждом измерении. Документация TensorFlow использует три условных обозначения для описания размерности тензора: ранг, размеры и количество измерений. Следующая таблица показывает как они соотносятся друг с другом:\n",
        "\n",
        "- 0\t[]\t0-D\t0-D тензор. Скаляр\n",
        "- 1\t[D0]\t1-D\t1-D тензор размера [5]\n",
        "- 2\t[D0, D1]\t2-D\t2-D тензор размера [3, 4]\n",
        "- 3\t[D0, D1, D2]\t3-D\t3-D тензор размера [1, 4, 3]\n",
        "- n\t[D0, D1,… Dn-1]\tn-D\tТензор размера [D0, D1,… Dn-1]\n",
        "\n",
        "Размеры могут быть представлены в виде списков Python/кортежей целых чисел, или с помощью\n",
        "tf.TensorShape"
      ]
    },
    {
      "cell_type": "code",
      "metadata": {
        "colab_type": "code",
        "id": "c17N2sF84W1k",
        "colab": {
          "base_uri": "https://localhost:8080/",
          "height": 34
        },
        "outputId": "04040985-25d8-4cea-8d51-0ea06f59ea93"
      },
      "source": [
        "my_image.shape"
      ],
      "execution_count": 23,
      "outputs": [
        {
          "output_type": "execute_result",
          "data": {
            "text/plain": [
              "TensorShape([2, 3, 4, 5])"
            ]
          },
          "metadata": {
            "tags": []
          },
          "execution_count": 23
        }
      ]
    },
    {
      "cell_type": "markdown",
      "metadata": {
        "colab_type": "text",
        "id": "gEj6Uxqa4W1q"
      },
      "source": [
        "### Изменение размеров tf.Tensor\n",
        "\n",
        "Количество элементов тензора это произведение всех его измерений. Количество элементов скаляра всегда равно 1. Так как много разных размеров могут давать одно и то же число элементов часто удобно менять размеры tf.Tensor, не изменяя его элементы. Это может быть сделано с помощью tf.reshape."
      ]
    },
    {
      "cell_type": "code",
      "metadata": {
        "colab_type": "code",
        "id": "gRD1ST-J4W1r",
        "colab": {
          "base_uri": "https://localhost:8080/",
          "height": 272
        },
        "outputId": "46482cd1-4660-4f53-cd4a-c52b9af02213"
      },
      "source": [
        "rank_three_tensor = tf.ones([3, 4, 5])\n",
        "rank_three_tensor"
      ],
      "execution_count": 24,
      "outputs": [
        {
          "output_type": "execute_result",
          "data": {
            "text/plain": [
              "<tf.Tensor: shape=(3, 4, 5), dtype=float32, numpy=\n",
              "array([[[1., 1., 1., 1., 1.],\n",
              "        [1., 1., 1., 1., 1.],\n",
              "        [1., 1., 1., 1., 1.],\n",
              "        [1., 1., 1., 1., 1.]],\n",
              "\n",
              "       [[1., 1., 1., 1., 1.],\n",
              "        [1., 1., 1., 1., 1.],\n",
              "        [1., 1., 1., 1., 1.],\n",
              "        [1., 1., 1., 1., 1.]],\n",
              "\n",
              "       [[1., 1., 1., 1., 1.],\n",
              "        [1., 1., 1., 1., 1.],\n",
              "        [1., 1., 1., 1., 1.],\n",
              "        [1., 1., 1., 1., 1.]]], dtype=float32)>"
            ]
          },
          "metadata": {
            "tags": []
          },
          "execution_count": 24
        }
      ]
    },
    {
      "cell_type": "code",
      "metadata": {
        "colab_type": "code",
        "id": "ZS6PEzcl4W16",
        "colab": {
          "base_uri": "https://localhost:8080/",
          "height": 136
        },
        "outputId": "7b933bcd-e5d1-4ffd-955c-1ceaa4015f9e"
      },
      "source": [
        "matrix = tf.reshape(rank_three_tensor, [6, 10])  # Преобразование существущих данных\n",
        "                                                 # в матрицу 6x10 \n",
        "matrix"
      ],
      "execution_count": 25,
      "outputs": [
        {
          "output_type": "execute_result",
          "data": {
            "text/plain": [
              "<tf.Tensor: shape=(6, 10), dtype=float32, numpy=\n",
              "array([[1., 1., 1., 1., 1., 1., 1., 1., 1., 1.],\n",
              "       [1., 1., 1., 1., 1., 1., 1., 1., 1., 1.],\n",
              "       [1., 1., 1., 1., 1., 1., 1., 1., 1., 1.],\n",
              "       [1., 1., 1., 1., 1., 1., 1., 1., 1., 1.],\n",
              "       [1., 1., 1., 1., 1., 1., 1., 1., 1., 1.],\n",
              "       [1., 1., 1., 1., 1., 1., 1., 1., 1., 1.]], dtype=float32)>"
            ]
          },
          "metadata": {
            "tags": []
          },
          "execution_count": 25
        }
      ]
    },
    {
      "cell_type": "code",
      "metadata": {
        "colab_type": "code",
        "id": "tjhMBeb74W2H",
        "colab": {
          "base_uri": "https://localhost:8080/",
          "height": 136
        },
        "outputId": "40e5d736-90a0-47a4-e13a-888e1c416fc1"
      },
      "source": [
        "matrixB = tf.reshape(matrix, [3, -1])  # Преобразование существующих данных в \n",
        "                                       # матрицу 3x20. -1 говорит reshape что нужно\n",
        "                                       # посчитать размер этого измерения.\n",
        "matrixB"
      ],
      "execution_count": 26,
      "outputs": [
        {
          "output_type": "execute_result",
          "data": {
            "text/plain": [
              "<tf.Tensor: shape=(3, 20), dtype=float32, numpy=\n",
              "array([[1., 1., 1., 1., 1., 1., 1., 1., 1., 1., 1., 1., 1., 1., 1., 1.,\n",
              "        1., 1., 1., 1.],\n",
              "       [1., 1., 1., 1., 1., 1., 1., 1., 1., 1., 1., 1., 1., 1., 1., 1.,\n",
              "        1., 1., 1., 1.],\n",
              "       [1., 1., 1., 1., 1., 1., 1., 1., 1., 1., 1., 1., 1., 1., 1., 1.,\n",
              "        1., 1., 1., 1.]], dtype=float32)>"
            ]
          },
          "metadata": {
            "tags": []
          },
          "execution_count": 26
        }
      ]
    },
    {
      "cell_type": "code",
      "metadata": {
        "colab_type": "code",
        "id": "5aWF230a4W2N",
        "colab": {
          "base_uri": "https://localhost:8080/",
          "height": 289
        },
        "outputId": "417b6f8a-1aee-4f44-c609-6eed48f0d0e7"
      },
      "source": [
        "matrixAlt = tf.reshape(matrixB, [4, 3, -1])  # Преобразование существующих данных в\n",
        "                                             # тензор 4x3x5\n",
        "\n",
        "matrixAlt"
      ],
      "execution_count": 27,
      "outputs": [
        {
          "output_type": "execute_result",
          "data": {
            "text/plain": [
              "<tf.Tensor: shape=(4, 3, 5), dtype=float32, numpy=\n",
              "array([[[1., 1., 1., 1., 1.],\n",
              "        [1., 1., 1., 1., 1.],\n",
              "        [1., 1., 1., 1., 1.]],\n",
              "\n",
              "       [[1., 1., 1., 1., 1.],\n",
              "        [1., 1., 1., 1., 1.],\n",
              "        [1., 1., 1., 1., 1.]],\n",
              "\n",
              "       [[1., 1., 1., 1., 1.],\n",
              "        [1., 1., 1., 1., 1.],\n",
              "        [1., 1., 1., 1., 1.]],\n",
              "\n",
              "       [[1., 1., 1., 1., 1.],\n",
              "        [1., 1., 1., 1., 1.],\n",
              "        [1., 1., 1., 1., 1.]]], dtype=float32)>"
            ]
          },
          "metadata": {
            "tags": []
          },
          "execution_count": 27
        }
      ]
    },
    {
      "cell_type": "markdown",
      "metadata": {
        "colab_type": "text",
        "id": "Fk6qWS124W2T"
      },
      "source": [
        "Число элементов в преобразованных тензорах  должно совпадать с изначальным количеством. Поэтому следующий пример породит ошибку поскольку нет такого значения для последнего измерения при котором совпадет количество элементов."
      ]
    },
    {
      "cell_type": "code",
      "metadata": {
        "colab_type": "code",
        "id": "baEWZ7IG4W2U",
        "colab": {
          "base_uri": "https://localhost:8080/",
          "height": 306
        },
        "outputId": "3e0c6c24-5092-4e53-d9a1-dc23a8653566"
      },
      "source": [
        "yet_another = tf.reshape(matrixAlt, [13, 2, -1])  # ERROR!"
      ],
      "execution_count": 28,
      "outputs": [
        {
          "output_type": "error",
          "ename": "InvalidArgumentError",
          "evalue": "ignored",
          "traceback": [
            "\u001b[0;31m---------------------------------------------------------------------------\u001b[0m",
            "\u001b[0;31mInvalidArgumentError\u001b[0m                      Traceback (most recent call last)",
            "\u001b[0;32m<ipython-input-28-0cd744f203b7>\u001b[0m in \u001b[0;36m<module>\u001b[0;34m()\u001b[0m\n\u001b[0;32m----> 1\u001b[0;31m \u001b[0myet_another\u001b[0m \u001b[0;34m=\u001b[0m \u001b[0mtf\u001b[0m\u001b[0;34m.\u001b[0m\u001b[0mreshape\u001b[0m\u001b[0;34m(\u001b[0m\u001b[0mmatrixAlt\u001b[0m\u001b[0;34m,\u001b[0m \u001b[0;34m[\u001b[0m\u001b[0;36m13\u001b[0m\u001b[0;34m,\u001b[0m \u001b[0;36m2\u001b[0m\u001b[0;34m,\u001b[0m \u001b[0;34m-\u001b[0m\u001b[0;36m1\u001b[0m\u001b[0;34m]\u001b[0m\u001b[0;34m)\u001b[0m  \u001b[0;31m# ERROR!\u001b[0m\u001b[0;34m\u001b[0m\u001b[0;34m\u001b[0m\u001b[0m\n\u001b[0m",
            "\u001b[0;32m/usr/local/lib/python3.6/dist-packages/tensorflow/python/util/dispatch.py\u001b[0m in \u001b[0;36mwrapper\u001b[0;34m(*args, **kwargs)\u001b[0m\n\u001b[1;32m    199\u001b[0m     \u001b[0;34m\"\"\"Call target, and fall back on dispatchers if there is a TypeError.\"\"\"\u001b[0m\u001b[0;34m\u001b[0m\u001b[0;34m\u001b[0m\u001b[0m\n\u001b[1;32m    200\u001b[0m     \u001b[0;32mtry\u001b[0m\u001b[0;34m:\u001b[0m\u001b[0;34m\u001b[0m\u001b[0;34m\u001b[0m\u001b[0m\n\u001b[0;32m--> 201\u001b[0;31m       \u001b[0;32mreturn\u001b[0m \u001b[0mtarget\u001b[0m\u001b[0;34m(\u001b[0m\u001b[0;34m*\u001b[0m\u001b[0margs\u001b[0m\u001b[0;34m,\u001b[0m \u001b[0;34m**\u001b[0m\u001b[0mkwargs\u001b[0m\u001b[0;34m)\u001b[0m\u001b[0;34m\u001b[0m\u001b[0;34m\u001b[0m\u001b[0m\n\u001b[0m\u001b[1;32m    202\u001b[0m     \u001b[0;32mexcept\u001b[0m \u001b[0;34m(\u001b[0m\u001b[0mTypeError\u001b[0m\u001b[0;34m,\u001b[0m \u001b[0mValueError\u001b[0m\u001b[0;34m)\u001b[0m\u001b[0;34m:\u001b[0m\u001b[0;34m\u001b[0m\u001b[0;34m\u001b[0m\u001b[0m\n\u001b[1;32m    203\u001b[0m       \u001b[0;31m# Note: convert_to_eager_tensor currently raises a ValueError, not a\u001b[0m\u001b[0;34m\u001b[0m\u001b[0;34m\u001b[0m\u001b[0;34m\u001b[0m\u001b[0m\n",
            "\u001b[0;32m/usr/local/lib/python3.6/dist-packages/tensorflow/python/ops/array_ops.py\u001b[0m in \u001b[0;36mreshape\u001b[0;34m(tensor, shape, name)\u001b[0m\n\u001b[1;32m    193\u001b[0m     \u001b[0mA\u001b[0m\u001b[0;31m \u001b[0m\u001b[0;31m`\u001b[0m\u001b[0mTensor\u001b[0m\u001b[0;31m`\u001b[0m\u001b[0;34m.\u001b[0m \u001b[0mHas\u001b[0m \u001b[0mthe\u001b[0m \u001b[0msame\u001b[0m \u001b[0mtype\u001b[0m \u001b[0;32mas\u001b[0m\u001b[0;31m \u001b[0m\u001b[0;31m`\u001b[0m\u001b[0mtensor\u001b[0m\u001b[0;31m`\u001b[0m\u001b[0;34m.\u001b[0m\u001b[0;34m\u001b[0m\u001b[0;34m\u001b[0m\u001b[0m\n\u001b[1;32m    194\u001b[0m   \"\"\"\n\u001b[0;32m--> 195\u001b[0;31m   \u001b[0mresult\u001b[0m \u001b[0;34m=\u001b[0m \u001b[0mgen_array_ops\u001b[0m\u001b[0;34m.\u001b[0m\u001b[0mreshape\u001b[0m\u001b[0;34m(\u001b[0m\u001b[0mtensor\u001b[0m\u001b[0;34m,\u001b[0m \u001b[0mshape\u001b[0m\u001b[0;34m,\u001b[0m \u001b[0mname\u001b[0m\u001b[0;34m)\u001b[0m\u001b[0;34m\u001b[0m\u001b[0;34m\u001b[0m\u001b[0m\n\u001b[0m\u001b[1;32m    196\u001b[0m   \u001b[0mtensor_util\u001b[0m\u001b[0;34m.\u001b[0m\u001b[0mmaybe_set_static_shape\u001b[0m\u001b[0;34m(\u001b[0m\u001b[0mresult\u001b[0m\u001b[0;34m,\u001b[0m \u001b[0mshape\u001b[0m\u001b[0;34m)\u001b[0m\u001b[0;34m\u001b[0m\u001b[0;34m\u001b[0m\u001b[0m\n\u001b[1;32m    197\u001b[0m   \u001b[0;32mreturn\u001b[0m \u001b[0mresult\u001b[0m\u001b[0;34m\u001b[0m\u001b[0;34m\u001b[0m\u001b[0m\n",
            "\u001b[0;32m/usr/local/lib/python3.6/dist-packages/tensorflow/python/ops/gen_array_ops.py\u001b[0m in \u001b[0;36mreshape\u001b[0;34m(tensor, shape, name)\u001b[0m\n\u001b[1;32m   8227\u001b[0m     \u001b[0;32mtry\u001b[0m\u001b[0;34m:\u001b[0m\u001b[0;34m\u001b[0m\u001b[0;34m\u001b[0m\u001b[0m\n\u001b[1;32m   8228\u001b[0m       return reshape_eager_fallback(\n\u001b[0;32m-> 8229\u001b[0;31m           tensor, shape, name=name, ctx=_ctx)\n\u001b[0m\u001b[1;32m   8230\u001b[0m     \u001b[0;32mexcept\u001b[0m \u001b[0m_core\u001b[0m\u001b[0;34m.\u001b[0m\u001b[0m_SymbolicException\u001b[0m\u001b[0;34m:\u001b[0m\u001b[0;34m\u001b[0m\u001b[0;34m\u001b[0m\u001b[0m\n\u001b[1;32m   8231\u001b[0m       \u001b[0;32mpass\u001b[0m  \u001b[0;31m# Add nodes to the TensorFlow graph.\u001b[0m\u001b[0;34m\u001b[0m\u001b[0;34m\u001b[0m\u001b[0m\n",
            "\u001b[0;32m/usr/local/lib/python3.6/dist-packages/tensorflow/python/ops/gen_array_ops.py\u001b[0m in \u001b[0;36mreshape_eager_fallback\u001b[0;34m(tensor, shape, name, ctx)\u001b[0m\n\u001b[1;32m   8252\u001b[0m   \u001b[0m_attrs\u001b[0m \u001b[0;34m=\u001b[0m \u001b[0;34m(\u001b[0m\u001b[0;34m\"T\"\u001b[0m\u001b[0;34m,\u001b[0m \u001b[0m_attr_T\u001b[0m\u001b[0;34m,\u001b[0m \u001b[0;34m\"Tshape\"\u001b[0m\u001b[0;34m,\u001b[0m \u001b[0m_attr_Tshape\u001b[0m\u001b[0;34m)\u001b[0m\u001b[0;34m\u001b[0m\u001b[0;34m\u001b[0m\u001b[0m\n\u001b[1;32m   8253\u001b[0m   _result = _execute.execute(b\"Reshape\", 1, inputs=_inputs_flat, attrs=_attrs,\n\u001b[0;32m-> 8254\u001b[0;31m                              ctx=ctx, name=name)\n\u001b[0m\u001b[1;32m   8255\u001b[0m   \u001b[0;32mif\u001b[0m \u001b[0m_execute\u001b[0m\u001b[0;34m.\u001b[0m\u001b[0mmust_record_gradient\u001b[0m\u001b[0;34m(\u001b[0m\u001b[0;34m)\u001b[0m\u001b[0;34m:\u001b[0m\u001b[0;34m\u001b[0m\u001b[0;34m\u001b[0m\u001b[0m\n\u001b[1;32m   8256\u001b[0m     _execute.record_gradient(\n",
            "\u001b[0;32m/usr/local/lib/python3.6/dist-packages/tensorflow/python/eager/execute.py\u001b[0m in \u001b[0;36mquick_execute\u001b[0;34m(op_name, num_outputs, inputs, attrs, ctx, name)\u001b[0m\n\u001b[1;32m     58\u001b[0m     \u001b[0mctx\u001b[0m\u001b[0;34m.\u001b[0m\u001b[0mensure_initialized\u001b[0m\u001b[0;34m(\u001b[0m\u001b[0;34m)\u001b[0m\u001b[0;34m\u001b[0m\u001b[0;34m\u001b[0m\u001b[0m\n\u001b[1;32m     59\u001b[0m     tensors = pywrap_tfe.TFE_Py_Execute(ctx._handle, device_name, op_name,\n\u001b[0;32m---> 60\u001b[0;31m                                         inputs, attrs, num_outputs)\n\u001b[0m\u001b[1;32m     61\u001b[0m   \u001b[0;32mexcept\u001b[0m \u001b[0mcore\u001b[0m\u001b[0;34m.\u001b[0m\u001b[0m_NotOkStatusException\u001b[0m \u001b[0;32mas\u001b[0m \u001b[0me\u001b[0m\u001b[0;34m:\u001b[0m\u001b[0;34m\u001b[0m\u001b[0;34m\u001b[0m\u001b[0m\n\u001b[1;32m     62\u001b[0m     \u001b[0;32mif\u001b[0m \u001b[0mname\u001b[0m \u001b[0;32mis\u001b[0m \u001b[0;32mnot\u001b[0m \u001b[0;32mNone\u001b[0m\u001b[0;34m:\u001b[0m\u001b[0;34m\u001b[0m\u001b[0;34m\u001b[0m\u001b[0m\n",
            "\u001b[0;31mInvalidArgumentError\u001b[0m: Input to reshape is a tensor with 60 values, but the requested shape requires a multiple of 26 [Op:Reshape]"
          ]
        }
      ]
    },
    {
      "cell_type": "markdown",
      "metadata": {
        "colab_type": "text",
        "id": "SJLXkbVg4W2c"
      },
      "source": [
        "## Типы данных\n",
        "\n",
        "В дополнение к размерности, у тензоров есть тип данных. У конкретного tf.Tensor не может быть более одного типа данных. Однако, возможно сериализовать произвольные структуры данных в string и хранить их в tf.Tensor.\n",
        "\n",
        "Можно преобразовать tf.Tensor из одного типа данных в другой используя tf.cast.\n",
        "\n",
        "Преобразование константного целочисленного тензора в тензор с плавающей запятой."
      ]
    },
    {
      "cell_type": "code",
      "metadata": {
        "colab_type": "code",
        "id": "XV3X8XdV4W2e",
        "colab": {}
      },
      "source": [
        "float_tensor = tf.cast(tf.constant([1, 2, 3]), dtype=tf.float32)"
      ],
      "execution_count": 29,
      "outputs": []
    },
    {
      "cell_type": "code",
      "metadata": {
        "colab_type": "code",
        "id": "sriHZPwU4W2q",
        "colab": {
          "base_uri": "https://localhost:8080/",
          "height": 34
        },
        "outputId": "7a70029b-4e10-4de8-cdf0-547c1e86d855"
      },
      "source": [
        "float_tensor.dtype"
      ],
      "execution_count": 30,
      "outputs": [
        {
          "output_type": "execute_result",
          "data": {
            "text/plain": [
              "tf.float32"
            ]
          },
          "metadata": {
            "tags": []
          },
          "execution_count": 30
        }
      ]
    },
    {
      "cell_type": "markdown",
      "metadata": {
        "colab_type": "text",
        "id": "BHuWicqV4W22"
      },
      "source": [
        "При создании tf.Tensor из объекта python можно опционально указать тип данных. Если вы этого не сделаете, TensorFlow выберет тип данных который может представлять ваши данные. TensorFlow преобразует целые числа Python в tf.int32, а числа с плавающей запятой в tf.float32. В других случаях TensorFlow использует те же правила что и numpy при конвертации массивов."
      ]
    },
    {
      "cell_type": "markdown",
      "metadata": {
        "id": "7ELCQPLd1cqZ",
        "colab_type": "text"
      },
      "source": [
        "# Задание 2\n",
        "\n",
        "Попробуйте обучить нейронную сеть на TensorFlow 2 на датасете imdb_reviews. Опишите, какого результата вы добились от нейросети? Что помогло вам улучшить ее точность?\n",
        "\n",
        "Попробуйте улучшить работу нейронной сети(меняем число слоев, число нейронов, типы активации, тип оптимизатора). Постройте 10-15 вариантов и сведите результаты их работы в таблицу"
      ]
    },
    {
      "cell_type": "code",
      "metadata": {
        "id": "mm18e_z2PVZL",
        "colab_type": "code",
        "colab": {
          "base_uri": "https://localhost:8080/",
          "height": 350,
          "referenced_widgets": [
            "99e835defc704c8585a94f08ca824163",
            "db8d53ca0e424fb49c39c0b010eba72e",
            "b6595de24e9b4f938513252d66d285b7",
            "2882c5bc2bc34be7ad6f5b21a8bf24f7",
            "aa646787170e4da3bc84fbb68f3557ce",
            "42d69e77b52f45719700ad431f7ad225",
            "1c9dd56e6820441e9d08fa3694d32c64",
            "2d820c0ca30a426294bac2f9ae0b0cc3",
            "58553169ce7949ea961ecf78809f6190",
            "9d82fc7586b043cab0b2cf19e03ec3f5",
            "8a5b7949f6b745f3918303c134675166",
            "b5f9da67858e46acb40a52ad3fd7e8c3",
            "8ad2acd60e4b4b63ab28a1f3992db7f1",
            "6c713334a81348c28a9d838e15cc15ec",
            "27349f24dbe0432fa1d99e0f05e25ed3",
            "1fb8b32b415247c2a96cc2750ea3309c",
            "76ba51fbc8894d19a9f153573dcc2e3f",
            "625ee8dac6b24bf1a8063d2ed356be49",
            "a506271d948d49d2876e58113e464f84",
            "2b10d44d651347968a76a993d85d042e",
            "1d56d223b6264a1a8fcb5a02a27f2b1c",
            "66e4670120a94e718a397a66d39ff350",
            "aa5008a65d3f4cc5acfb1e5a8cb48a0e",
            "13d2db6ac29e4a9cb528b73f008fcdac",
            "f26a562a47984625b8fb553a1b37d09e",
            "4fbc235ce40d440091264d599082c01e",
            "ff0ad71aa5f148ccbb3bba98fd3eb390",
            "85b48b56219645858fd747d16c791d68",
            "320726ada62f4342b7052cc21c71ad5a",
            "c61876ee5c724c11b463afaba95bb562",
            "6a1c2654e2a142c186ef0075952385b8",
            "16a703015e1247468d7d7f1e31fc4881",
            "6f711f584ed340718cc755ce8c88f60c",
            "965d58fcbbde4d1cb48d7cec93acc0e1",
            "b19ea0b3722b4636a845e689f287efbb",
            "09a154d478d549adb25759d37dcddcff",
            "8bd71d024dae477bb98c71d0310bcf04",
            "21b42f10d15b41ed98a7ac063e98e112",
            "c0b19ff21ac6433084b88126b386305d",
            "c63434d94cf947719fc00a87d0b17042",
            "a14031e3ac9a40e3b9b62054082ec91e",
            "15e9088f8e964195aaa8888bb55f93c9",
            "18866de68d54431a9d380886c9b601fc",
            "743e294d63bb4ef39d2a762a623e5914",
            "a45e8b89101e4205879fdf2629dd0ceb",
            "82f3c28c890a4adea878099c0c29873f",
            "ba8be2fdfdb94a079056198ca2e62352",
            "ab9ccc4620774292b40f9604420b6d43",
            "fd204ab0747641b7aeb71ea90955814e",
            "6b4b7171a430401b8e1bb07b488b1b3c",
            "feeab8a196ec483eb050148cc14fbe9c",
            "4999ccc2572a47849dd440ea9c352d82",
            "6c28f6fe531548e99e307e22d784a8b7",
            "9575a411bbc0438a9662cf7e88b8befd",
            "124aaf17973d4ac4aea045a51a6aa471",
            "1a0149455d284cb990783446462ad336",
            "fb45aa2b5343479a8852cfa2c83a541a",
            "0450fe6f3ac543d3b603b078bfa35b76",
            "d4903acd2cdf462ea28e85b9a8ca9c0e",
            "15ac82492d544630bf659e65af372c33",
            "9ae2f61f309342358c42ac1b68bb9290",
            "2aff05beef2d4164846f812de8b1d030",
            "309b6e311c064c6693d9406f32e42845",
            "ca89b4d6074240e3ad0fc44f0fec81a1"
          ]
        },
        "outputId": "cb6e389f-abad-49a4-dbb8-d58d5691ce11"
      },
      "source": [
        "train_data, validation_data, test_data = tfds.load(\n",
        "    name=\"imdb_reviews\", \n",
        "    split=('train[:60%]', 'train[60%:]', 'test'),\n",
        "    as_supervised=True)"
      ],
      "execution_count": 31,
      "outputs": [
        {
          "output_type": "stream",
          "text": [
            "\u001b[1mDownloading and preparing dataset imdb_reviews/plain_text/1.0.0 (download: 80.23 MiB, generated: Unknown size, total: 80.23 MiB) to /root/tensorflow_datasets/imdb_reviews/plain_text/1.0.0...\u001b[0m\n"
          ],
          "name": "stdout"
        },
        {
          "output_type": "display_data",
          "data": {
            "application/vnd.jupyter.widget-view+json": {
              "model_id": "99e835defc704c8585a94f08ca824163",
              "version_minor": 0,
              "version_major": 2
            },
            "text/plain": [
              "HBox(children=(FloatProgress(value=1.0, bar_style='info', description='Dl Completed...', max=1.0, style=Progre…"
            ]
          },
          "metadata": {
            "tags": []
          }
        },
        {
          "output_type": "display_data",
          "data": {
            "application/vnd.jupyter.widget-view+json": {
              "model_id": "58553169ce7949ea961ecf78809f6190",
              "version_minor": 0,
              "version_major": 2
            },
            "text/plain": [
              "HBox(children=(FloatProgress(value=1.0, bar_style='info', description='Dl Size...', max=1.0, style=ProgressSty…"
            ]
          },
          "metadata": {
            "tags": []
          }
        },
        {
          "output_type": "stream",
          "text": [
            "\n",
            "\n",
            "\n",
            "\n"
          ],
          "name": "stdout"
        },
        {
          "output_type": "display_data",
          "data": {
            "application/vnd.jupyter.widget-view+json": {
              "model_id": "76ba51fbc8894d19a9f153573dcc2e3f",
              "version_minor": 0,
              "version_major": 2
            },
            "text/plain": [
              "HBox(children=(FloatProgress(value=1.0, bar_style='info', max=1.0), HTML(value='')))"
            ]
          },
          "metadata": {
            "tags": []
          }
        },
        {
          "output_type": "stream",
          "text": [
            "\rShuffling and writing examples to /root/tensorflow_datasets/imdb_reviews/plain_text/1.0.0.incompleteU437NE/imdb_reviews-train.tfrecord\n"
          ],
          "name": "stdout"
        },
        {
          "output_type": "display_data",
          "data": {
            "application/vnd.jupyter.widget-view+json": {
              "model_id": "f26a562a47984625b8fb553a1b37d09e",
              "version_minor": 0,
              "version_major": 2
            },
            "text/plain": [
              "HBox(children=(FloatProgress(value=0.0, max=25000.0), HTML(value='')))"
            ]
          },
          "metadata": {
            "tags": []
          }
        },
        {
          "output_type": "stream",
          "text": [
            "\r"
          ],
          "name": "stdout"
        },
        {
          "output_type": "display_data",
          "data": {
            "application/vnd.jupyter.widget-view+json": {
              "model_id": "6f711f584ed340718cc755ce8c88f60c",
              "version_minor": 0,
              "version_major": 2
            },
            "text/plain": [
              "HBox(children=(FloatProgress(value=1.0, bar_style='info', max=1.0), HTML(value='')))"
            ]
          },
          "metadata": {
            "tags": []
          }
        },
        {
          "output_type": "stream",
          "text": [
            "\rShuffling and writing examples to /root/tensorflow_datasets/imdb_reviews/plain_text/1.0.0.incompleteU437NE/imdb_reviews-test.tfrecord\n"
          ],
          "name": "stdout"
        },
        {
          "output_type": "display_data",
          "data": {
            "application/vnd.jupyter.widget-view+json": {
              "model_id": "a14031e3ac9a40e3b9b62054082ec91e",
              "version_minor": 0,
              "version_major": 2
            },
            "text/plain": [
              "HBox(children=(FloatProgress(value=0.0, max=25000.0), HTML(value='')))"
            ]
          },
          "metadata": {
            "tags": []
          }
        },
        {
          "output_type": "stream",
          "text": [
            "\r"
          ],
          "name": "stdout"
        },
        {
          "output_type": "display_data",
          "data": {
            "application/vnd.jupyter.widget-view+json": {
              "model_id": "fd204ab0747641b7aeb71ea90955814e",
              "version_minor": 0,
              "version_major": 2
            },
            "text/plain": [
              "HBox(children=(FloatProgress(value=1.0, bar_style='info', max=1.0), HTML(value='')))"
            ]
          },
          "metadata": {
            "tags": []
          }
        },
        {
          "output_type": "stream",
          "text": [
            "\rShuffling and writing examples to /root/tensorflow_datasets/imdb_reviews/plain_text/1.0.0.incompleteU437NE/imdb_reviews-unsupervised.tfrecord\n"
          ],
          "name": "stdout"
        },
        {
          "output_type": "display_data",
          "data": {
            "application/vnd.jupyter.widget-view+json": {
              "model_id": "fb45aa2b5343479a8852cfa2c83a541a",
              "version_minor": 0,
              "version_major": 2
            },
            "text/plain": [
              "HBox(children=(FloatProgress(value=0.0, max=50000.0), HTML(value='')))"
            ]
          },
          "metadata": {
            "tags": []
          }
        },
        {
          "output_type": "stream",
          "text": [
            "\u001b[1mDataset imdb_reviews downloaded and prepared to /root/tensorflow_datasets/imdb_reviews/plain_text/1.0.0. Subsequent calls will reuse this data.\u001b[0m\n",
            "\r"
          ],
          "name": "stdout"
        }
      ]
    },
    {
      "cell_type": "code",
      "metadata": {
        "id": "ElI3-2qpPkA2",
        "colab_type": "code",
        "colab": {}
      },
      "source": [
        "embedding = \"https://tfhub.dev/google/tf2-preview/gnews-swivel-20dim/1\"\n",
        "hub_layer = hub.KerasLayer(embedding, input_shape=[], \n",
        "                           dtype=tf.string, trainable=True)"
      ],
      "execution_count": 32,
      "outputs": []
    },
    {
      "cell_type": "markdown",
      "metadata": {
        "id": "rwcWfb0iQQBQ",
        "colab_type": "text"
      },
      "source": [
        "## Базовый вариант"
      ]
    },
    {
      "cell_type": "code",
      "metadata": {
        "id": "qtWbpJNcQL8f",
        "colab_type": "code",
        "colab": {
          "base_uri": "https://localhost:8080/",
          "height": 255
        },
        "outputId": "667af2a6-d187-4774-96eb-efb8e0a6954e"
      },
      "source": [
        "model = tf.keras.Sequential()\n",
        "model.add(hub_layer)\n",
        "model.add(tf.keras.layers.Dense(16, activation='relu'))\n",
        "model.add(tf.keras.layers.Dense(1))\n",
        "\n",
        "model.summary()"
      ],
      "execution_count": 33,
      "outputs": [
        {
          "output_type": "stream",
          "text": [
            "Model: \"sequential\"\n",
            "_________________________________________________________________\n",
            "Layer (type)                 Output Shape              Param #   \n",
            "=================================================================\n",
            "keras_layer (KerasLayer)     (None, 20)                400020    \n",
            "_________________________________________________________________\n",
            "dense (Dense)                (None, 16)                336       \n",
            "_________________________________________________________________\n",
            "dense_1 (Dense)              (None, 1)                 17        \n",
            "=================================================================\n",
            "Total params: 400,373\n",
            "Trainable params: 400,373\n",
            "Non-trainable params: 0\n",
            "_________________________________________________________________\n"
          ],
          "name": "stdout"
        }
      ]
    },
    {
      "cell_type": "code",
      "metadata": {
        "id": "xOYLwSwOQ8qo",
        "colab_type": "code",
        "colab": {}
      },
      "source": [
        "model.compile(optimizer='adam',\n",
        "              loss=tf.keras.losses.BinaryCrossentropy(from_logits=True),\n",
        "              metrics=['accuracy'])"
      ],
      "execution_count": 34,
      "outputs": []
    },
    {
      "cell_type": "code",
      "metadata": {
        "id": "tKknBxmwSagu",
        "colab_type": "code",
        "colab": {
          "base_uri": "https://localhost:8080/",
          "height": 357
        },
        "outputId": "5b76c6b1-7727-4a01-b8af-853ff5d858ea"
      },
      "source": [
        "history = model.fit(train_data.shuffle(10000).batch(512),\n",
        "                    epochs=10,\n",
        "                    validation_data=validation_data.batch(512),\n",
        "                    verbose=1)"
      ],
      "execution_count": 35,
      "outputs": [
        {
          "output_type": "stream",
          "text": [
            "Epoch 1/10\n",
            "30/30 [==============================] - 2s 81ms/step - loss: 0.7068 - accuracy: 0.5109 - val_loss: 0.6673 - val_accuracy: 0.5111\n",
            "Epoch 2/10\n",
            "30/30 [==============================] - 2s 76ms/step - loss: 0.6456 - accuracy: 0.5281 - val_loss: 0.6269 - val_accuracy: 0.5643\n",
            "Epoch 3/10\n",
            "30/30 [==============================] - 2s 75ms/step - loss: 0.6012 - accuracy: 0.6060 - val_loss: 0.5857 - val_accuracy: 0.6251\n",
            "Epoch 4/10\n",
            "30/30 [==============================] - 2s 76ms/step - loss: 0.5586 - accuracy: 0.6740 - val_loss: 0.5456 - val_accuracy: 0.6855\n",
            "Epoch 5/10\n",
            "30/30 [==============================] - 2s 76ms/step - loss: 0.5147 - accuracy: 0.7308 - val_loss: 0.5038 - val_accuracy: 0.7337\n",
            "Epoch 6/10\n",
            "30/30 [==============================] - 2s 78ms/step - loss: 0.4700 - accuracy: 0.7668 - val_loss: 0.4675 - val_accuracy: 0.7564\n",
            "Epoch 7/10\n",
            "30/30 [==============================] - 2s 76ms/step - loss: 0.4286 - accuracy: 0.7981 - val_loss: 0.4354 - val_accuracy: 0.7995\n",
            "Epoch 8/10\n",
            "30/30 [==============================] - 2s 78ms/step - loss: 0.3910 - accuracy: 0.8234 - val_loss: 0.4061 - val_accuracy: 0.8078\n",
            "Epoch 9/10\n",
            "30/30 [==============================] - 2s 74ms/step - loss: 0.3571 - accuracy: 0.8437 - val_loss: 0.3830 - val_accuracy: 0.8215\n",
            "Epoch 10/10\n",
            "30/30 [==============================] - 2s 77ms/step - loss: 0.3270 - accuracy: 0.8579 - val_loss: 0.3645 - val_accuracy: 0.8305\n"
          ],
          "name": "stdout"
        }
      ]
    },
    {
      "cell_type": "code",
      "metadata": {
        "id": "LqKS3Z3MRerF",
        "colab_type": "code",
        "colab": {
          "base_uri": "https://localhost:8080/",
          "height": 68
        },
        "outputId": "0f93c4a7-f03a-474e-d165-1fca5bb39eb0"
      },
      "source": [
        "results = model.evaluate(test_data.batch(512), verbose=2)\n",
        "\n",
        "for name, value in zip(model.metrics_names, results):\n",
        "    print(\"%s: %.3f\" % (name, value))"
      ],
      "execution_count": 36,
      "outputs": [
        {
          "output_type": "stream",
          "text": [
            "49/49 - 2s - loss: 0.3758 - accuracy: 0.8209\n",
            "loss: 0.376\n",
            "accuracy: 0.821\n"
          ],
          "name": "stdout"
        }
      ]
    },
    {
      "cell_type": "markdown",
      "metadata": {
        "id": "9rBjv19tZutY",
        "colab_type": "text"
      },
      "source": [
        "## Генерация сетей и перебор параметров"
      ]
    },
    {
      "cell_type": "code",
      "metadata": {
        "id": "39SrW9drRoHG",
        "colab_type": "code",
        "colab": {}
      },
      "source": [
        "def net_gen(func='relu', lay_cnt=1, neurons=16):\n",
        "    model = tf.keras.Sequential()\n",
        "    model.add(hub_layer)\n",
        "    model.add(tf.keras.layers.Dense(neurons, activation=func))\n",
        "    if not lay_cnt==1:\n",
        "        model.add(tf.keras.layers.Dense(neurons, activation=func))\n",
        "    model.add(tf.keras.layers.Dense(1))\n",
        "    \n",
        "    model.compile(optimizer='adam',\n",
        "              loss=tf.keras.losses.BinaryCrossentropy(from_logits=True),\n",
        "              metrics=['accuracy'])\n",
        "\n",
        "    return model"
      ],
      "execution_count": 37,
      "outputs": []
    },
    {
      "cell_type": "code",
      "metadata": {
        "id": "mYJlqp1hWrHc",
        "colab_type": "code",
        "colab": {}
      },
      "source": [
        "def net_iter(model, ep=10, batch_size=512):\n",
        "    history = model.fit(train_data.shuffle(10000).batch(batch_size),\n",
        "                epochs=ep,\n",
        "                validation_data=validation_data.batch(batch_size),\n",
        "                verbose=0)\n",
        "    return history.history"
      ],
      "execution_count": 38,
      "outputs": []
    },
    {
      "cell_type": "code",
      "metadata": {
        "id": "5qaC_XGqVWVH",
        "colab_type": "code",
        "colab": {
          "base_uri": "https://localhost:8080/",
          "height": 1000
        },
        "outputId": "6c6fc761-dbdc-4473-a10e-994689794a81"
      },
      "source": [
        "summary_data = pd.DataFrame(data=[[0, 0, 0, 0, 0, 0, 0, 0, 0]], \n",
        "                            columns=['func', 'batch', 'layers', 'neurons', 'mean_train_accuracy', 'mean_val_accuracy', 'variance', 'l_b', 'r_b'])\n",
        "cnt = 0\n",
        "fc = ['relu', 'sigmoid']\n",
        "b_s = [256, 512]\n",
        "l_c = [1, 2]\n",
        "nr = [16, 32]\n",
        "epochs = 10\n",
        "\n",
        "# net_res = []\n",
        "\n",
        "for fc_i in fc:\n",
        "    for b_s_i in b_s:\n",
        "        for l_c_i in l_c:\n",
        "            for nr_i in nr:\n",
        "                err_accuracy = []\n",
        "                err_val_accuracy = []\n",
        "                print(f\"Модель: функция {fc_i}, батч {b_s_i}, слоёв {l_c_i}, нейронов {nr_i}, эпох {epochs}\\n\")\n",
        "                model = net_gen(func=fc_i, lay_cnt=l_c_i, neurons=nr_i)\n",
        "                model.summary()\n",
        "                for i in range(6):\n",
        "                    print(f\"\\tИтерация: {i+1}\")\n",
        "                    hist = net_iter(model, batch_size=b_s_i, ep=epochs)\n",
        "                    # net_res.append(hist)\n",
        "                    err_accuracy.append(hist['accuracy'][-1])\n",
        "                    err_val_accuracy.append(hist['val_accuracy'][-1])\n",
        "\n",
        "                vr = np.var(err_val_accuracy)\n",
        "                l_b, r_b = calculate_confidence_interval(err_val_accuracy)\n",
        "                mean_err_accuracy, mean_err_val_accuracy = np.mean(err_accuracy), np.mean(err_val_accuracy)\n",
        "                print(f\"Ошибки на train. Средняя: {mean_err_accuracy} список: {err_accuracy}\")\n",
        "                print(f\"Ошибки на valid. Средняя: {mean_err_val_accuracy} список: {err_val_accuracy}\")\n",
        "                print(f\"Дисперсия ошибки на valid: {vr}\")\n",
        "                print(f\"Доверительный интервал: {l_b} - {r_b}\\n\\n\")\n",
        "                summary_data.loc[cnt, ['func', 'batch', 'layers', 'neurons', 'mean_train_accuracy', \n",
        "                                       'mean_val_accuracy', 'variance', 'l_b', 'r_b']] = [fc_i, \n",
        "                                        b_s_i, l_c_i, nr_i, np.mean(err_accuracy), \n",
        "                                        np.mean(err_val_accuracy), vr, l_b, r_b]\n",
        "                cnt += 1"
      ],
      "execution_count": 39,
      "outputs": [
        {
          "output_type": "stream",
          "text": [
            "Модель: функция relu, батч 256, слоёв 1, нейронов 16 эпох 10\n",
            "\n",
            "Model: \"sequential_1\"\n",
            "_________________________________________________________________\n",
            "Layer (type)                 Output Shape              Param #   \n",
            "=================================================================\n",
            "keras_layer (KerasLayer)     (None, 20)                400020    \n",
            "_________________________________________________________________\n",
            "dense_2 (Dense)              (None, 16)                336       \n",
            "_________________________________________________________________\n",
            "dense_3 (Dense)              (None, 1)                 17        \n",
            "=================================================================\n",
            "Total params: 400,373\n",
            "Trainable params: 400,373\n",
            "Non-trainable params: 0\n",
            "_________________________________________________________________\n",
            "\tИтерация: 1\n",
            "\tИтерация: 2\n",
            "\tИтерация: 3\n",
            "\tИтерация: 4\n",
            "\tИтерация: 5\n",
            "\tИтерация: 6\n",
            "Ошибки на train. Средняя: 0.9809888899326324 список: [0.9201333522796631, 0.9725333452224731, 0.9936666488647461, 0.9995999932289124, 1.0, 1.0]\n",
            "Ошибки на valid. Средняя: 0.8622333208719889 список: [0.8677999973297119, 0.8679999709129333, 0.8654999732971191, 0.8598999977111816, 0.85589998960495, 0.8562999963760376]\n",
            "Дисперсия ошибки на valid: 2.594549650522835e-05\n",
            "Доверительный интервал: 0.8559499904513359 - 0.8679749742150307\n",
            "\n",
            "\n",
            "Модель: функция relu, батч 256, слоёв 1, нейронов 32 эпох 10\n",
            "\n",
            "Model: \"sequential_2\"\n",
            "_________________________________________________________________\n",
            "Layer (type)                 Output Shape              Param #   \n",
            "=================================================================\n",
            "keras_layer (KerasLayer)     (None, 20)                400020    \n",
            "_________________________________________________________________\n",
            "dense_4 (Dense)              (None, 32)                672       \n",
            "_________________________________________________________________\n",
            "dense_5 (Dense)              (None, 1)                 33        \n",
            "=================================================================\n",
            "Total params: 400,725\n",
            "Trainable params: 400,725\n",
            "Non-trainable params: 0\n",
            "_________________________________________________________________\n",
            "\tИтерация: 1\n",
            "\tИтерация: 2\n",
            "\tИтерация: 3\n",
            "\tИтерация: 4\n",
            "\tИтерация: 5\n",
            "\tИтерация: 6\n",
            "Ошибки на train. Средняя: 0.9998555580774943 список: [0.9991333484649658, 1.0, 1.0, 1.0, 1.0, 1.0]\n",
            "Ошибки на valid. Средняя: 0.8568999965985616 список: [0.8610000014305115, 0.8580999970436096, 0.8575000166893005, 0.8561999797821045, 0.8549000024795532, 0.8536999821662903]\n",
            "Дисперсия ошибки на valid: 5.556692864258947e-06\n",
            "Доверительный интервал: 0.8538499847054482 - 0.8606375008821487\n",
            "\n",
            "\n",
            "Модель: функция relu, батч 256, слоёв 2, нейронов 16 эпох 10\n",
            "\n",
            "Model: \"sequential_3\"\n",
            "_________________________________________________________________\n",
            "Layer (type)                 Output Shape              Param #   \n",
            "=================================================================\n",
            "keras_layer (KerasLayer)     (None, 20)                400020    \n",
            "_________________________________________________________________\n",
            "dense_6 (Dense)              (None, 16)                336       \n",
            "_________________________________________________________________\n",
            "dense_7 (Dense)              (None, 16)                272       \n",
            "_________________________________________________________________\n",
            "dense_8 (Dense)              (None, 1)                 17        \n",
            "=================================================================\n",
            "Total params: 400,645\n",
            "Trainable params: 400,645\n",
            "Non-trainable params: 0\n",
            "_________________________________________________________________\n",
            "\tИтерация: 1\n",
            "\tИтерация: 2\n",
            "\tИтерация: 3\n",
            "\tИтерация: 4\n",
            "\tИтерация: 5\n",
            "\tИтерация: 6\n",
            "Ошибки на train. Средняя: 1.0 список: [1.0, 1.0, 1.0, 1.0, 1.0, 1.0]\n",
            "Ошибки на valid. Средняя: 0.8551166653633118 список: [0.8568999767303467, 0.8551999926567078, 0.8547999858856201, 0.8544999957084656, 0.8547000288963318, 0.8546000123023987]\n",
            "Дисперсия ошибки на valid: 6.84704425898038e-07\n",
            "Доверительный интервал: 0.8545124977827072 - 0.8566874787211418\n",
            "\n",
            "\n",
            "Модель: функция relu, батч 256, слоёв 2, нейронов 32 эпох 10\n",
            "\n",
            "Model: \"sequential_4\"\n",
            "_________________________________________________________________\n",
            "Layer (type)                 Output Shape              Param #   \n",
            "=================================================================\n",
            "keras_layer (KerasLayer)     (None, 20)                400020    \n",
            "_________________________________________________________________\n",
            "dense_9 (Dense)              (None, 32)                672       \n",
            "_________________________________________________________________\n",
            "dense_10 (Dense)             (None, 32)                1056      \n",
            "_________________________________________________________________\n",
            "dense_11 (Dense)             (None, 1)                 33        \n",
            "=================================================================\n",
            "Total params: 401,781\n",
            "Trainable params: 401,781\n",
            "Non-trainable params: 0\n",
            "_________________________________________________________________\n",
            "\tИтерация: 1\n",
            "\tИтерация: 2\n",
            "\tИтерация: 3\n",
            "\tИтерация: 4\n",
            "\tИтерация: 5\n",
            "\tИтерация: 6\n",
            "Ошибки на train. Средняя: 1.0 список: [1.0, 1.0, 1.0, 1.0, 1.0, 1.0]\n",
            "Ошибки на valid. Средняя: 0.8555333316326141 список: [0.8568000197410583, 0.8561999797821045, 0.8557999730110168, 0.8553000092506409, 0.8547999858856201, 0.8543000221252441]\n",
            "Дисперсия ошибки на valid: 7.055506339170847e-07\n",
            "Доверительный интервал: 0.8543625175952911 - 0.8567250147461891\n",
            "\n",
            "\n",
            "Модель: функция relu, батч 512, слоёв 1, нейронов 16 эпох 10\n",
            "\n",
            "Model: \"sequential_5\"\n",
            "_________________________________________________________________\n",
            "Layer (type)                 Output Shape              Param #   \n",
            "=================================================================\n",
            "keras_layer (KerasLayer)     (None, 20)                400020    \n",
            "_________________________________________________________________\n",
            "dense_12 (Dense)             (None, 16)                336       \n",
            "_________________________________________________________________\n",
            "dense_13 (Dense)             (None, 1)                 17        \n",
            "=================================================================\n",
            "Total params: 400,373\n",
            "Trainable params: 400,373\n",
            "Non-trainable params: 0\n",
            "_________________________________________________________________\n",
            "\tИтерация: 1\n",
            "\tИтерация: 2\n",
            "\tИтерация: 3\n",
            "\tИтерация: 4\n",
            "\tИтерация: 5\n",
            "\tИтерация: 6\n",
            "Ошибки на train. Средняя: 0.9995777805646261 список: [0.9974666833877563, 1.0, 1.0, 1.0, 1.0, 1.0]\n",
            "Ошибки на valid. Средняя: 0.8581166664759318 список: [0.8604000210762024, 0.8598999977111816, 0.8583999872207642, 0.8574000000953674, 0.8562999963760376, 0.8562999963760376]\n",
            "Дисперсия ошибки на valid: 2.59807339572957e-06\n",
            "Доверительный интервал: 0.8562999963760376 - 0.8603375181555748\n",
            "\n",
            "\n",
            "Модель: функция relu, батч 512, слоёв 1, нейронов 32 эпох 10\n",
            "\n",
            "Model: \"sequential_6\"\n",
            "_________________________________________________________________\n",
            "Layer (type)                 Output Shape              Param #   \n",
            "=================================================================\n",
            "keras_layer (KerasLayer)     (None, 20)                400020    \n",
            "_________________________________________________________________\n",
            "dense_14 (Dense)             (None, 32)                672       \n",
            "_________________________________________________________________\n",
            "dense_15 (Dense)             (None, 1)                 33        \n",
            "=================================================================\n",
            "Total params: 400,725\n",
            "Trainable params: 400,725\n",
            "Non-trainable params: 0\n",
            "_________________________________________________________________\n",
            "\tИтерация: 1\n",
            "\tИтерация: 2\n",
            "\tИтерация: 3\n",
            "\tИтерация: 4\n",
            "\tИтерация: 5\n",
            "\tИтерация: 6\n",
            "Ошибки на train. Средняя: 0.9997999966144562 список: [0.9987999796867371, 1.0, 1.0, 1.0, 1.0, 1.0]\n",
            "Ошибки на valid. Средняя: 0.8568833371003469 список: [0.8607000112533569, 0.8578000068664551, 0.8567000031471252, 0.8555999994277954, 0.8551999926567078, 0.8553000092506409]\n",
            "Дисперсия ошибки на valid: 3.7380712610218184e-06\n",
            "Доверительный интервал: 0.8552124947309494 - 0.8603375107049942\n",
            "\n",
            "\n",
            "Модель: функция relu, батч 512, слоёв 2, нейронов 16 эпох 10\n",
            "\n",
            "Model: \"sequential_7\"\n",
            "_________________________________________________________________\n",
            "Layer (type)                 Output Shape              Param #   \n",
            "=================================================================\n",
            "keras_layer (KerasLayer)     (None, 20)                400020    \n",
            "_________________________________________________________________\n",
            "dense_16 (Dense)             (None, 16)                336       \n",
            "_________________________________________________________________\n",
            "dense_17 (Dense)             (None, 16)                272       \n",
            "_________________________________________________________________\n",
            "dense_18 (Dense)             (None, 1)                 17        \n",
            "=================================================================\n",
            "Total params: 400,645\n",
            "Trainable params: 400,645\n",
            "Non-trainable params: 0\n",
            "_________________________________________________________________\n",
            "\tИтерация: 1\n",
            "\tИтерация: 2\n",
            "\tИтерация: 3\n",
            "\tИтерация: 4\n",
            "\tИтерация: 5\n",
            "\tИтерация: 6\n",
            "Ошибки на train. Средняя: 1.0 список: [1.0, 1.0, 1.0, 1.0, 1.0, 1.0]\n",
            "Ошибки на valid. Средняя: 0.858133335908254 список: [0.8596000075340271, 0.8579000234603882, 0.8574000000953674, 0.8580999970436096, 0.8579999804496765, 0.8578000068664551]\n",
            "Дисперсия ошибки на valid: 4.788908631623044e-07\n",
            "Доверительный интервал: 0.8574500009417534 - 0.8594125062227249\n",
            "\n",
            "\n",
            "Модель: функция relu, батч 512, слоёв 2, нейронов 32 эпох 10\n",
            "\n",
            "Model: \"sequential_8\"\n",
            "_________________________________________________________________\n",
            "Layer (type)                 Output Shape              Param #   \n",
            "=================================================================\n",
            "keras_layer (KerasLayer)     (None, 20)                400020    \n",
            "_________________________________________________________________\n",
            "dense_19 (Dense)             (None, 32)                672       \n",
            "_________________________________________________________________\n",
            "dense_20 (Dense)             (None, 32)                1056      \n",
            "_________________________________________________________________\n",
            "dense_21 (Dense)             (None, 1)                 33        \n",
            "=================================================================\n",
            "Total params: 401,781\n",
            "Trainable params: 401,781\n",
            "Non-trainable params: 0\n",
            "_________________________________________________________________\n",
            "\tИтерация: 1\n",
            "\tИтерация: 2\n",
            "\tИтерация: 3\n",
            "\tИтерация: 4\n",
            "\tИтерация: 5\n",
            "\tИтерация: 6\n",
            "Ошибки на train. Средняя: 1.0 список: [1.0, 1.0, 1.0, 1.0, 1.0, 1.0]\n",
            "Ошибки на valid. Средняя: 0.8563166757424673 список: [0.8605999946594238, 0.858299970626831, 0.8550000190734863, 0.8550000190734863, 0.8547000288963318, 0.8543000221252441]\n",
            "Дисперсия ошибки на valid: 5.4046479912707295e-06\n",
            "Доверительный интервал: 0.8543500229716301 - 0.8603124916553497\n",
            "\n",
            "\n",
            "Модель: функция sigmoid, батч 256, слоёв 1, нейронов 16 эпох 10\n",
            "\n",
            "Model: \"sequential_9\"\n",
            "_________________________________________________________________\n",
            "Layer (type)                 Output Shape              Param #   \n",
            "=================================================================\n",
            "keras_layer (KerasLayer)     (None, 20)                400020    \n",
            "_________________________________________________________________\n",
            "dense_22 (Dense)             (None, 16)                336       \n",
            "_________________________________________________________________\n",
            "dense_23 (Dense)             (None, 1)                 17        \n",
            "=================================================================\n",
            "Total params: 400,373\n",
            "Trainable params: 400,373\n",
            "Non-trainable params: 0\n",
            "_________________________________________________________________\n",
            "\tИтерация: 1\n",
            "\tИтерация: 2\n",
            "\tИтерация: 3\n",
            "\tИтерация: 4\n",
            "\tИтерация: 5\n",
            "\tИтерация: 6\n",
            "Ошибки на train. Средняя: 0.9996222257614136 список: [0.9977333545684814, 1.0, 1.0, 1.0, 1.0, 1.0]\n",
            "Ошибки на valid. Средняя: 0.860150009393692 список: [0.8647000193595886, 0.8626999855041504, 0.8598999977111816, 0.8579000234603882, 0.8582000136375427, 0.8575000166893005]\n",
            "Дисперсия ошибки на valid: 7.192476029575327e-06\n",
            "Доверительный интервал: 0.8575500175356865 - 0.8644500151276588\n",
            "\n",
            "\n",
            "Модель: функция sigmoid, батч 256, слоёв 1, нейронов 32 эпох 10\n",
            "\n",
            "Model: \"sequential_10\"\n",
            "_________________________________________________________________\n",
            "Layer (type)                 Output Shape              Param #   \n",
            "=================================================================\n",
            "keras_layer (KerasLayer)     (None, 20)                400020    \n",
            "_________________________________________________________________\n",
            "dense_24 (Dense)             (None, 32)                672       \n",
            "_________________________________________________________________\n",
            "dense_25 (Dense)             (None, 1)                 33        \n",
            "=================================================================\n",
            "Total params: 400,725\n",
            "Trainable params: 400,725\n",
            "Non-trainable params: 0\n",
            "_________________________________________________________________\n",
            "\tИтерация: 1\n",
            "\tИтерация: 2\n",
            "\tИтерация: 3\n",
            "\tИтерация: 4\n",
            "\tИтерация: 5\n",
            "\tИтерация: 6\n",
            "Ошибки на train. Средняя: 1.0 список: [1.0, 1.0, 1.0, 1.0, 1.0, 1.0]\n",
            "Ошибки на valid. Средняя: 0.8585166732470194 список: [0.862500011920929, 0.8593000173568726, 0.8583999872207642, 0.8571000099182129, 0.8571000099182129, 0.8567000031471252]\n",
            "Дисперсия ошибки на valid: 3.968065140074688e-06\n",
            "Доверительный интервал: 0.8567500039935112 - 0.8621000126004219\n",
            "\n",
            "\n",
            "Модель: функция sigmoid, батч 256, слоёв 2, нейронов 16 эпох 10\n",
            "\n",
            "Model: \"sequential_11\"\n",
            "_________________________________________________________________\n",
            "Layer (type)                 Output Shape              Param #   \n",
            "=================================================================\n",
            "keras_layer (KerasLayer)     (None, 20)                400020    \n",
            "_________________________________________________________________\n",
            "dense_26 (Dense)             (None, 16)                336       \n",
            "_________________________________________________________________\n",
            "dense_27 (Dense)             (None, 16)                272       \n",
            "_________________________________________________________________\n",
            "dense_28 (Dense)             (None, 1)                 17        \n",
            "=================================================================\n",
            "Total params: 400,645\n",
            "Trainable params: 400,645\n",
            "Non-trainable params: 0\n",
            "_________________________________________________________________\n",
            "\tИтерация: 1\n",
            "\tИтерация: 2\n",
            "\tИтерация: 3\n",
            "\tИтерация: 4\n",
            "\tИтерация: 5\n",
            "\tИтерация: 6\n",
            "Ошибки на train. Средняя: 1.0 список: [1.0, 1.0, 1.0, 1.0, 1.0, 1.0]\n",
            "Ошибки на valid. Средняя: 0.8618333141009012 список: [0.8633999824523926, 0.8619999885559082, 0.8618999719619751, 0.8611999750137329, 0.8611999750137329, 0.861299991607666]\n",
            "Дисперсия ошибки на valid: 5.955571747367434e-07\n",
            "Доверительный интервал: 0.8611999750137329 - 0.863224983215332\n",
            "\n",
            "\n",
            "Модель: функция sigmoid, батч 256, слоёв 2, нейронов 32 эпох 10\n",
            "\n",
            "Model: \"sequential_12\"\n",
            "_________________________________________________________________\n",
            "Layer (type)                 Output Shape              Param #   \n",
            "=================================================================\n",
            "keras_layer (KerasLayer)     (None, 20)                400020    \n",
            "_________________________________________________________________\n",
            "dense_29 (Dense)             (None, 32)                672       \n",
            "_________________________________________________________________\n",
            "dense_30 (Dense)             (None, 32)                1056      \n",
            "_________________________________________________________________\n",
            "dense_31 (Dense)             (None, 1)                 33        \n",
            "=================================================================\n",
            "Total params: 401,781\n",
            "Trainable params: 401,781\n",
            "Non-trainable params: 0\n",
            "_________________________________________________________________\n",
            "\tИтерация: 1\n",
            "\tИтерация: 2\n",
            "\tИтерация: 3\n",
            "\tИтерация: 4\n",
            "\tИтерация: 5\n",
            "\tИтерация: 6\n",
            "Ошибки на train. Средняя: 1.0 список: [1.0, 1.0, 1.0, 1.0, 1.0, 1.0]\n",
            "Ошибки на valid. Средняя: 0.8606166740258535 список: [0.8616999983787537, 0.86080002784729, 0.8605999946594238, 0.8604000210762024, 0.8603000044822693, 0.8598999977111816]\n",
            "Дисперсия ошибки на valid: 3.113885865207382e-07\n",
            "Доверительный интервал: 0.8599499985575676 - 0.8615875020623207\n",
            "\n",
            "\n",
            "Модель: функция sigmoid, батч 512, слоёв 1, нейронов 16 эпох 10\n",
            "\n",
            "Model: \"sequential_13\"\n",
            "_________________________________________________________________\n",
            "Layer (type)                 Output Shape              Param #   \n",
            "=================================================================\n",
            "keras_layer (KerasLayer)     (None, 20)                400020    \n",
            "_________________________________________________________________\n",
            "dense_32 (Dense)             (None, 16)                336       \n",
            "_________________________________________________________________\n",
            "dense_33 (Dense)             (None, 1)                 17        \n",
            "=================================================================\n",
            "Total params: 400,373\n",
            "Trainable params: 400,373\n",
            "Non-trainable params: 0\n",
            "_________________________________________________________________\n",
            "\tИтерация: 1\n",
            "\tИтерация: 2\n",
            "\tИтерация: 3\n",
            "\tИтерация: 4\n",
            "\tИтерация: 5\n",
            "\tИтерация: 6\n",
            "Ошибки на train. Средняя: 0.9998555580774943 список: [0.9991333484649658, 1.0, 1.0, 1.0, 1.0, 1.0]\n",
            "Ошибки на valid. Средняя: 0.862499992052714 список: [0.8650000095367432, 0.8637999892234802, 0.8623999953269958, 0.8615999817848206, 0.8615999817848206, 0.8605999946594238]\n",
            "Дисперсия ошибки на valid: 2.1966844114571254e-06\n",
            "Доверительный интервал: 0.8607249930500984 - 0.8648500069975853\n",
            "\n",
            "\n",
            "Модель: функция sigmoid, батч 512, слоёв 1, нейронов 32 эпох 10\n",
            "\n",
            "Model: \"sequential_14\"\n",
            "_________________________________________________________________\n",
            "Layer (type)                 Output Shape              Param #   \n",
            "=================================================================\n",
            "keras_layer (KerasLayer)     (None, 20)                400020    \n",
            "_________________________________________________________________\n",
            "dense_34 (Dense)             (None, 32)                672       \n",
            "_________________________________________________________________\n",
            "dense_35 (Dense)             (None, 1)                 33        \n",
            "=================================================================\n",
            "Total params: 400,725\n",
            "Trainable params: 400,725\n",
            "Non-trainable params: 0\n",
            "_________________________________________________________________\n",
            "\tИтерация: 1\n",
            "\tИтерация: 2\n",
            "\tИтерация: 3\n",
            "\tИтерация: 4\n",
            "\tИтерация: 5\n",
            "\tИтерация: 6\n",
            "Ошибки на train. Средняя: 0.9998777806758881 список: [0.9992666840553284, 1.0, 1.0, 1.0, 1.0, 1.0]\n",
            "Ошибки на valid. Средняя: 0.8628833293914795 список: [0.8652999997138977, 0.864799976348877, 0.8629000186920166, 0.8615999817848206, 0.8610000014305115, 0.8616999983787537]\n",
            "Дисперсия ошибки на valid: 2.6847145188450363e-06\n",
            "Доверительный интервал: 0.8610749989748001 - 0.8652374967932701\n",
            "\n",
            "\n",
            "Модель: функция sigmoid, батч 512, слоёв 2, нейронов 16 эпох 10\n",
            "\n",
            "Model: \"sequential_15\"\n",
            "_________________________________________________________________\n",
            "Layer (type)                 Output Shape              Param #   \n",
            "=================================================================\n",
            "keras_layer (KerasLayer)     (None, 20)                400020    \n",
            "_________________________________________________________________\n",
            "dense_36 (Dense)             (None, 16)                336       \n",
            "_________________________________________________________________\n",
            "dense_37 (Dense)             (None, 16)                272       \n",
            "_________________________________________________________________\n",
            "dense_38 (Dense)             (None, 1)                 17        \n",
            "=================================================================\n",
            "Total params: 400,645\n",
            "Trainable params: 400,645\n",
            "Non-trainable params: 0\n",
            "_________________________________________________________________\n",
            "\tИтерация: 1\n",
            "\tИтерация: 2\n",
            "\tИтерация: 3\n",
            "\tИтерация: 4\n",
            "\tИтерация: 5\n",
            "\tИтерация: 6\n",
            "Ошибки на train. Средняя: 0.9999777774016062 список: [0.9998666644096375, 1.0, 1.0, 1.0, 1.0, 1.0]\n",
            "Ошибки на valid. Средняя: 0.8630666633447012 список: [0.8651000261306763, 0.8628000020980835, 0.8629999756813049, 0.863099992275238, 0.8623999953269958, 0.8619999885559082]\n",
            "Дисперсия ошибки на valid: 9.655786421289588e-07\n",
            "Доверительный интервал: 0.8620499894022942 - 0.8648500218987465\n",
            "\n",
            "\n",
            "Модель: функция sigmoid, батч 512, слоёв 2, нейронов 32 эпох 10\n",
            "\n",
            "Model: \"sequential_16\"\n",
            "_________________________________________________________________\n",
            "Layer (type)                 Output Shape              Param #   \n",
            "=================================================================\n",
            "keras_layer (KerasLayer)     (None, 20)                400020    \n",
            "_________________________________________________________________\n",
            "dense_39 (Dense)             (None, 32)                672       \n",
            "_________________________________________________________________\n",
            "dense_40 (Dense)             (None, 32)                1056      \n",
            "_________________________________________________________________\n",
            "dense_41 (Dense)             (None, 1)                 33        \n",
            "=================================================================\n",
            "Total params: 401,781\n",
            "Trainable params: 401,781\n",
            "Non-trainable params: 0\n",
            "_________________________________________________________________\n",
            "\tИтерация: 1\n",
            "\tИтерация: 2\n",
            "\tИтерация: 3\n",
            "\tИтерация: 4\n",
            "\tИтерация: 5\n",
            "\tИтерация: 6\n",
            "Ошибки на train. Средняя: 1.0 список: [1.0, 1.0, 1.0, 1.0, 1.0, 1.0]\n",
            "Ошибки на valid. Средняя: 0.8615000049273173 список: [0.8636000156402588, 0.8615999817848206, 0.8610000014305115, 0.8607000112533569, 0.8611000180244446, 0.8610000014305115]\n",
            "Дисперсия ошибки на valid: 9.533377934979449e-07\n",
            "Доверительный интервал: 0.8607375100255013 - 0.863350011408329\n",
            "\n",
            "\n"
          ],
          "name": "stdout"
        }
      ]
    },
    {
      "cell_type": "code",
      "metadata": {
        "id": "tvxcXy0_o-I2",
        "colab_type": "code",
        "colab": {
          "base_uri": "https://localhost:8080/",
          "height": 545
        },
        "outputId": "3d38193a-b719-4a15-c3ed-0ea1ed816f7b"
      },
      "source": [
        "summary_data"
      ],
      "execution_count": 40,
      "outputs": [
        {
          "output_type": "execute_result",
          "data": {
            "text/html": [
              "<div>\n",
              "<style scoped>\n",
              "    .dataframe tbody tr th:only-of-type {\n",
              "        vertical-align: middle;\n",
              "    }\n",
              "\n",
              "    .dataframe tbody tr th {\n",
              "        vertical-align: top;\n",
              "    }\n",
              "\n",
              "    .dataframe thead th {\n",
              "        text-align: right;\n",
              "    }\n",
              "</style>\n",
              "<table border=\"1\" class=\"dataframe\">\n",
              "  <thead>\n",
              "    <tr style=\"text-align: right;\">\n",
              "      <th></th>\n",
              "      <th>func</th>\n",
              "      <th>batch</th>\n",
              "      <th>layers</th>\n",
              "      <th>neurons</th>\n",
              "      <th>mean_train_accuracy</th>\n",
              "      <th>mean_val_accuracy</th>\n",
              "      <th>variance</th>\n",
              "      <th>l_b</th>\n",
              "      <th>r_b</th>\n",
              "    </tr>\n",
              "  </thead>\n",
              "  <tbody>\n",
              "    <tr>\n",
              "      <th>0</th>\n",
              "      <td>relu</td>\n",
              "      <td>256.0</td>\n",
              "      <td>1.0</td>\n",
              "      <td>16.0</td>\n",
              "      <td>0.980989</td>\n",
              "      <td>0.862233</td>\n",
              "      <td>2.594550e-05</td>\n",
              "      <td>0.855950</td>\n",
              "      <td>0.867975</td>\n",
              "    </tr>\n",
              "    <tr>\n",
              "      <th>1</th>\n",
              "      <td>relu</td>\n",
              "      <td>256.0</td>\n",
              "      <td>1.0</td>\n",
              "      <td>32.0</td>\n",
              "      <td>0.999856</td>\n",
              "      <td>0.856900</td>\n",
              "      <td>5.556693e-06</td>\n",
              "      <td>0.853850</td>\n",
              "      <td>0.860638</td>\n",
              "    </tr>\n",
              "    <tr>\n",
              "      <th>2</th>\n",
              "      <td>relu</td>\n",
              "      <td>256.0</td>\n",
              "      <td>2.0</td>\n",
              "      <td>16.0</td>\n",
              "      <td>1.000000</td>\n",
              "      <td>0.855117</td>\n",
              "      <td>6.847044e-07</td>\n",
              "      <td>0.854512</td>\n",
              "      <td>0.856687</td>\n",
              "    </tr>\n",
              "    <tr>\n",
              "      <th>3</th>\n",
              "      <td>relu</td>\n",
              "      <td>256.0</td>\n",
              "      <td>2.0</td>\n",
              "      <td>32.0</td>\n",
              "      <td>1.000000</td>\n",
              "      <td>0.855533</td>\n",
              "      <td>7.055506e-07</td>\n",
              "      <td>0.854363</td>\n",
              "      <td>0.856725</td>\n",
              "    </tr>\n",
              "    <tr>\n",
              "      <th>4</th>\n",
              "      <td>relu</td>\n",
              "      <td>512.0</td>\n",
              "      <td>1.0</td>\n",
              "      <td>16.0</td>\n",
              "      <td>0.999578</td>\n",
              "      <td>0.858117</td>\n",
              "      <td>2.598073e-06</td>\n",
              "      <td>0.856300</td>\n",
              "      <td>0.860338</td>\n",
              "    </tr>\n",
              "    <tr>\n",
              "      <th>5</th>\n",
              "      <td>relu</td>\n",
              "      <td>512.0</td>\n",
              "      <td>1.0</td>\n",
              "      <td>32.0</td>\n",
              "      <td>0.999800</td>\n",
              "      <td>0.856883</td>\n",
              "      <td>3.738071e-06</td>\n",
              "      <td>0.855212</td>\n",
              "      <td>0.860338</td>\n",
              "    </tr>\n",
              "    <tr>\n",
              "      <th>6</th>\n",
              "      <td>relu</td>\n",
              "      <td>512.0</td>\n",
              "      <td>2.0</td>\n",
              "      <td>16.0</td>\n",
              "      <td>1.000000</td>\n",
              "      <td>0.858133</td>\n",
              "      <td>4.788909e-07</td>\n",
              "      <td>0.857450</td>\n",
              "      <td>0.859413</td>\n",
              "    </tr>\n",
              "    <tr>\n",
              "      <th>7</th>\n",
              "      <td>relu</td>\n",
              "      <td>512.0</td>\n",
              "      <td>2.0</td>\n",
              "      <td>32.0</td>\n",
              "      <td>1.000000</td>\n",
              "      <td>0.856317</td>\n",
              "      <td>5.404648e-06</td>\n",
              "      <td>0.854350</td>\n",
              "      <td>0.860312</td>\n",
              "    </tr>\n",
              "    <tr>\n",
              "      <th>8</th>\n",
              "      <td>sigmoid</td>\n",
              "      <td>256.0</td>\n",
              "      <td>1.0</td>\n",
              "      <td>16.0</td>\n",
              "      <td>0.999622</td>\n",
              "      <td>0.860150</td>\n",
              "      <td>7.192476e-06</td>\n",
              "      <td>0.857550</td>\n",
              "      <td>0.864450</td>\n",
              "    </tr>\n",
              "    <tr>\n",
              "      <th>9</th>\n",
              "      <td>sigmoid</td>\n",
              "      <td>256.0</td>\n",
              "      <td>1.0</td>\n",
              "      <td>32.0</td>\n",
              "      <td>1.000000</td>\n",
              "      <td>0.858517</td>\n",
              "      <td>3.968065e-06</td>\n",
              "      <td>0.856750</td>\n",
              "      <td>0.862100</td>\n",
              "    </tr>\n",
              "    <tr>\n",
              "      <th>10</th>\n",
              "      <td>sigmoid</td>\n",
              "      <td>256.0</td>\n",
              "      <td>2.0</td>\n",
              "      <td>16.0</td>\n",
              "      <td>1.000000</td>\n",
              "      <td>0.861833</td>\n",
              "      <td>5.955572e-07</td>\n",
              "      <td>0.861200</td>\n",
              "      <td>0.863225</td>\n",
              "    </tr>\n",
              "    <tr>\n",
              "      <th>11</th>\n",
              "      <td>sigmoid</td>\n",
              "      <td>256.0</td>\n",
              "      <td>2.0</td>\n",
              "      <td>32.0</td>\n",
              "      <td>1.000000</td>\n",
              "      <td>0.860617</td>\n",
              "      <td>3.113886e-07</td>\n",
              "      <td>0.859950</td>\n",
              "      <td>0.861588</td>\n",
              "    </tr>\n",
              "    <tr>\n",
              "      <th>12</th>\n",
              "      <td>sigmoid</td>\n",
              "      <td>512.0</td>\n",
              "      <td>1.0</td>\n",
              "      <td>16.0</td>\n",
              "      <td>0.999856</td>\n",
              "      <td>0.862500</td>\n",
              "      <td>2.196684e-06</td>\n",
              "      <td>0.860725</td>\n",
              "      <td>0.864850</td>\n",
              "    </tr>\n",
              "    <tr>\n",
              "      <th>13</th>\n",
              "      <td>sigmoid</td>\n",
              "      <td>512.0</td>\n",
              "      <td>1.0</td>\n",
              "      <td>32.0</td>\n",
              "      <td>0.999878</td>\n",
              "      <td>0.862883</td>\n",
              "      <td>2.684715e-06</td>\n",
              "      <td>0.861075</td>\n",
              "      <td>0.865237</td>\n",
              "    </tr>\n",
              "    <tr>\n",
              "      <th>14</th>\n",
              "      <td>sigmoid</td>\n",
              "      <td>512.0</td>\n",
              "      <td>2.0</td>\n",
              "      <td>16.0</td>\n",
              "      <td>0.999978</td>\n",
              "      <td>0.863067</td>\n",
              "      <td>9.655786e-07</td>\n",
              "      <td>0.862050</td>\n",
              "      <td>0.864850</td>\n",
              "    </tr>\n",
              "    <tr>\n",
              "      <th>15</th>\n",
              "      <td>sigmoid</td>\n",
              "      <td>512.0</td>\n",
              "      <td>2.0</td>\n",
              "      <td>32.0</td>\n",
              "      <td>1.000000</td>\n",
              "      <td>0.861500</td>\n",
              "      <td>9.533378e-07</td>\n",
              "      <td>0.860738</td>\n",
              "      <td>0.863350</td>\n",
              "    </tr>\n",
              "  </tbody>\n",
              "</table>\n",
              "</div>"
            ],
            "text/plain": [
              "       func  batch  layers  ...      variance       l_b       r_b\n",
              "0      relu  256.0     1.0  ...  2.594550e-05  0.855950  0.867975\n",
              "1      relu  256.0     1.0  ...  5.556693e-06  0.853850  0.860638\n",
              "2      relu  256.0     2.0  ...  6.847044e-07  0.854512  0.856687\n",
              "3      relu  256.0     2.0  ...  7.055506e-07  0.854363  0.856725\n",
              "4      relu  512.0     1.0  ...  2.598073e-06  0.856300  0.860338\n",
              "5      relu  512.0     1.0  ...  3.738071e-06  0.855212  0.860338\n",
              "6      relu  512.0     2.0  ...  4.788909e-07  0.857450  0.859413\n",
              "7      relu  512.0     2.0  ...  5.404648e-06  0.854350  0.860312\n",
              "8   sigmoid  256.0     1.0  ...  7.192476e-06  0.857550  0.864450\n",
              "9   sigmoid  256.0     1.0  ...  3.968065e-06  0.856750  0.862100\n",
              "10  sigmoid  256.0     2.0  ...  5.955572e-07  0.861200  0.863225\n",
              "11  sigmoid  256.0     2.0  ...  3.113886e-07  0.859950  0.861588\n",
              "12  sigmoid  512.0     1.0  ...  2.196684e-06  0.860725  0.864850\n",
              "13  sigmoid  512.0     1.0  ...  2.684715e-06  0.861075  0.865237\n",
              "14  sigmoid  512.0     2.0  ...  9.655786e-07  0.862050  0.864850\n",
              "15  sigmoid  512.0     2.0  ...  9.533378e-07  0.860738  0.863350\n",
              "\n",
              "[16 rows x 9 columns]"
            ]
          },
          "metadata": {
            "tags": []
          },
          "execution_count": 40
        }
      ]
    },
    {
      "cell_type": "code",
      "metadata": {
        "id": "PQMZiC8seysi",
        "colab_type": "code",
        "colab": {
          "base_uri": "https://localhost:8080/",
          "height": 306
        },
        "outputId": "5cd192be-896f-4cd7-f6d2-be65a3b55015"
      },
      "source": [
        "summary_data.loc[:, 'mean_val_accuracy'].sort_values(ascending=False)"
      ],
      "execution_count": 51,
      "outputs": [
        {
          "output_type": "execute_result",
          "data": {
            "text/plain": [
              "14    0.863067\n",
              "13    0.862883\n",
              "12    0.862500\n",
              "0     0.862233\n",
              "10    0.861833\n",
              "15    0.861500\n",
              "11    0.860617\n",
              "8     0.860150\n",
              "9     0.858517\n",
              "6     0.858133\n",
              "4     0.858117\n",
              "1     0.856900\n",
              "5     0.856883\n",
              "7     0.856317\n",
              "3     0.855533\n",
              "2     0.855117\n",
              "Name: mean_val_accuracy, dtype: float64"
            ]
          },
          "metadata": {
            "tags": []
          },
          "execution_count": 51
        }
      ]
    },
    {
      "cell_type": "code",
      "metadata": {
        "id": "BPN2OQvpJsEA",
        "colab_type": "code",
        "colab": {
          "base_uri": "https://localhost:8080/",
          "height": 545
        },
        "outputId": "4ce239c9-8361-451d-ef17-6b173068d4ca"
      },
      "source": [
        "summary_data.sort_values('mean_val_accuracy', ascending=False)"
      ],
      "execution_count": 53,
      "outputs": [
        {
          "output_type": "execute_result",
          "data": {
            "text/html": [
              "<div>\n",
              "<style scoped>\n",
              "    .dataframe tbody tr th:only-of-type {\n",
              "        vertical-align: middle;\n",
              "    }\n",
              "\n",
              "    .dataframe tbody tr th {\n",
              "        vertical-align: top;\n",
              "    }\n",
              "\n",
              "    .dataframe thead th {\n",
              "        text-align: right;\n",
              "    }\n",
              "</style>\n",
              "<table border=\"1\" class=\"dataframe\">\n",
              "  <thead>\n",
              "    <tr style=\"text-align: right;\">\n",
              "      <th></th>\n",
              "      <th>func</th>\n",
              "      <th>batch</th>\n",
              "      <th>layers</th>\n",
              "      <th>neurons</th>\n",
              "      <th>mean_train_accuracy</th>\n",
              "      <th>mean_val_accuracy</th>\n",
              "      <th>variance</th>\n",
              "      <th>l_b</th>\n",
              "      <th>r_b</th>\n",
              "    </tr>\n",
              "  </thead>\n",
              "  <tbody>\n",
              "    <tr>\n",
              "      <th>14</th>\n",
              "      <td>sigmoid</td>\n",
              "      <td>512.0</td>\n",
              "      <td>2.0</td>\n",
              "      <td>16.0</td>\n",
              "      <td>0.999978</td>\n",
              "      <td>0.863067</td>\n",
              "      <td>9.655786e-07</td>\n",
              "      <td>0.862050</td>\n",
              "      <td>0.864850</td>\n",
              "    </tr>\n",
              "    <tr>\n",
              "      <th>13</th>\n",
              "      <td>sigmoid</td>\n",
              "      <td>512.0</td>\n",
              "      <td>1.0</td>\n",
              "      <td>32.0</td>\n",
              "      <td>0.999878</td>\n",
              "      <td>0.862883</td>\n",
              "      <td>2.684715e-06</td>\n",
              "      <td>0.861075</td>\n",
              "      <td>0.865237</td>\n",
              "    </tr>\n",
              "    <tr>\n",
              "      <th>12</th>\n",
              "      <td>sigmoid</td>\n",
              "      <td>512.0</td>\n",
              "      <td>1.0</td>\n",
              "      <td>16.0</td>\n",
              "      <td>0.999856</td>\n",
              "      <td>0.862500</td>\n",
              "      <td>2.196684e-06</td>\n",
              "      <td>0.860725</td>\n",
              "      <td>0.864850</td>\n",
              "    </tr>\n",
              "    <tr>\n",
              "      <th>0</th>\n",
              "      <td>relu</td>\n",
              "      <td>256.0</td>\n",
              "      <td>1.0</td>\n",
              "      <td>16.0</td>\n",
              "      <td>0.980989</td>\n",
              "      <td>0.862233</td>\n",
              "      <td>2.594550e-05</td>\n",
              "      <td>0.855950</td>\n",
              "      <td>0.867975</td>\n",
              "    </tr>\n",
              "    <tr>\n",
              "      <th>10</th>\n",
              "      <td>sigmoid</td>\n",
              "      <td>256.0</td>\n",
              "      <td>2.0</td>\n",
              "      <td>16.0</td>\n",
              "      <td>1.000000</td>\n",
              "      <td>0.861833</td>\n",
              "      <td>5.955572e-07</td>\n",
              "      <td>0.861200</td>\n",
              "      <td>0.863225</td>\n",
              "    </tr>\n",
              "    <tr>\n",
              "      <th>15</th>\n",
              "      <td>sigmoid</td>\n",
              "      <td>512.0</td>\n",
              "      <td>2.0</td>\n",
              "      <td>32.0</td>\n",
              "      <td>1.000000</td>\n",
              "      <td>0.861500</td>\n",
              "      <td>9.533378e-07</td>\n",
              "      <td>0.860738</td>\n",
              "      <td>0.863350</td>\n",
              "    </tr>\n",
              "    <tr>\n",
              "      <th>11</th>\n",
              "      <td>sigmoid</td>\n",
              "      <td>256.0</td>\n",
              "      <td>2.0</td>\n",
              "      <td>32.0</td>\n",
              "      <td>1.000000</td>\n",
              "      <td>0.860617</td>\n",
              "      <td>3.113886e-07</td>\n",
              "      <td>0.859950</td>\n",
              "      <td>0.861588</td>\n",
              "    </tr>\n",
              "    <tr>\n",
              "      <th>8</th>\n",
              "      <td>sigmoid</td>\n",
              "      <td>256.0</td>\n",
              "      <td>1.0</td>\n",
              "      <td>16.0</td>\n",
              "      <td>0.999622</td>\n",
              "      <td>0.860150</td>\n",
              "      <td>7.192476e-06</td>\n",
              "      <td>0.857550</td>\n",
              "      <td>0.864450</td>\n",
              "    </tr>\n",
              "    <tr>\n",
              "      <th>9</th>\n",
              "      <td>sigmoid</td>\n",
              "      <td>256.0</td>\n",
              "      <td>1.0</td>\n",
              "      <td>32.0</td>\n",
              "      <td>1.000000</td>\n",
              "      <td>0.858517</td>\n",
              "      <td>3.968065e-06</td>\n",
              "      <td>0.856750</td>\n",
              "      <td>0.862100</td>\n",
              "    </tr>\n",
              "    <tr>\n",
              "      <th>6</th>\n",
              "      <td>relu</td>\n",
              "      <td>512.0</td>\n",
              "      <td>2.0</td>\n",
              "      <td>16.0</td>\n",
              "      <td>1.000000</td>\n",
              "      <td>0.858133</td>\n",
              "      <td>4.788909e-07</td>\n",
              "      <td>0.857450</td>\n",
              "      <td>0.859413</td>\n",
              "    </tr>\n",
              "    <tr>\n",
              "      <th>4</th>\n",
              "      <td>relu</td>\n",
              "      <td>512.0</td>\n",
              "      <td>1.0</td>\n",
              "      <td>16.0</td>\n",
              "      <td>0.999578</td>\n",
              "      <td>0.858117</td>\n",
              "      <td>2.598073e-06</td>\n",
              "      <td>0.856300</td>\n",
              "      <td>0.860338</td>\n",
              "    </tr>\n",
              "    <tr>\n",
              "      <th>1</th>\n",
              "      <td>relu</td>\n",
              "      <td>256.0</td>\n",
              "      <td>1.0</td>\n",
              "      <td>32.0</td>\n",
              "      <td>0.999856</td>\n",
              "      <td>0.856900</td>\n",
              "      <td>5.556693e-06</td>\n",
              "      <td>0.853850</td>\n",
              "      <td>0.860638</td>\n",
              "    </tr>\n",
              "    <tr>\n",
              "      <th>5</th>\n",
              "      <td>relu</td>\n",
              "      <td>512.0</td>\n",
              "      <td>1.0</td>\n",
              "      <td>32.0</td>\n",
              "      <td>0.999800</td>\n",
              "      <td>0.856883</td>\n",
              "      <td>3.738071e-06</td>\n",
              "      <td>0.855212</td>\n",
              "      <td>0.860338</td>\n",
              "    </tr>\n",
              "    <tr>\n",
              "      <th>7</th>\n",
              "      <td>relu</td>\n",
              "      <td>512.0</td>\n",
              "      <td>2.0</td>\n",
              "      <td>32.0</td>\n",
              "      <td>1.000000</td>\n",
              "      <td>0.856317</td>\n",
              "      <td>5.404648e-06</td>\n",
              "      <td>0.854350</td>\n",
              "      <td>0.860312</td>\n",
              "    </tr>\n",
              "    <tr>\n",
              "      <th>3</th>\n",
              "      <td>relu</td>\n",
              "      <td>256.0</td>\n",
              "      <td>2.0</td>\n",
              "      <td>32.0</td>\n",
              "      <td>1.000000</td>\n",
              "      <td>0.855533</td>\n",
              "      <td>7.055506e-07</td>\n",
              "      <td>0.854363</td>\n",
              "      <td>0.856725</td>\n",
              "    </tr>\n",
              "    <tr>\n",
              "      <th>2</th>\n",
              "      <td>relu</td>\n",
              "      <td>256.0</td>\n",
              "      <td>2.0</td>\n",
              "      <td>16.0</td>\n",
              "      <td>1.000000</td>\n",
              "      <td>0.855117</td>\n",
              "      <td>6.847044e-07</td>\n",
              "      <td>0.854512</td>\n",
              "      <td>0.856687</td>\n",
              "    </tr>\n",
              "  </tbody>\n",
              "</table>\n",
              "</div>"
            ],
            "text/plain": [
              "       func  batch  layers  ...      variance       l_b       r_b\n",
              "14  sigmoid  512.0     2.0  ...  9.655786e-07  0.862050  0.864850\n",
              "13  sigmoid  512.0     1.0  ...  2.684715e-06  0.861075  0.865237\n",
              "12  sigmoid  512.0     1.0  ...  2.196684e-06  0.860725  0.864850\n",
              "0      relu  256.0     1.0  ...  2.594550e-05  0.855950  0.867975\n",
              "10  sigmoid  256.0     2.0  ...  5.955572e-07  0.861200  0.863225\n",
              "15  sigmoid  512.0     2.0  ...  9.533378e-07  0.860738  0.863350\n",
              "11  sigmoid  256.0     2.0  ...  3.113886e-07  0.859950  0.861588\n",
              "8   sigmoid  256.0     1.0  ...  7.192476e-06  0.857550  0.864450\n",
              "9   sigmoid  256.0     1.0  ...  3.968065e-06  0.856750  0.862100\n",
              "6      relu  512.0     2.0  ...  4.788909e-07  0.857450  0.859413\n",
              "4      relu  512.0     1.0  ...  2.598073e-06  0.856300  0.860338\n",
              "1      relu  256.0     1.0  ...  5.556693e-06  0.853850  0.860638\n",
              "5      relu  512.0     1.0  ...  3.738071e-06  0.855212  0.860338\n",
              "7      relu  512.0     2.0  ...  5.404648e-06  0.854350  0.860312\n",
              "3      relu  256.0     2.0  ...  7.055506e-07  0.854363  0.856725\n",
              "2      relu  256.0     2.0  ...  6.847044e-07  0.854512  0.856687\n",
              "\n",
              "[16 rows x 9 columns]"
            ]
          },
          "metadata": {
            "tags": []
          },
          "execution_count": 53
        }
      ]
    },
    {
      "cell_type": "markdown",
      "metadata": {
        "id": "gIoHwMf3Lu_S",
        "colab_type": "text"
      },
      "source": [
        "# Выводы\n",
        "\n",
        "Лучшие средние значения на valid выборке показали сети с функцией активации sigmoid, размером батча 512. Топологии: 1 слой с 32 нейронами или 2 слоя с 16 нейронами"
      ]
    },
    {
      "cell_type": "code",
      "metadata": {
        "id": "gfNWWzVBLas9",
        "colab_type": "code",
        "colab": {}
      },
      "source": [
        ""
      ],
      "execution_count": null,
      "outputs": []
    }
  ]
}